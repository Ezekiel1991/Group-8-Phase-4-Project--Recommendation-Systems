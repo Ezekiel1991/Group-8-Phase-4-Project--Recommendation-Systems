{
  "cells": [
    {
      "cell_type": "markdown",
      "metadata": {
        "id": "nvtuTfHnBGdS"
      },
      "source": [
        "#1.**Introduction**"
      ]
    },
    {
      "cell_type": "markdown",
      "metadata": {
        "id": "Pk0QGGgWGQBx"
      },
      "source": [
        "This project aims to develop a movie recommendation system. The system will utilize machine learning techniques to provide personalized movie suggestions based on user ratings and tags. The dataset used for this project is the MovieLens dataset, which contains ratings, tags, movie metadata and links."
      ]
    },
    {
      "cell_type": "markdown",
      "metadata": {
        "id": "oatBsKKpnqrm"
      },
      "source": [
        "#2.**Business** **Understanding**"
      ]
    },
    {
      "cell_type": "markdown",
      "metadata": {
        "id": "nQgLgT-9oX-7"
      },
      "source": [
        "##Objectives"
      ]
    },
    {
      "cell_type": "markdown",
      "metadata": {
        "id": "VjHzrEe5rRCr"
      },
      "source": [
        "\n",
        "1)   Personalised movie recommendations based on users history\n",
        "\n",
        "2)   Investigate how the system performs for new users and new movies (analysis of the cold start problem)\n",
        "\n",
        "3)   Build a deep learning based model that learns from user ratings and movie features to improve recommendation accuracy\n",
        "\n",
        "4)   Optimize recommendation algorithms\n",
        "\n",
        "5)   A dashboard to explore recommendations and engagement insights.\n",
        "\n",
        "\n",
        "\n",
        "\n"
      ]
    },
    {
      "cell_type": "markdown",
      "metadata": {
        "id": "On4RQOH3n5kk"
      },
      "source": [
        "#3.**Data Undestanding**"
      ]
    },
    {
      "cell_type": "markdown",
      "metadata": {
        "id": "hKpu_xk4oxLL"
      },
      "source": [
        "##Libraries"
      ]
    },
    {
      "cell_type": "code",
      "execution_count": null,
      "metadata": {
        "id": "8nAskryvkPO-",
        "colab": {
          "base_uri": "https://localhost:8080/"
        },
        "outputId": "f6dfa31c-f6b5-4a06-f1d7-1245830413ee"
      },
      "outputs": [
        {
          "output_type": "stream",
          "name": "stdout",
          "text": [
            "Requirement already satisfied: numpy==1.23.5 in /usr/local/lib/python3.11/dist-packages (1.23.5)\n",
            "Collecting scikit-surprise\n",
            "  Using cached scikit_surprise-1.1.4.tar.gz (154 kB)\n",
            "  Installing build dependencies ... \u001b[?25l\u001b[?25hdone\n",
            "  Getting requirements to build wheel ... \u001b[?25l\u001b[?25hdone\n",
            "  Preparing metadata (pyproject.toml) ... \u001b[?25l\u001b[?25hdone\n",
            "Requirement already satisfied: joblib>=1.2.0 in /usr/local/lib/python3.11/dist-packages (from scikit-surprise) (1.4.2)\n",
            "Requirement already satisfied: numpy>=1.19.5 in /usr/local/lib/python3.11/dist-packages (from scikit-surprise) (1.23.5)\n",
            "Requirement already satisfied: scipy>=1.6.0 in /usr/local/lib/python3.11/dist-packages (from scikit-surprise) (1.14.1)\n",
            "Building wheels for collected packages: scikit-surprise\n",
            "  Building wheel for scikit-surprise (pyproject.toml) ... \u001b[?25l\u001b[?25hdone\n",
            "  Created wheel for scikit-surprise: filename=scikit_surprise-1.1.4-cp311-cp311-linux_x86_64.whl size=2505209 sha256=7fad6af40fc03f2270f2b1c89a7c17c0b7ab9948617b9e4305baf8def62bfd21\n",
            "  Stored in directory: /root/.cache/pip/wheels/2a/8f/6e/7e2899163e2d85d8266daab4aa1cdabec7a6c56f83c015b5af\n",
            "Successfully built scikit-surprise\n",
            "Installing collected packages: scikit-surprise\n",
            "Successfully installed scikit-surprise-1.1.4\n"
          ]
        }
      ],
      "source": [
        "# Import neccesary Libraries.\n",
        "import numpy as np\n",
        "import pandas as pd\n",
        "import matplotlib.pyplot as plt\n",
        "import seaborn as sns\n",
        "sns.set(style='darkgrid')\n",
        "import warnings\n",
        "warnings.filterwarnings('ignore')\n",
        "\n",
        "from sklearn.preprocessing import LabelEncoder\n",
        "from sklearn.feature_extraction.text import TfidfVectorizer\n",
        "from sklearn.preprocessing import MinMaxScaler\n",
        "from sklearn.preprocessing import MultiLabelBinarizer\n",
        "\n",
        "# pip install scikit-surprise\n",
        "# conda install -c conda-forge scikit-surprise\n",
        "!pip install numpy==1.23.5\n",
        "!pip install --prefer-binary scikit-surprise\n",
        "\n",
        "\n",
        "\n",
        "\n",
        "from surprise import Dataset, Reader\n",
        "from surprise.model_selection import cross_validate\n",
        "from surprise import accuracy\n",
        "from surprise import KNNBasic\n",
        "from surprise import SVD\n",
        "from surprise.model_selection import train_test_split\n",
        "\n",
        "\n"
      ]
    },
    {
      "cell_type": "markdown",
      "metadata": {
        "id": "PEQKnXxIos9r"
      },
      "source": [
        "##Import Datasets"
      ]
    },
    {
      "cell_type": "code",
      "source": [
        "import zipfile\n",
        "import os\n",
        "\n",
        "zip_path = 'ml-latest-small.zip'\n",
        "\n",
        "# Extract and flatten files from subfolders\n",
        "with zipfile.ZipFile(zip_path, 'r') as zip_ref:\n",
        "    for file in zip_ref.namelist():\n",
        "        if file.endswith('.csv'):\n",
        "            # Strip directory structure\n",
        "            file_name = os.path.basename(file)\n",
        "            with zip_ref.open(file) as source, open(file_name, 'wb') as target:\n",
        "                target.write(source.read())\n",
        "\n",
        "# Now you can read the files directly\n",
        "import pandas as pd\n",
        "\n",
        "movies = pd.read_csv('movies.csv')\n",
        "ratings = pd.read_csv('ratings.csv')\n",
        "tags = pd.read_csv('tags.csv')\n",
        "\n",
        "print(f\"Movies: {movies.shape}\")\n",
        "print(f\"Ratings: {ratings.shape}\")\n",
        "print(f\"Tags: {tags.shape}\")\n"
      ],
      "metadata": {
        "colab": {
          "base_uri": "https://localhost:8080/"
        },
        "id": "qg2byLuFUaCN",
        "outputId": "87216967-071c-4cd2-f6f8-2138922517c8"
      },
      "execution_count": null,
      "outputs": [
        {
          "output_type": "stream",
          "name": "stdout",
          "text": [
            "Movies: (9742, 3)\n",
            "Ratings: (100836, 4)\n",
            "Tags: (3683, 4)\n"
          ]
        }
      ]
    },
    {
      "cell_type": "code",
      "execution_count": null,
      "metadata": {
        "colab": {
          "base_uri": "https://localhost:8080/"
        },
        "id": "n_IvFpKcrr8M",
        "outputId": "95effa79-7988-434b-ae84-42686a773918"
      },
      "outputs": [
        {
          "output_type": "stream",
          "name": "stdout",
          "text": [
            "Movies: (9742, 3)\n",
            "Ratings: (100836, 4)\n",
            "Tags: (3683, 4)\n"
          ]
        }
      ],
      "source": [
        "# Load data\n",
        "movies = pd.read_csv('movies.csv')\n",
        "ratings = pd.read_csv('ratings.csv')\n",
        "tags = pd.read_csv('tags.csv')\n",
        "print(f\"Movies: {movies.shape}\")\n",
        "print(f\"Ratings: {ratings.shape}\")\n",
        "print(f\"Tags: {tags.shape}\")"
      ]
    },
    {
      "cell_type": "code",
      "execution_count": null,
      "metadata": {
        "colab": {
          "base_uri": "https://localhost:8080/"
        },
        "id": "UK-lrQW6Eigq",
        "outputId": "92df430d-1d89-4405-fe82-d4cbdf6446f6"
      },
      "outputs": [
        {
          "output_type": "stream",
          "name": "stdout",
          "text": [
            "   movieId                               title  \\\n",
            "0        1                    Toy Story (1995)   \n",
            "1        2                      Jumanji (1995)   \n",
            "2        3             Grumpier Old Men (1995)   \n",
            "3        4            Waiting to Exhale (1995)   \n",
            "4        5  Father of the Bride Part II (1995)   \n",
            "\n",
            "                                        genres  \n",
            "0  Adventure|Animation|Children|Comedy|Fantasy  \n",
            "1                   Adventure|Children|Fantasy  \n",
            "2                               Comedy|Romance  \n",
            "3                         Comedy|Drama|Romance  \n",
            "4                                       Comedy  \n"
          ]
        }
      ],
      "source": [
        "print(movies.head())"
      ]
    },
    {
      "cell_type": "code",
      "execution_count": null,
      "metadata": {
        "colab": {
          "base_uri": "https://localhost:8080/"
        },
        "id": "cdTWFGBREqwu",
        "outputId": "1232e2e2-e89e-4335-a769-998fb60da23c"
      },
      "outputs": [
        {
          "output_type": "stream",
          "name": "stdout",
          "text": [
            "   userId  movieId  rating  timestamp\n",
            "0       1        1     4.0  964982703\n",
            "1       1        3     4.0  964981247\n",
            "2       1        6     4.0  964982224\n",
            "3       1       47     5.0  964983815\n",
            "4       1       50     5.0  964982931\n"
          ]
        }
      ],
      "source": [
        "print(ratings.head())"
      ]
    },
    {
      "cell_type": "code",
      "execution_count": null,
      "metadata": {
        "colab": {
          "base_uri": "https://localhost:8080/"
        },
        "id": "qGeZnSp9EurW",
        "outputId": "609d0c8d-ecb5-491f-9908-46074c308022"
      },
      "outputs": [
        {
          "output_type": "stream",
          "name": "stdout",
          "text": [
            "   userId  movieId              tag   timestamp\n",
            "0       2    60756            funny  1445714994\n",
            "1       2    60756  Highly quotable  1445714996\n",
            "2       2    60756     will ferrell  1445714992\n",
            "3       2    89774     Boxing story  1445715207\n",
            "4       2    89774              MMA  1445715200\n"
          ]
        }
      ],
      "source": [
        "print(tags.head())"
      ]
    },
    {
      "cell_type": "code",
      "execution_count": null,
      "metadata": {
        "colab": {
          "base_uri": "https://localhost:8080/"
        },
        "id": "T9Y8ToDFE22-",
        "outputId": "8e9dba79-a650-488c-e23a-70266544f88c"
      },
      "outputs": [
        {
          "name": "stdout",
          "output_type": "stream",
          "text": [
            "<class 'pandas.core.frame.DataFrame'>\n",
            "RangeIndex: 9742 entries, 0 to 9741\n",
            "Data columns (total 3 columns):\n",
            " #   Column   Non-Null Count  Dtype \n",
            "---  ------   --------------  ----- \n",
            " 0   movieId  9742 non-null   int64 \n",
            " 1   title    9742 non-null   object\n",
            " 2   genres   9742 non-null   object\n",
            "dtypes: int64(1), object(2)\n",
            "memory usage: 228.5+ KB\n",
            "None\n"
          ]
        }
      ],
      "source": [
        "print(movies.info())"
      ]
    },
    {
      "cell_type": "code",
      "execution_count": null,
      "metadata": {
        "colab": {
          "base_uri": "https://localhost:8080/"
        },
        "id": "izf3k0ZlE_cO",
        "outputId": "693ee814-b33b-4206-c864-388a75344595"
      },
      "outputs": [
        {
          "name": "stdout",
          "output_type": "stream",
          "text": [
            "<class 'pandas.core.frame.DataFrame'>\n",
            "RangeIndex: 100836 entries, 0 to 100835\n",
            "Data columns (total 4 columns):\n",
            " #   Column     Non-Null Count   Dtype  \n",
            "---  ------     --------------   -----  \n",
            " 0   userId     100836 non-null  int64  \n",
            " 1   movieId    100836 non-null  int64  \n",
            " 2   rating     100836 non-null  float64\n",
            " 3   timestamp  100836 non-null  int64  \n",
            "dtypes: float64(1), int64(3)\n",
            "memory usage: 3.1 MB\n",
            "None\n"
          ]
        }
      ],
      "source": [
        "print(ratings.info())"
      ]
    },
    {
      "cell_type": "code",
      "execution_count": null,
      "metadata": {
        "colab": {
          "base_uri": "https://localhost:8080/"
        },
        "id": "QIqUUY2nFA4G",
        "outputId": "d7bf442a-c0e8-43f1-a8ee-511ef146a7f0"
      },
      "outputs": [
        {
          "name": "stdout",
          "output_type": "stream",
          "text": [
            "<class 'pandas.core.frame.DataFrame'>\n",
            "RangeIndex: 3683 entries, 0 to 3682\n",
            "Data columns (total 4 columns):\n",
            " #   Column     Non-Null Count  Dtype \n",
            "---  ------     --------------  ----- \n",
            " 0   userId     3683 non-null   int64 \n",
            " 1   movieId    3683 non-null   int64 \n",
            " 2   tag        3683 non-null   object\n",
            " 3   timestamp  3683 non-null   int64 \n",
            "dtypes: int64(3), object(1)\n",
            "memory usage: 115.2+ KB\n",
            "None\n"
          ]
        }
      ],
      "source": [
        "print(tags.info())"
      ]
    },
    {
      "cell_type": "markdown",
      "metadata": {
        "id": "4CxaruVupQhr"
      },
      "source": [
        "#4.**Data Cleaning**"
      ]
    },
    {
      "cell_type": "markdown",
      "metadata": {
        "id": "ArL85y_WpbUr"
      },
      "source": [
        "##Correct Formats"
      ]
    },
    {
      "cell_type": "code",
      "execution_count": null,
      "metadata": {
        "colab": {
          "base_uri": "https://localhost:8080/"
        },
        "id": "diMHaBIlt4SN",
        "outputId": "7a4afb44-8843-424d-dcd5-90dc58ae0582"
      },
      "outputs": [
        {
          "output_type": "stream",
          "name": "stdout",
          "text": [
            "<class 'pandas.core.frame.DataFrame'>\n",
            "RangeIndex: 9742 entries, 0 to 9741\n",
            "Data columns (total 3 columns):\n",
            " #   Column   Non-Null Count  Dtype \n",
            "---  ------   --------------  ----- \n",
            " 0   movieId  9742 non-null   int64 \n",
            " 1   title    9742 non-null   object\n",
            " 2   genres   9742 non-null   object\n",
            "dtypes: int64(1), object(2)\n",
            "memory usage: 228.5+ KB\n",
            "None\n"
          ]
        }
      ],
      "source": [
        "# Confirming the format of individual columns\n",
        "print(movies.info())"
      ]
    },
    {
      "cell_type": "markdown",
      "metadata": {
        "id": "3ZSgDqhCpg8U"
      },
      "source": [
        "##Confirming Mising values"
      ]
    },
    {
      "cell_type": "code",
      "execution_count": null,
      "metadata": {
        "colab": {
          "base_uri": "https://localhost:8080/"
        },
        "id": "k9cMv2jbuL4l",
        "outputId": "8905306d-3881-48bc-a8b6-f8bff018ef9d"
      },
      "outputs": [
        {
          "output_type": "stream",
          "name": "stdout",
          "text": [
            "movieId    0\n",
            "title      0\n",
            "genres     0\n",
            "dtype: int64\n",
            "userId       0\n",
            "movieId      0\n",
            "rating       0\n",
            "timestamp    0\n",
            "dtype: int64\n",
            "userId       0\n",
            "movieId      0\n",
            "tag          0\n",
            "timestamp    0\n",
            "dtype: int64\n"
          ]
        }
      ],
      "source": [
        "#Confirming whether there are missing values\n",
        "print(movies.isnull().sum())\n",
        "print(ratings.isnull().sum())\n",
        "print(tags.isnull().sum())"
      ]
    },
    {
      "cell_type": "markdown",
      "metadata": {
        "id": "NfJ-OeYvpUMz"
      },
      "source": [
        "##Merging the datasets"
      ]
    },
    {
      "cell_type": "code",
      "execution_count": null,
      "metadata": {
        "colab": {
          "base_uri": "https://localhost:8080/"
        },
        "id": "z-qhk0SgFn8W",
        "outputId": "d4623b9c-a9d3-49ca-c409-5c9f86519171"
      },
      "outputs": [
        {
          "output_type": "stream",
          "name": "stdout",
          "text": [
            "   movieId                        title  \\\n",
            "0        1             Toy Story (1995)   \n",
            "1        3      Grumpier Old Men (1995)   \n",
            "2        6                  Heat (1995)   \n",
            "3       47  Seven (a.k.a. Se7en) (1995)   \n",
            "4       50   Usual Suspects, The (1995)   \n",
            "\n",
            "                                        genres  userId  rating  timestamp_x  \\\n",
            "0  Adventure|Animation|Children|Comedy|Fantasy     1.0     4.0  964982703.0   \n",
            "1                               Comedy|Romance     1.0     4.0  964981247.0   \n",
            "2                        Action|Crime|Thriller     1.0     4.0  964982224.0   \n",
            "3                             Mystery|Thriller     1.0     5.0  964983815.0   \n",
            "4                       Crime|Mystery|Thriller     1.0     5.0  964982931.0   \n",
            "\n",
            "   tag  timestamp_y  \n",
            "0  NaN          NaN  \n",
            "1  NaN          NaN  \n",
            "2  NaN          NaN  \n",
            "3  NaN          NaN  \n",
            "4  NaN          NaN  \n"
          ]
        }
      ],
      "source": [
        "# Merging the datasets into a common dataset\n",
        "movie_data = pd.merge(movies, ratings, on='movieId', how='outer')\n",
        "movie_data = pd.merge(movie_data, tags, on=['userId', 'movieId'], how='outer')\n",
        "print(movie_data.head())"
      ]
    },
    {
      "cell_type": "markdown",
      "metadata": {
        "id": "F9_bUXU-gu1C"
      },
      "source": [
        "## Checking Duplicates"
      ]
    },
    {
      "cell_type": "code",
      "execution_count": null,
      "metadata": {
        "colab": {
          "base_uri": "https://localhost:8080/"
        },
        "id": "E_8xXfOTgtxU",
        "outputId": "8980f8a4-0e0c-4575-e771-09a4d96c9e01"
      },
      "outputs": [
        {
          "data": {
            "text/plain": [
              "0"
            ]
          },
          "execution_count": 107,
          "metadata": {},
          "output_type": "execute_result"
        }
      ],
      "source": [
        "#Checking for duplicates in the movies_data.\n",
        "#There were no duplicates in the dataset\n",
        "movie_data.duplicated().sum()"
      ]
    },
    {
      "cell_type": "markdown",
      "metadata": {
        "id": "c50ANE43pDXb"
      },
      "source": [
        "##Exploratory Data Analysis(EDA)"
      ]
    },
    {
      "cell_type": "code",
      "execution_count": null,
      "metadata": {
        "colab": {
          "base_uri": "https://localhost:8080/"
        },
        "id": "Wsbc1dK-GATz",
        "outputId": "64674386-7b06-4362-f7d0-f7fc86bad8f2"
      },
      "outputs": [
        {
          "output_type": "stream",
          "name": "stdout",
          "text": [
            "(102902, 8)\n"
          ]
        }
      ],
      "source": [
        "print(movie_data.shape)"
      ]
    },
    {
      "cell_type": "code",
      "execution_count": null,
      "metadata": {
        "colab": {
          "base_uri": "https://localhost:8080/",
          "height": 206
        },
        "id": "lE6Nptnz3sfs",
        "outputId": "abb30bb2-0b34-42d9-85f8-f8a861fd2c0e"
      },
      "outputs": [
        {
          "output_type": "execute_result",
          "data": {
            "text/plain": [
              "   movieId                        title  \\\n",
              "0        1             Toy Story (1995)   \n",
              "1        3      Grumpier Old Men (1995)   \n",
              "2        6                  Heat (1995)   \n",
              "3       47  Seven (a.k.a. Se7en) (1995)   \n",
              "4       50   Usual Suspects, The (1995)   \n",
              "\n",
              "                                        genres  userId  rating  timestamp_x  \\\n",
              "0  Adventure|Animation|Children|Comedy|Fantasy     1.0     4.0  964982703.0   \n",
              "1                               Comedy|Romance     1.0     4.0  964981247.0   \n",
              "2                        Action|Crime|Thriller     1.0     4.0  964982224.0   \n",
              "3                             Mystery|Thriller     1.0     5.0  964983815.0   \n",
              "4                       Crime|Mystery|Thriller     1.0     5.0  964982931.0   \n",
              "\n",
              "   tag  timestamp_y        date    year  \n",
              "0  NaN          NaN  2000-07-30  2000.0  \n",
              "1  NaN          NaN  2000-07-30  2000.0  \n",
              "2  NaN          NaN  2000-07-30  2000.0  \n",
              "3  NaN          NaN  2000-07-30  2000.0  \n",
              "4  NaN          NaN  2000-07-30  2000.0  "
            ],
            "text/html": [
              "\n",
              "  <div id=\"df-6620e767-14b8-436c-84ec-c8099dff942c\" class=\"colab-df-container\">\n",
              "    <div>\n",
              "<style scoped>\n",
              "    .dataframe tbody tr th:only-of-type {\n",
              "        vertical-align: middle;\n",
              "    }\n",
              "\n",
              "    .dataframe tbody tr th {\n",
              "        vertical-align: top;\n",
              "    }\n",
              "\n",
              "    .dataframe thead th {\n",
              "        text-align: right;\n",
              "    }\n",
              "</style>\n",
              "<table border=\"1\" class=\"dataframe\">\n",
              "  <thead>\n",
              "    <tr style=\"text-align: right;\">\n",
              "      <th></th>\n",
              "      <th>movieId</th>\n",
              "      <th>title</th>\n",
              "      <th>genres</th>\n",
              "      <th>userId</th>\n",
              "      <th>rating</th>\n",
              "      <th>timestamp_x</th>\n",
              "      <th>tag</th>\n",
              "      <th>timestamp_y</th>\n",
              "      <th>date</th>\n",
              "      <th>year</th>\n",
              "    </tr>\n",
              "  </thead>\n",
              "  <tbody>\n",
              "    <tr>\n",
              "      <th>0</th>\n",
              "      <td>1</td>\n",
              "      <td>Toy Story (1995)</td>\n",
              "      <td>Adventure|Animation|Children|Comedy|Fantasy</td>\n",
              "      <td>1.0</td>\n",
              "      <td>4.0</td>\n",
              "      <td>964982703.0</td>\n",
              "      <td>NaN</td>\n",
              "      <td>NaN</td>\n",
              "      <td>2000-07-30</td>\n",
              "      <td>2000.0</td>\n",
              "    </tr>\n",
              "    <tr>\n",
              "      <th>1</th>\n",
              "      <td>3</td>\n",
              "      <td>Grumpier Old Men (1995)</td>\n",
              "      <td>Comedy|Romance</td>\n",
              "      <td>1.0</td>\n",
              "      <td>4.0</td>\n",
              "      <td>964981247.0</td>\n",
              "      <td>NaN</td>\n",
              "      <td>NaN</td>\n",
              "      <td>2000-07-30</td>\n",
              "      <td>2000.0</td>\n",
              "    </tr>\n",
              "    <tr>\n",
              "      <th>2</th>\n",
              "      <td>6</td>\n",
              "      <td>Heat (1995)</td>\n",
              "      <td>Action|Crime|Thriller</td>\n",
              "      <td>1.0</td>\n",
              "      <td>4.0</td>\n",
              "      <td>964982224.0</td>\n",
              "      <td>NaN</td>\n",
              "      <td>NaN</td>\n",
              "      <td>2000-07-30</td>\n",
              "      <td>2000.0</td>\n",
              "    </tr>\n",
              "    <tr>\n",
              "      <th>3</th>\n",
              "      <td>47</td>\n",
              "      <td>Seven (a.k.a. Se7en) (1995)</td>\n",
              "      <td>Mystery|Thriller</td>\n",
              "      <td>1.0</td>\n",
              "      <td>5.0</td>\n",
              "      <td>964983815.0</td>\n",
              "      <td>NaN</td>\n",
              "      <td>NaN</td>\n",
              "      <td>2000-07-30</td>\n",
              "      <td>2000.0</td>\n",
              "    </tr>\n",
              "    <tr>\n",
              "      <th>4</th>\n",
              "      <td>50</td>\n",
              "      <td>Usual Suspects, The (1995)</td>\n",
              "      <td>Crime|Mystery|Thriller</td>\n",
              "      <td>1.0</td>\n",
              "      <td>5.0</td>\n",
              "      <td>964982931.0</td>\n",
              "      <td>NaN</td>\n",
              "      <td>NaN</td>\n",
              "      <td>2000-07-30</td>\n",
              "      <td>2000.0</td>\n",
              "    </tr>\n",
              "  </tbody>\n",
              "</table>\n",
              "</div>\n",
              "    <div class=\"colab-df-buttons\">\n",
              "\n",
              "  <div class=\"colab-df-container\">\n",
              "    <button class=\"colab-df-convert\" onclick=\"convertToInteractive('df-6620e767-14b8-436c-84ec-c8099dff942c')\"\n",
              "            title=\"Convert this dataframe to an interactive table.\"\n",
              "            style=\"display:none;\">\n",
              "\n",
              "  <svg xmlns=\"http://www.w3.org/2000/svg\" height=\"24px\" viewBox=\"0 -960 960 960\">\n",
              "    <path d=\"M120-120v-720h720v720H120Zm60-500h600v-160H180v160Zm220 220h160v-160H400v160Zm0 220h160v-160H400v160ZM180-400h160v-160H180v160Zm440 0h160v-160H620v160ZM180-180h160v-160H180v160Zm440 0h160v-160H620v160Z\"/>\n",
              "  </svg>\n",
              "    </button>\n",
              "\n",
              "  <style>\n",
              "    .colab-df-container {\n",
              "      display:flex;\n",
              "      gap: 12px;\n",
              "    }\n",
              "\n",
              "    .colab-df-convert {\n",
              "      background-color: #E8F0FE;\n",
              "      border: none;\n",
              "      border-radius: 50%;\n",
              "      cursor: pointer;\n",
              "      display: none;\n",
              "      fill: #1967D2;\n",
              "      height: 32px;\n",
              "      padding: 0 0 0 0;\n",
              "      width: 32px;\n",
              "    }\n",
              "\n",
              "    .colab-df-convert:hover {\n",
              "      background-color: #E2EBFA;\n",
              "      box-shadow: 0px 1px 2px rgba(60, 64, 67, 0.3), 0px 1px 3px 1px rgba(60, 64, 67, 0.15);\n",
              "      fill: #174EA6;\n",
              "    }\n",
              "\n",
              "    .colab-df-buttons div {\n",
              "      margin-bottom: 4px;\n",
              "    }\n",
              "\n",
              "    [theme=dark] .colab-df-convert {\n",
              "      background-color: #3B4455;\n",
              "      fill: #D2E3FC;\n",
              "    }\n",
              "\n",
              "    [theme=dark] .colab-df-convert:hover {\n",
              "      background-color: #434B5C;\n",
              "      box-shadow: 0px 1px 3px 1px rgba(0, 0, 0, 0.15);\n",
              "      filter: drop-shadow(0px 1px 2px rgba(0, 0, 0, 0.3));\n",
              "      fill: #FFFFFF;\n",
              "    }\n",
              "  </style>\n",
              "\n",
              "    <script>\n",
              "      const buttonEl =\n",
              "        document.querySelector('#df-6620e767-14b8-436c-84ec-c8099dff942c button.colab-df-convert');\n",
              "      buttonEl.style.display =\n",
              "        google.colab.kernel.accessAllowed ? 'block' : 'none';\n",
              "\n",
              "      async function convertToInteractive(key) {\n",
              "        const element = document.querySelector('#df-6620e767-14b8-436c-84ec-c8099dff942c');\n",
              "        const dataTable =\n",
              "          await google.colab.kernel.invokeFunction('convertToInteractive',\n",
              "                                                    [key], {});\n",
              "        if (!dataTable) return;\n",
              "\n",
              "        const docLinkHtml = 'Like what you see? Visit the ' +\n",
              "          '<a target=\"_blank\" href=https://colab.research.google.com/notebooks/data_table.ipynb>data table notebook</a>'\n",
              "          + ' to learn more about interactive tables.';\n",
              "        element.innerHTML = '';\n",
              "        dataTable['output_type'] = 'display_data';\n",
              "        await google.colab.output.renderOutput(dataTable, element);\n",
              "        const docLink = document.createElement('div');\n",
              "        docLink.innerHTML = docLinkHtml;\n",
              "        element.appendChild(docLink);\n",
              "      }\n",
              "    </script>\n",
              "  </div>\n",
              "\n",
              "\n",
              "<div id=\"df-dfc1e299-4235-4119-9ace-9b85a4918be3\">\n",
              "  <button class=\"colab-df-quickchart\" onclick=\"quickchart('df-dfc1e299-4235-4119-9ace-9b85a4918be3')\"\n",
              "            title=\"Suggest charts\"\n",
              "            style=\"display:none;\">\n",
              "\n",
              "<svg xmlns=\"http://www.w3.org/2000/svg\" height=\"24px\"viewBox=\"0 0 24 24\"\n",
              "     width=\"24px\">\n",
              "    <g>\n",
              "        <path d=\"M19 3H5c-1.1 0-2 .9-2 2v14c0 1.1.9 2 2 2h14c1.1 0 2-.9 2-2V5c0-1.1-.9-2-2-2zM9 17H7v-7h2v7zm4 0h-2V7h2v10zm4 0h-2v-4h2v4z\"/>\n",
              "    </g>\n",
              "</svg>\n",
              "  </button>\n",
              "\n",
              "<style>\n",
              "  .colab-df-quickchart {\n",
              "      --bg-color: #E8F0FE;\n",
              "      --fill-color: #1967D2;\n",
              "      --hover-bg-color: #E2EBFA;\n",
              "      --hover-fill-color: #174EA6;\n",
              "      --disabled-fill-color: #AAA;\n",
              "      --disabled-bg-color: #DDD;\n",
              "  }\n",
              "\n",
              "  [theme=dark] .colab-df-quickchart {\n",
              "      --bg-color: #3B4455;\n",
              "      --fill-color: #D2E3FC;\n",
              "      --hover-bg-color: #434B5C;\n",
              "      --hover-fill-color: #FFFFFF;\n",
              "      --disabled-bg-color: #3B4455;\n",
              "      --disabled-fill-color: #666;\n",
              "  }\n",
              "\n",
              "  .colab-df-quickchart {\n",
              "    background-color: var(--bg-color);\n",
              "    border: none;\n",
              "    border-radius: 50%;\n",
              "    cursor: pointer;\n",
              "    display: none;\n",
              "    fill: var(--fill-color);\n",
              "    height: 32px;\n",
              "    padding: 0;\n",
              "    width: 32px;\n",
              "  }\n",
              "\n",
              "  .colab-df-quickchart:hover {\n",
              "    background-color: var(--hover-bg-color);\n",
              "    box-shadow: 0 1px 2px rgba(60, 64, 67, 0.3), 0 1px 3px 1px rgba(60, 64, 67, 0.15);\n",
              "    fill: var(--button-hover-fill-color);\n",
              "  }\n",
              "\n",
              "  .colab-df-quickchart-complete:disabled,\n",
              "  .colab-df-quickchart-complete:disabled:hover {\n",
              "    background-color: var(--disabled-bg-color);\n",
              "    fill: var(--disabled-fill-color);\n",
              "    box-shadow: none;\n",
              "  }\n",
              "\n",
              "  .colab-df-spinner {\n",
              "    border: 2px solid var(--fill-color);\n",
              "    border-color: transparent;\n",
              "    border-bottom-color: var(--fill-color);\n",
              "    animation:\n",
              "      spin 1s steps(1) infinite;\n",
              "  }\n",
              "\n",
              "  @keyframes spin {\n",
              "    0% {\n",
              "      border-color: transparent;\n",
              "      border-bottom-color: var(--fill-color);\n",
              "      border-left-color: var(--fill-color);\n",
              "    }\n",
              "    20% {\n",
              "      border-color: transparent;\n",
              "      border-left-color: var(--fill-color);\n",
              "      border-top-color: var(--fill-color);\n",
              "    }\n",
              "    30% {\n",
              "      border-color: transparent;\n",
              "      border-left-color: var(--fill-color);\n",
              "      border-top-color: var(--fill-color);\n",
              "      border-right-color: var(--fill-color);\n",
              "    }\n",
              "    40% {\n",
              "      border-color: transparent;\n",
              "      border-right-color: var(--fill-color);\n",
              "      border-top-color: var(--fill-color);\n",
              "    }\n",
              "    60% {\n",
              "      border-color: transparent;\n",
              "      border-right-color: var(--fill-color);\n",
              "    }\n",
              "    80% {\n",
              "      border-color: transparent;\n",
              "      border-right-color: var(--fill-color);\n",
              "      border-bottom-color: var(--fill-color);\n",
              "    }\n",
              "    90% {\n",
              "      border-color: transparent;\n",
              "      border-bottom-color: var(--fill-color);\n",
              "    }\n",
              "  }\n",
              "</style>\n",
              "\n",
              "  <script>\n",
              "    async function quickchart(key) {\n",
              "      const quickchartButtonEl =\n",
              "        document.querySelector('#' + key + ' button');\n",
              "      quickchartButtonEl.disabled = true;  // To prevent multiple clicks.\n",
              "      quickchartButtonEl.classList.add('colab-df-spinner');\n",
              "      try {\n",
              "        const charts = await google.colab.kernel.invokeFunction(\n",
              "            'suggestCharts', [key], {});\n",
              "      } catch (error) {\n",
              "        console.error('Error during call to suggestCharts:', error);\n",
              "      }\n",
              "      quickchartButtonEl.classList.remove('colab-df-spinner');\n",
              "      quickchartButtonEl.classList.add('colab-df-quickchart-complete');\n",
              "    }\n",
              "    (() => {\n",
              "      let quickchartButtonEl =\n",
              "        document.querySelector('#df-dfc1e299-4235-4119-9ace-9b85a4918be3 button');\n",
              "      quickchartButtonEl.style.display =\n",
              "        google.colab.kernel.accessAllowed ? 'block' : 'none';\n",
              "    })();\n",
              "  </script>\n",
              "</div>\n",
              "\n",
              "    </div>\n",
              "  </div>\n"
            ],
            "application/vnd.google.colaboratory.intrinsic+json": {
              "type": "dataframe",
              "variable_name": "movie_data"
            }
          },
          "metadata": {},
          "execution_count": 13
        }
      ],
      "source": [
        "#Separate the timestamp column into date and year\n",
        "movie_data['date'] = pd.to_datetime(movie_data['timestamp_x'], unit='s').dt.date\n",
        "movie_data['year'] = pd.to_datetime(movie_data['timestamp_x'], unit='s').dt.year\n",
        "movie_data.head()"
      ]
    },
    {
      "cell_type": "code",
      "execution_count": null,
      "metadata": {
        "colab": {
          "base_uri": "https://localhost:8080/"
        },
        "id": "2t3Wfb61GINH",
        "outputId": "320fd534-a2ed-4606-d9cd-e67ec73dc621"
      },
      "outputs": [
        {
          "output_type": "stream",
          "name": "stdout",
          "text": [
            "<class 'pandas.core.frame.DataFrame'>\n",
            "RangeIndex: 102902 entries, 0 to 102901\n",
            "Data columns (total 10 columns):\n",
            " #   Column       Non-Null Count   Dtype  \n",
            "---  ------       --------------   -----  \n",
            " 0   movieId      102902 non-null  int64  \n",
            " 1   title        102695 non-null  object \n",
            " 2   genres       102695 non-null  object \n",
            " 3   userId       102884 non-null  float64\n",
            " 4   rating       102677 non-null  float64\n",
            " 5   timestamp_x  102677 non-null  float64\n",
            " 6   tag          3683 non-null    object \n",
            " 7   timestamp_y  3683 non-null    float64\n",
            " 8   date         102677 non-null  object \n",
            " 9   year         102677 non-null  float64\n",
            "dtypes: float64(5), int64(1), object(4)\n",
            "memory usage: 7.9+ MB\n",
            "None\n"
          ]
        }
      ],
      "source": [
        "print(movie_data.info())"
      ]
    },
    {
      "cell_type": "code",
      "execution_count": null,
      "metadata": {
        "colab": {
          "base_uri": "https://localhost:8080/"
        },
        "id": "aUAtHiAsGJzv",
        "outputId": "20e79cb2-f4a2-468a-e815-bd160f6e00c4"
      },
      "outputs": [
        {
          "output_type": "stream",
          "name": "stdout",
          "text": [
            "             movieId         userId         rating   timestamp_x  \\\n",
            "count  102902.000000  102884.000000  102677.000000  1.026770e+05   \n",
            "mean    19731.937844     328.016028       3.514813  1.209495e+09   \n",
            "std     35868.440724     183.158345       1.043133  2.170117e+08   \n",
            "min         1.000000       1.000000       0.500000  8.281246e+08   \n",
            "25%      1199.000000     177.000000       3.000000  1.019138e+09   \n",
            "50%      3006.000000     330.000000       3.500000  1.186590e+09   \n",
            "75%      8364.000000     477.000000       4.000000  1.439916e+09   \n",
            "max    193609.000000     610.000000       5.000000  1.537799e+09   \n",
            "\n",
            "        timestamp_y           year  \n",
            "count  3.683000e+03  102677.000000  \n",
            "mean   1.320032e+09    2007.837461  \n",
            "std    1.721025e+08       6.915344  \n",
            "min    1.137179e+09    1996.000000  \n",
            "25%    1.137521e+09    2002.000000  \n",
            "50%    1.269833e+09    2007.000000  \n",
            "75%    1.498457e+09    2015.000000  \n",
            "max    1.537099e+09    2018.000000  \n"
          ]
        }
      ],
      "source": [
        "print(movie_data.describe())"
      ]
    },
    {
      "cell_type": "code",
      "execution_count": null,
      "metadata": {
        "colab": {
          "base_uri": "https://localhost:8080/"
        },
        "id": "_zxYpYlyGN7J",
        "outputId": "e9bfbdf9-5125-4697-d8c2-b9c9010af50e"
      },
      "outputs": [
        {
          "output_type": "stream",
          "name": "stdout",
          "text": [
            "Unique values in column 'movieId': 9742\n",
            "Unique values in column 'title': 9737\n",
            "Unique values in column 'genres': 951\n",
            "Unique values in column 'userId': 610\n",
            "Unique values in column 'rating': 10\n",
            "Unique values in column 'timestamp_x': 85043\n",
            "Unique values in column 'tag': 1589\n",
            "Unique values in column 'timestamp_y': 3411\n",
            "Unique values in column 'date': 4110\n",
            "Unique values in column 'year': 23\n"
          ]
        }
      ],
      "source": [
        "# Checking for unique values in the dataset\n",
        "for col in movie_data.columns:\n",
        "    print(f\"Unique values in column '{col}': {movie_data[col].nunique()}\")"
      ]
    },
    {
      "cell_type": "code",
      "execution_count": null,
      "metadata": {
        "colab": {
          "base_uri": "https://localhost:8080/",
          "height": 398
        },
        "id": "xlxRwyuHGZbh",
        "outputId": "c1bfd88c-f2b9-4d17-9b76-d841e36fd96f"
      },
      "outputs": [
        {
          "data": {
            "text/plain": [
              "movieId            0\n",
              "title            207\n",
              "genres           207\n",
              "userId            18\n",
              "rating           225\n",
              "timestamp_x      225\n",
              "tag            99219\n",
              "timestamp_y    99219\n",
              "date             225\n",
              "year             225\n",
              "dtype: int64"
            ]
          },
          "execution_count": 113,
          "metadata": {},
          "output_type": "execute_result"
        }
      ],
      "source": [
        "movie_data.isnull().sum()"
      ]
    },
    {
      "cell_type": "code",
      "execution_count": null,
      "metadata": {
        "colab": {
          "base_uri": "https://localhost:8080/",
          "height": 496
        },
        "id": "SOThbYC6LIIc",
        "outputId": "1b554ab7-1edb-4074-e25c-84eff87a15d5"
      },
      "outputs": [
        {
          "output_type": "display_data",
          "data": {
            "text/plain": [
              "<Figure size 800x500 with 1 Axes>"
            ],
            "image/png": "[encoded data removed]"
          },
          "metadata": {}
        }
      ],
      "source": [
        "#Rating distribution\n",
        "plt.figure(figsize=(8,5))\n",
        "sns.countplot(data=ratings, x='rating', palette='viridis')\n",
        "plt.title('rating distribution')\n",
        "plt.xlabel('rating')\n",
        "plt.ylabel('count')\n",
        "plt.show()"
      ]
    },
    {
      "cell_type": "code",
      "execution_count": null,
      "metadata": {
        "colab": {
          "base_uri": "https://localhost:8080/",
          "height": 398
        },
        "id": "zuxfCXfQGq0_",
        "outputId": "98b46003-b0d5-47e3-bbb3-d31f08e1c00f"
      },
      "outputs": [
        {
          "name": "stdout",
          "output_type": "stream",
          "text": [
            "\n",
            "Top Rated Movies (min 100 ratings):\n"
          ]
        },
        {
          "data": {
            "text/html": [
              "<div>\n",
              "<style scoped>\n",
              "    .dataframe tbody tr th:only-of-type {\n",
              "        vertical-align: middle;\n",
              "    }\n",
              "\n",
              "    .dataframe tbody tr th {\n",
              "        vertical-align: top;\n",
              "    }\n",
              "\n",
              "    .dataframe thead th {\n",
              "        text-align: right;\n",
              "    }\n",
              "</style>\n",
              "<table border=\"1\" class=\"dataframe\">\n",
              "  <thead>\n",
              "    <tr style=\"text-align: right;\">\n",
              "      <th></th>\n",
              "      <th>title</th>\n",
              "      <th>avg_rating</th>\n",
              "      <th>num_ratings</th>\n",
              "    </tr>\n",
              "  </thead>\n",
              "  <tbody>\n",
              "    <tr>\n",
              "      <th>277</th>\n",
              "      <td>Shawshank Redemption, The (1994)</td>\n",
              "      <td>4.429022</td>\n",
              "      <td>317</td>\n",
              "    </tr>\n",
              "    <tr>\n",
              "      <th>659</th>\n",
              "      <td>Godfather, The (1972)</td>\n",
              "      <td>4.289062</td>\n",
              "      <td>192</td>\n",
              "    </tr>\n",
              "    <tr>\n",
              "      <th>2224</th>\n",
              "      <td>Fight Club (1999)</td>\n",
              "      <td>4.272936</td>\n",
              "      <td>218</td>\n",
              "    </tr>\n",
              "    <tr>\n",
              "      <th>921</th>\n",
              "      <td>Godfather: Part II, The (1974)</td>\n",
              "      <td>4.259690</td>\n",
              "      <td>129</td>\n",
              "    </tr>\n",
              "    <tr>\n",
              "      <th>6298</th>\n",
              "      <td>Departed, The (2006)</td>\n",
              "      <td>4.252336</td>\n",
              "      <td>107</td>\n",
              "    </tr>\n",
              "    <tr>\n",
              "      <th>913</th>\n",
              "      <td>Goodfellas (1990)</td>\n",
              "      <td>4.250000</td>\n",
              "      <td>126</td>\n",
              "    </tr>\n",
              "    <tr>\n",
              "      <th>694</th>\n",
              "      <td>Casablanca (1942)</td>\n",
              "      <td>4.240000</td>\n",
              "      <td>100</td>\n",
              "    </tr>\n",
              "    <tr>\n",
              "      <th>6693</th>\n",
              "      <td>Dark Knight, The (2008)</td>\n",
              "      <td>4.238255</td>\n",
              "      <td>149</td>\n",
              "    </tr>\n",
              "    <tr>\n",
              "      <th>46</th>\n",
              "      <td>Usual Suspects, The (1995)</td>\n",
              "      <td>4.237745</td>\n",
              "      <td>204</td>\n",
              "    </tr>\n",
              "    <tr>\n",
              "      <th>898</th>\n",
              "      <td>Princess Bride, The (1987)</td>\n",
              "      <td>4.232394</td>\n",
              "      <td>142</td>\n",
              "    </tr>\n",
              "  </tbody>\n",
              "</table>\n",
              "</div>"
            ],
            "text/plain": [
              "                                 title  avg_rating  num_ratings\n",
              "277   Shawshank Redemption, The (1994)    4.429022          317\n",
              "659              Godfather, The (1972)    4.289062          192\n",
              "2224                 Fight Club (1999)    4.272936          218\n",
              "921     Godfather: Part II, The (1974)    4.259690          129\n",
              "6298              Departed, The (2006)    4.252336          107\n",
              "913                  Goodfellas (1990)    4.250000          126\n",
              "694                  Casablanca (1942)    4.240000          100\n",
              "6693           Dark Knight, The (2008)    4.238255          149\n",
              "46          Usual Suspects, The (1995)    4.237745          204\n",
              "898         Princess Bride, The (1987)    4.232394          142"
            ]
          },
          "metadata": {},
          "output_type": "display_data"
        }
      ],
      "source": [
        "# Average Rating per Movie\n",
        "movie_stats = ratings.groupby('movieId').agg(avg_rating=('rating', 'mean'),\n",
        "                                              num_ratings=('rating', 'count')).reset_index()\n",
        "\n",
        "# Merge with movies\n",
        "movie_stats = movie_stats.merge(movies, on='movieId')\n",
        "\n",
        "# Filter movies with at least 100 ratings\n",
        "top_rated = movie_stats[movie_stats['num_ratings'] >= 100]\n",
        "top_rated = top_rated.sort_values('avg_rating', ascending=False).head(10)\n",
        "\n",
        "print(\"\\nTop Rated Movies (min 100 ratings):\")\n",
        "display(top_rated[['title', 'avg_rating', 'num_ratings']])"
      ]
    },
    {
      "cell_type": "code",
      "execution_count": null,
      "metadata": {
        "colab": {
          "base_uri": "https://localhost:8080/"
        },
        "id": "eQEJntuOGvbf",
        "outputId": "41953f43-75cd-4ec0-e0c5-b3d9434299d5"
      },
      "outputs": [
        {
          "data": {
            "image/png": "[encoded data removed]",
            "text/plain": [
              "<Figure size 720x576 with 2 Axes>"
            ]
          },
          "metadata": {},
          "output_type": "display_data"
        }
      ],
      "source": [
        "# Heatmap of Correlation Matrix (if numerical columns exist)\n",
        "numerical_cols = movie_data.select_dtypes(include=np.number).columns\n",
        "plt.figure(figsize=(10, 8))\n",
        "sns.heatmap(movie_data[numerical_cols].corr(), annot=True, cmap='viridis', fmt=\".2f\")\n",
        "plt.title('Correlation Matrix of Numerical Features')\n",
        "plt.show()"
      ]
    },
    {
      "cell_type": "code",
      "execution_count": null,
      "metadata": {
        "colab": {
          "base_uri": "https://localhost:8080/"
        },
        "id": "-9nV_3XJNrhg",
        "outputId": "3e485f10-b24c-4143-d057-6e2bcfeaa771"
      },
      "outputs": [
        {
          "data": {
            "image/png": "[encoded data removed]",
            "text/plain": [
              "<Figure size 864x432 with 1 Axes>"
            ]
          },
          "metadata": {},
          "output_type": "display_data"
        }
      ],
      "source": [
        "# Genre Analysis\n",
        "# Split genres into individual genre rows\n",
        "genre_counts = movies['genres'].str.split('|').explode().value_counts()\n",
        "\n",
        "plt.figure(figsize=(12, 6))\n",
        "sns.barplot(x=genre_counts.index, y=genre_counts.values, palette='viridis')\n",
        "plt.xticks(rotation=45)\n",
        "plt.title('Number of Movies per Genre')\n",
        "plt.xlabel('Genre')\n",
        "plt.ylabel('Count')\n",
        "plt.show()"
      ]
    },
    {
      "cell_type": "code",
      "execution_count": null,
      "metadata": {
        "colab": {
          "base_uri": "https://localhost:8080/"
        },
        "id": "Jdpjj-GoOEa4",
        "outputId": "91658560-7bdb-43e4-f7e0-ce74e17fdbde"
      },
      "outputs": [
        {
          "data": {
            "image/png": "[encoded data removed]",
            "text/plain": [
              "<Figure size 720x432 with 1 Axes>"
            ]
          },
          "metadata": {},
          "output_type": "display_data"
        }
      ],
      "source": [
        "#Tag Frequency\n",
        "top_tags = tags['tag'].value_counts().head(20)\n",
        "\n",
        "plt.figure(figsize=(10, 6))\n",
        "sns.barplot(x=top_tags.values, y=top_tags.index, palette='viridis')\n",
        "plt.title('Top 20 Tags Used')\n",
        "plt.xlabel('Frequency')\n",
        "plt.ylabel('Tag')\n",
        "plt.show()\n"
      ]
    },
    {
      "cell_type": "markdown",
      "metadata": {
        "id": "ul9tOPFrbUCd"
      },
      "source": [
        "# Data Preprocessing\n"
      ]
    },
    {
      "cell_type": "markdown",
      "metadata": {
        "id": "UXVVjAUxzcKs"
      },
      "source": [
        "#Handling NaNs\n",
        "We begib by handling nans in our columns"
      ]
    },
    {
      "cell_type": "code",
      "execution_count": null,
      "metadata": {
        "colab": {
          "base_uri": "https://localhost:8080/",
          "height": 398
        },
        "id": "O4VuVS0C6JjO",
        "outputId": "fa2fdc5c-c689-482a-adc9-b1cfc33bf085"
      },
      "outputs": [
        {
          "output_type": "execute_result",
          "data": {
            "text/plain": [
              "movieId            0\n",
              "title            207\n",
              "genres           207\n",
              "userId            18\n",
              "rating           225\n",
              "timestamp_x      225\n",
              "tag            99219\n",
              "timestamp_y    99219\n",
              "date             225\n",
              "year             225\n",
              "dtype: int64"
            ],
            "text/html": [
              "<div>\n",
              "<style scoped>\n",
              "    .dataframe tbody tr th:only-of-type {\n",
              "        vertical-align: middle;\n",
              "    }\n",
              "\n",
              "    .dataframe tbody tr th {\n",
              "        vertical-align: top;\n",
              "    }\n",
              "\n",
              "    .dataframe thead th {\n",
              "        text-align: right;\n",
              "    }\n",
              "</style>\n",
              "<table border=\"1\" class=\"dataframe\">\n",
              "  <thead>\n",
              "    <tr style=\"text-align: right;\">\n",
              "      <th></th>\n",
              "      <th>0</th>\n",
              "    </tr>\n",
              "  </thead>\n",
              "  <tbody>\n",
              "    <tr>\n",
              "      <th>movieId</th>\n",
              "      <td>0</td>\n",
              "    </tr>\n",
              "    <tr>\n",
              "      <th>title</th>\n",
              "      <td>207</td>\n",
              "    </tr>\n",
              "    <tr>\n",
              "      <th>genres</th>\n",
              "      <td>207</td>\n",
              "    </tr>\n",
              "    <tr>\n",
              "      <th>userId</th>\n",
              "      <td>18</td>\n",
              "    </tr>\n",
              "    <tr>\n",
              "      <th>rating</th>\n",
              "      <td>225</td>\n",
              "    </tr>\n",
              "    <tr>\n",
              "      <th>timestamp_x</th>\n",
              "      <td>225</td>\n",
              "    </tr>\n",
              "    <tr>\n",
              "      <th>tag</th>\n",
              "      <td>99219</td>\n",
              "    </tr>\n",
              "    <tr>\n",
              "      <th>timestamp_y</th>\n",
              "      <td>99219</td>\n",
              "    </tr>\n",
              "    <tr>\n",
              "      <th>date</th>\n",
              "      <td>225</td>\n",
              "    </tr>\n",
              "    <tr>\n",
              "      <th>year</th>\n",
              "      <td>225</td>\n",
              "    </tr>\n",
              "  </tbody>\n",
              "</table>\n",
              "</div><br><label><b>dtype:</b> int64</label>"
            ]
          },
          "metadata": {},
          "execution_count": 18
        }
      ],
      "source": [
        "movie_data.isnull().sum()"
      ]
    },
    {
      "cell_type": "code",
      "execution_count": null,
      "metadata": {
        "id": "M8wovNIizbKn"
      },
      "outputs": [],
      "source": [
        "#replace missing values\n",
        "movie_data['title'] = movie_data['title'].astype(str).fillna('')\n",
        "movie_data['tag'] = movie_data['tag'].astype(str).fillna('')\n",
        "movie_data['genres'] = movie_data['genres'].astype(str).fillna('')\n",
        "movie_data['rating'] = movie_data['rating'].fillna(movie_data['rating'].mean())\n",
        "movie_data = movie_data.dropna(subset=['userId'])"
      ]
    },
    {
      "cell_type": "markdown",
      "metadata": {
        "id": "0NyPbn5C73cq"
      },
      "source": [
        "## Encoding\n",
        "In this step we will encode categorical columns movieid, title, genres, userid, tag into numerical formats.\n",
        "Then we handle the multilabel column genres"
      ]
    },
    {
      "cell_type": "markdown",
      "metadata": {
        "id": "Y1EKrf--vw9d"
      },
      "source": [
        "1st we handle movieid, userid.We encode them into sequential integer indices This code will transform user and movie IDs into consistent encoded IDs like 0,1,2,3,4,5"
      ]
    },
    {
      "cell_type": "code",
      "execution_count": null,
      "metadata": {
        "id": "ExC5PxnV7Wkw"
      },
      "outputs": [],
      "source": [
        "#movieid and userid\n",
        "user_encoder = LabelEncoder()\n",
        "movie_encoder = LabelEncoder()\n",
        "\n",
        "movie_data['userId_encoded'] = user_encoder.fit_transform(movie_data['userId'])\n",
        "movie_data['movieId_encoded'] = movie_encoder.fit_transform(movie_data['movieId'])"
      ]
    },
    {
      "cell_type": "markdown",
      "metadata": {
        "id": "dApjcQ-CcCw8"
      },
      "source": [
        "2nd we perform TF-IDF on the title and tag columns. This will convert text into numeric vectors that reflect how important each word is"
      ]
    },
    {
      "cell_type": "code",
      "execution_count": null,
      "metadata": {
        "id": "pcZxLVfQbFdL"
      },
      "outputs": [],
      "source": [
        "#title and Tags\n",
        "tfidf = TfidfVectorizer(max_features=100)\n",
        "title_tfidf = tfidf.fit_transform(movie_data['title']).toarray()\n",
        "\n",
        "tag_vectorizer = TfidfVectorizer(max_features=100)\n",
        "tag_tfidf = tag_vectorizer.fit_transform(movie_data['tag'].fillna('')).toarray()\n",
        "\n"
      ]
    },
    {
      "cell_type": "markdown",
      "metadata": {
        "id": "bzWhkTj1wGbF"
      },
      "source": [
        "3rd we handle the genres column which is multi-label which means one movie can belong to more than one genre, we will convert it into multi-hot encoding"
      ]
    },
    {
      "cell_type": "code",
      "execution_count": null,
      "metadata": {
        "id": "3vA6qltvvBdO"
      },
      "outputs": [],
      "source": [
        "#Fill NaNs and split genres\n",
        "movie_data['genres'] = movie_data['genres'].astype(str).fillna('')\n",
        "\n",
        "#Get all unique genres\n",
        "all_genres = set(g for genre_list in movie_data['genres'] for g in genre_list)\n",
        "\n",
        "#Create binary columns for each genre\n",
        "for genre in all_genres:\n",
        "    movie_data[f'genre_{genre}'] = movie_data['genres'].apply(lambda x: int(genre in x))\n"
      ]
    },
    {
      "cell_type": "markdown",
      "metadata": {
        "id": "Ac8CmmkJ76q3"
      },
      "source": [
        "##Standardization\n",
        "We normalize the numerical column rating.\n"
      ]
    },
    {
      "cell_type": "code",
      "execution_count": null,
      "metadata": {
        "id": "5GxEgBJvunF8"
      },
      "outputs": [],
      "source": [
        "scaler = MinMaxScaler()\n",
        "movie_data['rating_normalized'] = scaler.fit_transform(movie_data[['rating']])"
      ]
    },
    {
      "cell_type": "code",
      "execution_count": null,
      "metadata": {
        "colab": {
          "base_uri": "https://localhost:8080/"
        },
        "id": "t8mVGBGa4wdf",
        "outputId": "45a97164-d435-4328-85e4-518d7d32a6b5"
      },
      "outputs": [
        {
          "data": {
            "text/html": [
              "<div>\n",
              "<style scoped>\n",
              "    .dataframe tbody tr th:only-of-type {\n",
              "        vertical-align: middle;\n",
              "    }\n",
              "\n",
              "    .dataframe tbody tr th {\n",
              "        vertical-align: top;\n",
              "    }\n",
              "\n",
              "    .dataframe thead th {\n",
              "        text-align: right;\n",
              "    }\n",
              "</style>\n",
              "<table border=\"1\" class=\"dataframe\">\n",
              "  <thead>\n",
              "    <tr style=\"text-align: right;\">\n",
              "      <th></th>\n",
              "      <th>movieId</th>\n",
              "      <th>title</th>\n",
              "      <th>genres</th>\n",
              "      <th>userId</th>\n",
              "      <th>rating</th>\n",
              "      <th>timestamp_x</th>\n",
              "      <th>tag</th>\n",
              "      <th>timestamp_y</th>\n",
              "      <th>date</th>\n",
              "      <th>year</th>\n",
              "      <th>...</th>\n",
              "      <th>genre_|</th>\n",
              "      <th>genre_n</th>\n",
              "      <th>genre_s</th>\n",
              "      <th>genre_r</th>\n",
              "      <th>genre_i</th>\n",
              "      <th>genre_m</th>\n",
              "      <th>genre_H</th>\n",
              "      <th>genre_e</th>\n",
              "      <th>genre_h</th>\n",
              "      <th>rating_normalized</th>\n",
              "    </tr>\n",
              "  </thead>\n",
              "  <tbody>\n",
              "    <tr>\n",
              "      <th>0</th>\n",
              "      <td>1</td>\n",
              "      <td>Toy Story (1995)</td>\n",
              "      <td>Adventure|Animation|Children|Comedy|Fantasy</td>\n",
              "      <td>1.0</td>\n",
              "      <td>4.0</td>\n",
              "      <td>9.649827e+08</td>\n",
              "      <td>nan</td>\n",
              "      <td>NaN</td>\n",
              "      <td>2000-07-30</td>\n",
              "      <td>2000.0</td>\n",
              "      <td>...</td>\n",
              "      <td>1</td>\n",
              "      <td>1</td>\n",
              "      <td>1</td>\n",
              "      <td>1</td>\n",
              "      <td>1</td>\n",
              "      <td>1</td>\n",
              "      <td>0</td>\n",
              "      <td>1</td>\n",
              "      <td>1</td>\n",
              "      <td>0.777778</td>\n",
              "    </tr>\n",
              "    <tr>\n",
              "      <th>1</th>\n",
              "      <td>1</td>\n",
              "      <td>Toy Story (1995)</td>\n",
              "      <td>Adventure|Animation|Children|Comedy|Fantasy</td>\n",
              "      <td>5.0</td>\n",
              "      <td>4.0</td>\n",
              "      <td>8.474350e+08</td>\n",
              "      <td>nan</td>\n",
              "      <td>NaN</td>\n",
              "      <td>1996-11-08</td>\n",
              "      <td>1996.0</td>\n",
              "      <td>...</td>\n",
              "      <td>1</td>\n",
              "      <td>1</td>\n",
              "      <td>1</td>\n",
              "      <td>1</td>\n",
              "      <td>1</td>\n",
              "      <td>1</td>\n",
              "      <td>0</td>\n",
              "      <td>1</td>\n",
              "      <td>1</td>\n",
              "      <td>0.777778</td>\n",
              "    </tr>\n",
              "    <tr>\n",
              "      <th>2</th>\n",
              "      <td>1</td>\n",
              "      <td>Toy Story (1995)</td>\n",
              "      <td>Adventure|Animation|Children|Comedy|Fantasy</td>\n",
              "      <td>7.0</td>\n",
              "      <td>4.5</td>\n",
              "      <td>1.106636e+09</td>\n",
              "      <td>nan</td>\n",
              "      <td>NaN</td>\n",
              "      <td>2005-01-25</td>\n",
              "      <td>2005.0</td>\n",
              "      <td>...</td>\n",
              "      <td>1</td>\n",
              "      <td>1</td>\n",
              "      <td>1</td>\n",
              "      <td>1</td>\n",
              "      <td>1</td>\n",
              "      <td>1</td>\n",
              "      <td>0</td>\n",
              "      <td>1</td>\n",
              "      <td>1</td>\n",
              "      <td>0.888889</td>\n",
              "    </tr>\n",
              "    <tr>\n",
              "      <th>3</th>\n",
              "      <td>1</td>\n",
              "      <td>Toy Story (1995)</td>\n",
              "      <td>Adventure|Animation|Children|Comedy|Fantasy</td>\n",
              "      <td>15.0</td>\n",
              "      <td>2.5</td>\n",
              "      <td>1.510578e+09</td>\n",
              "      <td>nan</td>\n",
              "      <td>NaN</td>\n",
              "      <td>2017-11-13</td>\n",
              "      <td>2017.0</td>\n",
              "      <td>...</td>\n",
              "      <td>1</td>\n",
              "      <td>1</td>\n",
              "      <td>1</td>\n",
              "      <td>1</td>\n",
              "      <td>1</td>\n",
              "      <td>1</td>\n",
              "      <td>0</td>\n",
              "      <td>1</td>\n",
              "      <td>1</td>\n",
              "      <td>0.444444</td>\n",
              "    </tr>\n",
              "    <tr>\n",
              "      <th>4</th>\n",
              "      <td>1</td>\n",
              "      <td>Toy Story (1995)</td>\n",
              "      <td>Adventure|Animation|Children|Comedy|Fantasy</td>\n",
              "      <td>17.0</td>\n",
              "      <td>4.5</td>\n",
              "      <td>1.305696e+09</td>\n",
              "      <td>nan</td>\n",
              "      <td>NaN</td>\n",
              "      <td>2011-05-18</td>\n",
              "      <td>2011.0</td>\n",
              "      <td>...</td>\n",
              "      <td>1</td>\n",
              "      <td>1</td>\n",
              "      <td>1</td>\n",
              "      <td>1</td>\n",
              "      <td>1</td>\n",
              "      <td>1</td>\n",
              "      <td>0</td>\n",
              "      <td>1</td>\n",
              "      <td>1</td>\n",
              "      <td>0.888889</td>\n",
              "    </tr>\n",
              "  </tbody>\n",
              "</table>\n",
              "<p>5 rows × 48 columns</p>\n",
              "</div>"
            ],
            "text/plain": [
              "   movieId             title                                       genres  \\\n",
              "0        1  Toy Story (1995)  Adventure|Animation|Children|Comedy|Fantasy   \n",
              "1        1  Toy Story (1995)  Adventure|Animation|Children|Comedy|Fantasy   \n",
              "2        1  Toy Story (1995)  Adventure|Animation|Children|Comedy|Fantasy   \n",
              "3        1  Toy Story (1995)  Adventure|Animation|Children|Comedy|Fantasy   \n",
              "4        1  Toy Story (1995)  Adventure|Animation|Children|Comedy|Fantasy   \n",
              "\n",
              "   userId  rating   timestamp_x  tag  timestamp_y        date    year  ...  \\\n",
              "0     1.0     4.0  9.649827e+08  nan          NaN  2000-07-30  2000.0  ...   \n",
              "1     5.0     4.0  8.474350e+08  nan          NaN  1996-11-08  1996.0  ...   \n",
              "2     7.0     4.5  1.106636e+09  nan          NaN  2005-01-25  2005.0  ...   \n",
              "3    15.0     2.5  1.510578e+09  nan          NaN  2017-11-13  2017.0  ...   \n",
              "4    17.0     4.5  1.305696e+09  nan          NaN  2011-05-18  2011.0  ...   \n",
              "\n",
              "   genre_|  genre_n  genre_s  genre_r  genre_i  genre_m  genre_H  genre_e  \\\n",
              "0        1        1        1        1        1        1        0        1   \n",
              "1        1        1        1        1        1        1        0        1   \n",
              "2        1        1        1        1        1        1        0        1   \n",
              "3        1        1        1        1        1        1        0        1   \n",
              "4        1        1        1        1        1        1        0        1   \n",
              "\n",
              "   genre_h  rating_normalized  \n",
              "0        1           0.777778  \n",
              "1        1           0.777778  \n",
              "2        1           0.888889  \n",
              "3        1           0.444444  \n",
              "4        1           0.888889  \n",
              "\n",
              "[5 rows x 48 columns]"
            ]
          },
          "execution_count": 125,
          "metadata": {},
          "output_type": "execute_result"
        }
      ],
      "source": [
        "movie_data.head()"
      ]
    },
    {
      "cell_type": "markdown",
      "metadata": {
        "id": "4n6slz36pytk"
      },
      "source": [
        "# Modeling"
      ]
    },
    {
      "cell_type": "code",
      "execution_count": null,
      "metadata": {
        "id": "SaXEnm8OOwWq"
      },
      "outputs": [],
      "source": [
        "movie_data_processed = movie_data"
      ]
    },
    {
      "cell_type": "markdown",
      "metadata": {
        "id": "MWq6rBNwOwWq"
      },
      "source": [
        "We shall start with KNN model as our baseline. The idea behind KNN is it assumes that similar things are usually close together. Since recommendation systems are all about finding and using those similarities, we thought this would be a solid place to start our analysis."
      ]
    },
    {
      "cell_type": "code",
      "execution_count": null,
      "metadata": {
        "id": "83jQ9SqBOwWr"
      },
      "outputs": [],
      "source": [
        "# Create a Reader object to define the format\n",
        "reader = Reader(rating_scale=(0.5, 5.0))\n",
        "\n",
        "# Load the dataset into Surprise format\n",
        "data = Dataset.load_from_df(movie_data_processed[['userId', 'movieId', 'rating']], reader)"
      ]
    },
    {
      "cell_type": "markdown",
      "metadata": {
        "id": "emb4-izvOwWr"
      },
      "source": [
        "Splitting the data using 80/20 split"
      ]
    },
    {
      "cell_type": "code",
      "execution_count": null,
      "metadata": {
        "id": "ddW50RctOwWr"
      },
      "outputs": [],
      "source": [
        "trainset, testset = train_test_split(data, test_size=0.2, random_state=42)"
      ]
    },
    {
      "cell_type": "markdown",
      "metadata": {
        "id": "riwKtAV5OwWr"
      },
      "source": [
        "To address the cold start problem, let us first use the content based filtering first using KNNBasic"
      ]
    },
    {
      "cell_type": "code",
      "execution_count": null,
      "metadata": {
        "colab": {
          "base_uri": "https://localhost:8080/"
        },
        "id": "uXxCoTmBOwWs",
        "outputId": "7ac194da-af5b-4208-d328-c23edff1bfa7"
      },
      "outputs": [
        {
          "output_type": "stream",
          "name": "stdout",
          "text": [
            "Computing the cosine similarity matrix...\n",
            "Done computing similarity matrix.\n"
          ]
        },
        {
          "output_type": "execute_result",
          "data": {
            "text/plain": [
              "<surprise.prediction_algorithms.knns.KNNBasic at 0x799d9c8107d0>"
            ]
          },
          "metadata": {},
          "execution_count": 27
        }
      ],
      "source": [
        "# Item-based collaborative filtering (can also use item-based with sim_options)\n",
        "sim_options = {\n",
        "    'name': 'cosine',\n",
        "    'user_based': False\n",
        "}\n",
        "\n",
        "# Build KNN model\n",
        "knn_model = KNNBasic(sim_options=sim_options)\n",
        "\n",
        "# Train the model\n",
        "knn_model.fit(trainset)\n"
      ]
    },
    {
      "cell_type": "markdown",
      "metadata": {
        "id": "nNES7vl8OwWs"
      },
      "source": [
        "Since we are using KNN to predict ratings, we shall use the RMSE and MAE metrics to evaluate how well the model performed.\n"
      ]
    },
    {
      "cell_type": "code",
      "execution_count": null,
      "metadata": {
        "colab": {
          "base_uri": "https://localhost:8080/"
        },
        "id": "6tVCAMEGOwWs",
        "outputId": "6c9919ff-50d7-4fed-e739-004ba8ec7a79"
      },
      "outputs": [
        {
          "output_type": "stream",
          "name": "stdout",
          "text": [
            "RMSE: 0.9829\n",
            "MAE:  0.7621\n"
          ]
        }
      ],
      "source": [
        "# Make predictions\n",
        "predictions = knn_model.test(testset)\n",
        "\n",
        "# Evaluate\n",
        "rmse = accuracy.rmse(predictions)\n",
        "mae = accuracy.mae(predictions)\n"
      ]
    },
    {
      "cell_type": "markdown",
      "metadata": {
        "id": "R7A22r8fOwWt"
      },
      "source": [
        "We shall use cross-validation to gives a more reliable, less biased, and stable estimate of RMSE and MAE compared to a single train-test split."
      ]
    },
    {
      "cell_type": "code",
      "execution_count": null,
      "metadata": {
        "colab": {
          "base_uri": "https://localhost:8080/"
        },
        "id": "C77KJmoCOwWt",
        "outputId": "916faf8d-ecb9-44a6-c524-58badb5bee24"
      },
      "outputs": [
        {
          "output_type": "stream",
          "name": "stdout",
          "text": [
            "Computing the cosine similarity matrix...\n",
            "Done computing similarity matrix.\n",
            "Computing the cosine similarity matrix...\n",
            "Done computing similarity matrix.\n",
            "Computing the cosine similarity matrix...\n",
            "Done computing similarity matrix.\n",
            "Computing the cosine similarity matrix...\n",
            "Done computing similarity matrix.\n",
            "Computing the cosine similarity matrix...\n",
            "Done computing similarity matrix.\n",
            "Average RMSE: 0.9870\n",
            "Average MAE: 0.7676\n"
          ]
        }
      ],
      "source": [
        "cv_results = cross_validate(knn_model, data, measures=['RMSE', 'MAE'], cv=5, return_train_measures=True)\n",
        "rmse_knn = cv_results['test_rmse']\n",
        "mae_knn = cv_results['test_mae']\n",
        "print(f\"Average RMSE: {np.mean(rmse_knn):.4f}\")\n",
        "print(f\"Average MAE: {np.mean(mae_knn):.4f}\")"
      ]
    },
    {
      "cell_type": "markdown",
      "metadata": {
        "id": "yd5fht4COwWt"
      },
      "source": [
        "From the above results, we can see that the predictions from the model are about 0.99 stars off using RMSE and 0.77 stars off using MAE. We can say that the model is on average one star off. This could be due to KNN’s struggles with very sparse datasets and its limitations when working with larger ones. To address these issues, we’ll now try a more advanced technique—Singular Value Decomposition (SVD). SVD is better equipped to handle sparsity and scale, so we’re hoping it will give us improved performance, especially lower RMSE and MAE scores."
      ]
    },
    {
      "cell_type": "code",
      "execution_count": null,
      "metadata": {
        "colab": {
          "base_uri": "https://localhost:8080/"
        },
        "id": "-NhvRk-5OwWv",
        "outputId": "959573cf-8791-4965-b5d6-67b5834e4c29"
      },
      "outputs": [
        {
          "output_type": "stream",
          "name": "stdout",
          "text": [
            "Average RMSE_SVD: 0.8634\n",
            "Average MAE_SVD: 0.6602\n"
          ]
        }
      ],
      "source": [
        "# Reading the data\n",
        "reader = Reader(rating_scale=(movie_data_processed['rating'].min(), movie_data_processed['rating'].max()))\n",
        "data = Dataset.load_from_df(movie_data_processed[['userId', 'movieId', 'rating']], reader)\n",
        "\n",
        "# Initializing the SVD algorithm\n",
        "svd = SVD()\n",
        "\n",
        "# Using cross-validation\n",
        "cv_results = cross_validate(svd, data, measures=['RMSE', 'MAE'], cv=5, return_train_measures=True)\n",
        "rmse_svd = cv_results['test_rmse']\n",
        "mae_svd = cv_results['test_mae']\n",
        "\n",
        "print(f\"Average RMSE_SVD: {np.mean(rmse_svd):.4f}\")\n",
        "print(f\"Average MAE_SVD: {np.mean(mae_svd):.4f}\")"
      ]
    },
    {
      "cell_type": "code",
      "execution_count": null,
      "metadata": {
        "id": "Xg7QAPp9OwWw",
        "outputId": "7ba87631-2a06-45b9-b19d-155ae7f1e3dc"
      },
      "outputs": [
        {
          "name": "stdout",
          "output_type": "stream",
          "text": [
            "RMSE improved by: 12.27%\n",
            "MAE improved by: 13.96%\n"
          ]
        }
      ],
      "source": [
        "# Comparing SVD results with KNN\n",
        "rmse_improvement = ((np.mean(rmse_knn) - np.mean(rmse_svd)) / np.mean(rmse_knn)) * 100\n",
        "mae_improvement =((np.mean(mae_knn) - np.mean(mae_svd)) / np.mean(mae_knn)) * 100\n",
        "\n",
        "print(f\"RMSE improved by: {rmse_improvement:.2f}%\")\n",
        "print(f\"MAE improved by: {mae_improvement:.2f}%\")"
      ]
    },
    {
      "cell_type": "markdown",
      "metadata": {
        "id": "nqMyXpjVOwWx"
      },
      "source": [
        "From the above results, we can see a gain in predictive accuracy after using SVD. This shows that SVD is better at capturing the hidden structure in user–item interactions."
      ]
    },
    {
      "cell_type": "markdown",
      "metadata": {
        "id": "CFCjYMUzqSLi"
      },
      "source": [
        "## A. Collaborative Filtering( Matrix Factorization)-recommends items based on user preferences and similarities with other users."
      ]
    },
    {
      "cell_type": "code",
      "source": [
        "#data for surprise\n",
        "reader = Reader(rating_scale=(0.5, 5.0))\n",
        "data = Dataset.load_from_df(ratings[['userId', 'movieId', 'rating']], reader)\n",
        "\n",
        "# Splitting into train and test set\n",
        "trainset, testset = train_test_split(data, test_size=0.2, random_state=42)\n"
      ],
      "metadata": {
        "id": "J2MR4GkWbbTs"
      },
      "execution_count": null,
      "outputs": []
    },
    {
      "cell_type": "code",
      "source": [
        "#training the model using svd\n",
        "# Train the model\n",
        "model = SVD()\n",
        "model.fit(trainset)\n",
        "\n",
        "# Predict on test set\n",
        "predictions = model.test(testset)\n"
      ],
      "metadata": {
        "id": "B0mcPHiHcIMz"
      },
      "execution_count": null,
      "outputs": []
    },
    {
      "cell_type": "code",
      "source": [
        "#evaluating the model using mae and RMSE\n",
        "# RMSE and MAE\n",
        "print(\"RMSE:\", accuracy.rmse(predictions))\n",
        "print(\"MAE:\", accuracy.mae(predictions))\n"
      ],
      "metadata": {
        "colab": {
          "base_uri": "https://localhost:8080/"
        },
        "id": "nUOY12IFcTh_",
        "outputId": "207686ff-b412-4b17-d5e9-4bed02a0d2ad"
      },
      "execution_count": null,
      "outputs": [
        {
          "output_type": "stream",
          "name": "stdout",
          "text": [
            "RMSE: 0.8814\n",
            "RMSE: 0.8814335865872398\n",
            "MAE:  0.6766\n",
            "MAE: 0.6766206720404472\n"
          ]
        }
      ]
    },
    {
      "cell_type": "markdown",
      "source": [
        "from these we can depict that the model is performing fairly well because an RMSE of 0.88 and an MAE of 0.68  prediction is  less than one point away from the actual ratings."
      ],
      "metadata": {
        "id": "Yj2LVlOONKei"
      }
    },
    {
      "cell_type": "code",
      "source": [
        "#Evaluation of the model using precission ,recall and f1_score\n",
        "from sklearn.metrics import precision_score, recall_score, f1_score\n",
        "\n",
        "# threshold\n",
        "threshold = 3.5  # e.g., rating >= 3.5 is considered a \"like\"\n",
        "\n",
        "# Actual and predicted relevance\n",
        "y_true = [int(true_r >= threshold) for (_, _, true_r, _, _) in predictions]\n",
        "y_pred = [int(est >= threshold) for (_, _, _, est, _) in predictions]\n",
        "\n",
        "# Compute metrics\n",
        "precision = precision_score(y_true, y_pred)\n",
        "recall = recall_score(y_true, y_pred)\n",
        "f1 = f1_score(y_true, y_pred)\n",
        "\n",
        "print(f\"Precision: {precision:.4f}\")\n",
        "print(f\"Recall:    {recall:.4f}\")\n",
        "print(f\"F1 Score:  {f1:.4f}\")\n",
        "\n"
      ],
      "metadata": {
        "colab": {
          "base_uri": "https://localhost:8080/"
        },
        "id": "DEdNlq5odEF5",
        "outputId": "97064902-655b-449b-a489-4985574bcbff"
      },
      "execution_count": null,
      "outputs": [
        {
          "output_type": "stream",
          "name": "stdout",
          "text": [
            "Precision: 0.7922\n",
            "Recall:    0.6792\n",
            "F1 Score:  0.7314\n"
          ]
        }
      ]
    },
    {
      "cell_type": "markdown",
      "source": [
        "The metrics above depicts that the  model has a precision of 0.79 and recall of 0.68, resulting in an F1 score of 0.73, indicating a good balance between correctly recommended items and coverage."
      ],
      "metadata": {
        "id": "JJSe6wCXOjOg"
      }
    },
    {
      "cell_type": "markdown",
      "source": [
        "Next step we are going to create a function of The top-N recommendation system\n",
        " that effectively suggests relevant items by ranking the most suitable options for each user."
      ],
      "metadata": {
        "id": "sop3INAaPt5s"
      }
    },
    {
      "cell_type": "code",
      "source": [
        "#Top_n_recommendation using the train surprise SVD for seen movies\n",
        "def get_top_n_seen_predictions(model, ratings_df, user_id, movies_df, n=10):\n",
        "    \"\"\"\n",
        "    Show top-N predictions for movies already rated by the user.\n",
        "    \"\"\"\n",
        "    #  ratings of a given user\n",
        "    user_data = ratings_df[ratings_df['userId'] == user_id]\n",
        "\n",
        "    if user_data.empty:\n",
        "        print(f\"No ratings found for user {user_id}.\")\n",
        "        return []\n",
        "\n",
        "    # Predicting ratings for the movies the user has already seen\n",
        "    predictions = []\n",
        "    for _, row in user_data.iterrows():\n",
        "        movie_id = row['movieId']\n",
        "        actual_rating = row['rating']\n",
        "        pred = model.predict(user_id, movie_id)\n",
        "        predictions.append((movie_id, pred.est, actual_rating))\n",
        "\n",
        "    # Sorting by predicted rating\n",
        "    top_predictions = sorted(predictions, key=lambda x: x[1], reverse=True)[:n]\n",
        "\n",
        "    # Display\n",
        "    print(f\"\\n📽️ Top {n} Seen Movies (User {user_id}): Predicted vs Actual\\n\")\n",
        "    for movie_id, pred_rating, actual_rating in top_predictions:\n",
        "        title = movies_df[movies_df['movieId'] == movie_id]['title'].values\n",
        "        title = title[0] if len(title) > 0 else f\"MovieID: {movie_id}\"\n",
        "        print(f\"{title} — Predicted: {pred_rating:.2f}, Actual: {actual_rating:.1f}\")\n",
        "\n",
        "    return top_predictions\n",
        "\n",
        "\n",
        "\n",
        "\n",
        "\n"
      ],
      "metadata": {
        "id": "TktYuml3g3AH"
      },
      "execution_count": null,
      "outputs": []
    },
    {
      "cell_type": "code",
      "source": [
        "get_top_n_seen_predictions(model, ratings, user_id=1, movies_df=movies, n=5)\n"
      ],
      "metadata": {
        "colab": {
          "base_uri": "https://localhost:8080/"
        },
        "id": "FaUI9eUolF7s",
        "outputId": "ab4259f2-e163-4400-f31a-0e846a9281b4"
      },
      "execution_count": null,
      "outputs": [
        {
          "output_type": "stream",
          "name": "stdout",
          "text": [
            "\n",
            "📽️ Top 5 Seen Movies (User 1): Predicted vs Actual\n",
            "\n",
            "Usual Suspects, The (1995) — Predicted: 5.00, Actual: 5.0\n",
            "Goodfellas (1990) — Predicted: 5.00, Actual: 5.0\n",
            "Full Metal Jacket (1987) — Predicted: 5.00, Actual: 5.0\n",
            "L.A. Confidential (1997) — Predicted: 5.00, Actual: 5.0\n",
            "American History X (1998) — Predicted: 5.00, Actual: 5.0\n"
          ]
        },
        {
          "output_type": "execute_result",
          "data": {
            "text/plain": [
              "[(50.0, 5.0, 5.0),\n",
              " (1213.0, 5.0, 5.0),\n",
              " (1222.0, 5.0, 5.0),\n",
              " (1617.0, 5.0, 5.0),\n",
              " (2329.0, 5.0, 5.0)]"
            ]
          },
          "metadata": {},
          "execution_count": 46
        }
      ]
    },
    {
      "cell_type": "markdown",
      "source": [
        "from above we can see that The model accurately predicted User 1's top 5 seen movies, perfectly matching all actual ratings."
      ],
      "metadata": {
        "id": "G9ukUnNVQr29"
      }
    },
    {
      "cell_type": "markdown",
      "source": [
        "we begun with seen movies ,next we will jump to unseen movie reccomendation"
      ],
      "metadata": {
        "id": "KsfrYyvNQ4cK"
      }
    },
    {
      "cell_type": "code",
      "source": [
        "#top_n _unseen movie recommendation\n",
        "def get_top_n_unseen_recommendations(model, trainset, ratings_df, user_id, movies_df, n=10):\n",
        "    \"\"\"\n",
        "    Recommend top-N movies that the user hasn't rated yet.\n",
        "    \"\"\"\n",
        "    # All movies in dataset\n",
        "    all_movie_ids = set(movies_df['movieId'].unique())\n",
        "\n",
        "    # Movies rated by the user\n",
        "    seen_movie_ids = set(ratings_df[ratings_df['userId'] == user_id]['movieId'])\n",
        "\n",
        "    # Movies NOT rated by the user\n",
        "    unseen_movie_ids = list(all_movie_ids - seen_movie_ids)\n",
        "\n",
        "    if not unseen_movie_ids:\n",
        "        print(f\"✅ User {user_id} has already rated all available movies.\")\n",
        "        return []\n",
        "\n",
        "    # Predicting ratings for all unseen movies\n",
        "    predictions = [model.predict(user_id, movie_id) for movie_id in unseen_movie_ids]\n",
        "\n",
        "    # Sorting by predicted rating, descending\n",
        "    top_predictions = sorted(predictions, key=lambda x: x.est, reverse=True)[:n]\n",
        "\n",
        "    #  output with titles\n",
        "    top_recommendations = []\n",
        "    print(f\"\\n🍿 Top {n} Unseen Movie Recommendations for User {user_id}:\\n\")\n",
        "    for pred in top_predictions:\n",
        "        title_row = movies_df[movies_df['movieId'] == int(pred.iid)]\n",
        "        title = title_row['title'].values[0] if not title_row.empty else f\"MovieID: {pred.iid}\"\n",
        "        print(f\"{title} — Predicted Rating: {pred.est:.2f}\")\n",
        "        top_recommendations.append((title, pred.est))\n",
        "\n",
        "    return top_recommendations\n"
      ],
      "metadata": {
        "id": "4H3mi_tbqqG_"
      },
      "execution_count": null,
      "outputs": []
    },
    {
      "cell_type": "code",
      "source": [
        "get_top_n_unseen_recommendations(model, trainset, ratings, user_id=1, movies_df=movies, n=5)\n"
      ],
      "metadata": {
        "colab": {
          "base_uri": "https://localhost:8080/"
        },
        "id": "XJPRW-PHrBsf",
        "outputId": "40f3dc5a-2e1c-4e6e-b00c-5537e6d8bcd3"
      },
      "execution_count": null,
      "outputs": [
        {
          "output_type": "stream",
          "name": "stdout",
          "text": [
            "\n",
            "🍿 Top 5 Unseen Movie Recommendations for User 1:\n",
            "\n",
            "Shawshank Redemption, The (1994) — Predicted Rating: 5.00\n",
            "Dr. Strangelove or: How I Learned to Stop Worrying and Love the Bomb (1964) — Predicted Rating: 5.00\n",
            "Casablanca (1942) — Predicted Rating: 5.00\n",
            "Sunset Blvd. (a.k.a. Sunset Boulevard) (1950) — Predicted Rating: 5.00\n",
            "To Catch a Thief (1955) — Predicted Rating: 5.00\n"
          ]
        },
        {
          "output_type": "execute_result",
          "data": {
            "text/plain": [
              "[('Shawshank Redemption, The (1994)', 5.0),\n",
              " ('Dr. Strangelove or: How I Learned to Stop Worrying and Love the Bomb (1964)',\n",
              "  5.0),\n",
              " ('Casablanca (1942)', 5.0),\n",
              " ('Sunset Blvd. (a.k.a. Sunset Boulevard) (1950)', 5.0),\n",
              " ('To Catch a Thief (1955)', 5.0)]"
            ]
          },
          "metadata": {},
          "execution_count": 48
        }
      ]
    },
    {
      "cell_type": "markdown",
      "source": [
        "above the  model recommends 5 unseen classics to User 1, all with the highest predicted rating of 5.0."
      ],
      "metadata": {
        "id": "4PMuvYzBRtKG"
      }
    },
    {
      "cell_type": "markdown",
      "metadata": {
        "id": "GrcThNvIqdwk"
      },
      "source": [
        "## B. Content-Based Filtering (TF-IDF + Cosine Similarity)-recommending items with similar features to those the user liked."
      ]
    },
    {
      "cell_type": "markdown",
      "source": [],
      "metadata": {
        "id": "LLSRop4OT9Ta"
      }
    },
    {
      "cell_type": "code",
      "source": [
        "#vectorizing genres with TF_IDF\n",
        "from sklearn.feature_extraction.text import TfidfVectorizer\n",
        "from sklearn.metrics.pairwise import cosine_similarity\n",
        "\n",
        "# Vectorizing  genres using TF-IDF\n",
        "tfidf = TfidfVectorizer(token_pattern=r\"[\\w\\-]+\")\n",
        "tfidf_matrix = tfidf.fit_transform(movies['genres'])\n",
        "\n",
        "#  cosine similarity matrix\n",
        "cosine_sim = cosine_similarity(tfidf_matrix, tfidf_matrix)\n",
        "\n",
        "# Creating a reverse mapping of movie titles to indices\n",
        "movie_indices = pd.Series(movies.index, index=movies['title']).drop_duplicates()\n"
      ],
      "metadata": {
        "id": "pJKl_AKcs6o8"
      },
      "execution_count": null,
      "outputs": []
    },
    {
      "cell_type": "code",
      "source": [
        "#Recomendation function\n",
        "def recommend_similar_movies(title, cosine_sim=cosine_sim, movies_df=movies, movie_indices=movie_indices, n=10):\n",
        "    \"\"\"\n",
        "    Recommend top-N similar movies based on content (genres).\n",
        "    \"\"\"\n",
        "    if title not in movie_indices:\n",
        "        print(f\"Movie '{title}' not found.\")\n",
        "        return []\n",
        "\n",
        "    idx = movie_indices[title]\n",
        "\n",
        "    #  pairwise similarity scores and sort them\n",
        "    sim_scores = list(enumerate(cosine_sim[idx]))\n",
        "    sim_scores = sorted(sim_scores, key=lambda x: x[1], reverse=True)\n",
        "\n",
        "    #  top-N\n",
        "    top_similar_indices = [i for i, score in sim_scores[1:n+1]]\n",
        "\n",
        "    # movie titles\n",
        "    recommended_titles = movies_df['title'].iloc[top_similar_indices].tolist()\n",
        "\n",
        "    print(f\"\\n🎬 Because you liked *{title}*, you may also like:\\n\")\n",
        "    for i, rec in enumerate(recommended_titles, 1):\n",
        "        print(f\"{i}. {rec}\")\n",
        "\n",
        "    return recommended_titles\n"
      ],
      "metadata": {
        "id": "RDs0VjaXtU9-"
      },
      "execution_count": null,
      "outputs": []
    },
    {
      "cell_type": "markdown",
      "source": [
        "Next we gon  use content-based filtering to recommend 5 movies similar to \"Toy Story (1995)\" based on its features"
      ],
      "metadata": {
        "id": "MGogC_FdUqkM"
      }
    },
    {
      "cell_type": "code",
      "source": [
        "recommend_similar_movies(\"Toy Story (1995)\", n=5)\n"
      ],
      "metadata": {
        "colab": {
          "base_uri": "https://localhost:8080/"
        },
        "id": "U9RHijEptoPh",
        "outputId": "0759ab46-ecb7-4d97-e269-60f887d77f55"
      },
      "execution_count": null,
      "outputs": [
        {
          "output_type": "stream",
          "name": "stdout",
          "text": [
            "\n",
            "🎬 Because you liked *Toy Story (1995)*, you may also like:\n",
            "\n",
            "1. Antz (1998)\n",
            "2. Toy Story 2 (1999)\n",
            "3. Adventures of Rocky and Bullwinkle, The (2000)\n",
            "4. Emperor's New Groove, The (2000)\n",
            "5. Monsters, Inc. (2001)\n"
          ]
        },
        {
          "output_type": "execute_result",
          "data": {
            "text/plain": [
              "['Antz (1998)',\n",
              " 'Toy Story 2 (1999)',\n",
              " 'Adventures of Rocky and Bullwinkle, The (2000)',\n",
              " \"Emperor's New Groove, The (2000)\",\n",
              " 'Monsters, Inc. (2001)']"
            ]
          },
          "metadata": {},
          "execution_count": 51
        }
      ]
    },
    {
      "cell_type": "markdown",
      "source": [
        "\n",
        "Next we will  implement a hybrid recommender system that combines collaborative and content-based filtering for more accurate recommendations.\n",
        "\n",
        "\n",
        "\n",
        "\n",
        "\n",
        "\n",
        "\n",
        "\n"
      ],
      "metadata": {
        "id": "IpX3MkbpulBL"
      }
    },
    {
      "cell_type": "code",
      "source": [
        "#hybrid recommendation system\n",
        "def hybrid_recommender(user_id, liked_title, model, ratings_df, movies_df, movie_indices, cosine_sim, n=10):\n",
        "    \"\"\"\n",
        "    Recommend top-N movies for a user by combining collaborative filtering with content-based filtering.\n",
        "    \"\"\"\n",
        "    # Movies user has already rated\n",
        "    seen = set(ratings_df[ratings_df['userId'] == user_id]['movieId'])\n",
        "    all_movie_ids = set(movies_df['movieId'])\n",
        "    unseen = list(all_movie_ids - seen)\n",
        "\n",
        "    # Predicting ratings for all unseen movies using collaborative filtering\n",
        "    cf_predictions = [model.predict(user_id, movie_id) for movie_id in unseen]\n",
        "    cf_predictions = sorted(cf_predictions, key=lambda x: x.est, reverse=True)\n",
        "\n",
        "    #  top 100 from CF for re-ranking\n",
        "    top_cf = cf_predictions[:100]\n",
        "\n",
        "    # content-based similarity scores w.r.t liked movie\n",
        "    if liked_title not in movie_indices:\n",
        "        print(f\"❌ Movie '{liked_title}' not found.\")\n",
        "        return []\n",
        "\n",
        "    liked_idx = movie_indices[liked_title]\n",
        "    similarity_scores = cosine_sim[liked_idx]\n",
        "\n",
        "    # Re-ranking CF predictions based on content similarity\n",
        "    hybrid_scores = []\n",
        "    for pred in top_cf:\n",
        "        movie_id = int(pred.iid)\n",
        "        try:\n",
        "            content_idx = movies_df[movies_df['movieId'] == movie_id].index[0]\n",
        "            content_score = similarity_scores[content_idx]\n",
        "        except IndexError:\n",
        "            content_score = 0  # if movie not found\n",
        "\n",
        "        # Combining CF and Content score (weighted average)\n",
        "        hybrid_score = (0.7 * pred.est) + (0.3 * content_score * 5)  # rescale content sim to 0-5\n",
        "        hybrid_scores.append((movie_id, hybrid_score))\n",
        "\n",
        "    #  hybrid scores\n",
        "    top_hybrid = sorted(hybrid_scores, key=lambda x: x[1], reverse=True)[:n]\n",
        "\n",
        "    # Display\n",
        "    print(f\"\\n🤖 Hybrid Recommendations for User {user_id} based on liking *{liked_title}*:\\n\")\n",
        "    for idx, (movie_id, score) in enumerate(top_hybrid, 1):\n",
        "        title = movies_df[movies_df['movieId'] == movie_id]['title'].values[0]\n",
        "        print(f\"{idx}. {title} — Score: {score:.2f}\")\n",
        "\n",
        "    return top_hybrid\n"
      ],
      "metadata": {
        "id": "Hpk9WNe_uzyD"
      },
      "execution_count": null,
      "outputs": []
    },
    {
      "cell_type": "markdown",
      "source": [
        "Using the hybrid recommender, we are going to generate 5 personalized movie suggestions for User 1 based on their interest in \"Toy Story (1995)\"."
      ],
      "metadata": {
        "id": "bWBP-D1fW9So"
      }
    },
    {
      "cell_type": "code",
      "source": [
        "hybrid_recommender(\n",
        "    user_id=1,\n",
        "    liked_title=\"Toy Story (1995)\",\n",
        "    model=model,\n",
        "    ratings_df=ratings,\n",
        "    movies_df=movies,\n",
        "    movie_indices=movie_indices,\n",
        "    cosine_sim=cosine_sim,\n",
        "    n=5\n",
        ")\n"
      ],
      "metadata": {
        "colab": {
          "base_uri": "https://localhost:8080/"
        },
        "id": "Tv72oeKovi66",
        "outputId": "bb2174b1-1644-4af1-d5fc-ad2c686190ec"
      },
      "execution_count": null,
      "outputs": [
        {
          "output_type": "stream",
          "name": "stdout",
          "text": [
            "\n",
            "🤖 Hybrid Recommendations for User 1 based on liking *Toy Story (1995)*:\n",
            "\n",
            "1. Monsters, Inc. (2001) — Score: 4.88\n",
            "2. Ponyo (Gake no ue no Ponyo) (2008) — Score: 4.87\n",
            "3. Laputa: Castle in the Sky (Tenkû no shiro Rapyuta) (1986) — Score: 4.74\n",
            "4. Spirited Away (Sen to Chihiro no kamikakushi) (2001) — Score: 4.73\n",
            "5. My Neighbor Totoro (Tonari no Totoro) (1988) — Score: 4.72\n"
          ]
        },
        {
          "output_type": "execute_result",
          "data": {
            "text/plain": [
              "[(4886, 4.880397096840035),\n",
              " (65261, 4.867023710684515),\n",
              " (6350, 4.737467981351375),\n",
              " (5618, 4.731031759963337),\n",
              " (5971, 4.719462180392218)]"
            ]
          },
          "metadata": {},
          "execution_count": 55
        }
      ]
    },
    {
      "cell_type": "markdown",
      "source": [
        "Above ,the hybrid model recommends five highly rated animated films to User 1 based on their interest in Toy Story (1995), with each suggestion ranked by a predicted preference score."
      ],
      "metadata": {
        "id": "sGpNIKgEXtJ6"
      }
    },
    {
      "cell_type": "code",
      "source": [
        "#visualization of the recommendation of user 1 based on toy story(1995)\n",
        "import matplotlib.pyplot as plt\n",
        "\n",
        "def visualize_recommendations(recommendations, movies_df, title=\"Hybrid Recommendations\"):\n",
        "    \"\"\"\n",
        "    Visualize top-N hybrid recommendations using a bar chart.\n",
        "    \"\"\"\n",
        "    movie_ids, scores = zip(*recommendations)\n",
        "    movie_titles = [movies_df[movies_df['movieId'] == mid]['title'].values[0] for mid in movie_ids]\n",
        "\n",
        "    plt.figure(figsize=(10, 6))\n",
        "    bars = plt.barh(movie_titles, scores, color='skyblue')\n",
        "    plt.xlabel(\"Hybrid Score\")\n",
        "    plt.title(title)\n",
        "    plt.gca().invert_yaxis()\n",
        "\n",
        "    # Annotating bars with scores\n",
        "    for bar, score in zip(bars, scores):\n",
        "        plt.text(bar.get_width() + 0.05, bar.get_y() + bar.get_height() / 2, f\"{score:.2f}\", va='center')\n",
        "\n",
        "    plt.tight_layout()\n",
        "    plt.show()\n"
      ],
      "metadata": {
        "id": "wjvddF34wAZA"
      },
      "execution_count": null,
      "outputs": []
    },
    {
      "cell_type": "code",
      "source": [
        "\n",
        "recommendations = hybrid_recommender(\n",
        "    user_id=1,\n",
        "    liked_title=\"Toy Story (1995)\",\n",
        "    model=model,\n",
        "    ratings_df=ratings,\n",
        "    movies_df=movies,\n",
        "    movie_indices=movie_indices,\n",
        "    cosine_sim=cosine_sim,\n",
        "    n=5\n",
        ")\n",
        "\n",
        "\n",
        "visualize_recommendations(recommendations, movies)\n"
      ],
      "metadata": {
        "colab": {
          "base_uri": "https://localhost:8080/",
          "height": 740
        },
        "id": "kmeiOr-nwOpJ",
        "outputId": "076b0e76-9504-4540-ef2d-49b98a151dfd"
      },
      "execution_count": null,
      "outputs": [
        {
          "output_type": "stream",
          "name": "stdout",
          "text": [
            "\n",
            "🤖 Hybrid Recommendations for User 1 based on liking *Toy Story (1995)*:\n",
            "\n",
            "1. Monsters, Inc. (2001) — Score: 4.88\n",
            "2. Ponyo (Gake no ue no Ponyo) (2008) — Score: 4.87\n",
            "3. Laputa: Castle in the Sky (Tenkû no shiro Rapyuta) (1986) — Score: 4.74\n",
            "4. Spirited Away (Sen to Chihiro no kamikakushi) (2001) — Score: 4.73\n",
            "5. My Neighbor Totoro (Tonari no Totoro) (1988) — Score: 4.72\n"
          ]
        },
        {
          "output_type": "display_data",
          "data": {
            "text/plain": [
              "<Figure size 1000x600 with 1 Axes>"
            ],
            "image/png": "[encoded data removed]"
          },
          "metadata": {}
        }
      ]
    },
    {
      "cell_type": "markdown",
      "source": [],
      "metadata": {
        "id": "qez_7BVbylH9"
      }
    },
    {
      "cell_type": "markdown",
      "metadata": {
        "id": "BB6-CJWZqk7r"
      },
      "source": [
        "#Neural network\n",
        "We'll use a simple network  based on learned embeddings for users and movies, followed by fully connected layers to predict the rating.\n",
        "\n"
      ]
    },
    {
      "cell_type": "code",
      "source": [],
      "metadata": {
        "id": "GsFSEmLr0zUy"
      },
      "execution_count": null,
      "outputs": []
    },
    {
      "cell_type": "markdown",
      "metadata": {
        "id": "a-p7tbaSq2Er"
      },
      "source": [
        "#Deployment"
      ]
    }
  ],
  "metadata": {
    "colab": {
      "provenance": []
    },
    "kernelspec": {
      "display_name": "Python 3",
      "language": "python",
      "name": "python3"
    },
    "language_info": {
      "codemirror_mode": {
        "name": "ipython",
        "version": 3
      },
      "file_extension": ".py",
      "mimetype": "text/x-python",
      "name": "python",
      "nbconvert_exporter": "python",
      "pygments_lexer": "ipython3",
      "version": "3.8.5"
    }
  },
  "nbformat": 4,
  "nbformat_minor": 0
}