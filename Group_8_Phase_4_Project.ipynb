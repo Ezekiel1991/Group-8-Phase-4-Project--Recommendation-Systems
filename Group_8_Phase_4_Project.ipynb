{
 "cells": [
  {
   "cell_type": "markdown",
   "metadata": {
    "id": "nvtuTfHnBGdS"
   },
   "source": [
    "#1.**Introduction**"
   ]
  },
  {
   "cell_type": "markdown",
   "metadata": {
    "id": "Pk0QGGgWGQBx"
   },
   "source": [
    "This project aims to develop a movie recommendation system. The system will utilize machine learning techniques to provide personalized movie suggestions based on user ratings and tags. The dataset used for this project is the MovieLens dataset, which contains ratings, tags, movie metadata and links."
   ]
  },
  {
   "cell_type": "markdown",
   "metadata": {
    "id": "oatBsKKpnqrm"
   },
   "source": [
    "#2.**Business** **Understanding**"
   ]
  },
  {
   "cell_type": "markdown",
   "metadata": {
    "id": "nQgLgT-9oX-7"
   },
   "source": [
    "##Objectives"
   ]
  },
  {
   "cell_type": "markdown",
   "metadata": {
    "id": "VjHzrEe5rRCr"
   },
   "source": [
    "\n",
    "1)   Personalised movie recommendations based on users history\n",
    "\n",
    "2)   Investigate how the system performs for new users and new movies (analysis of the cold start problem)\n",
    "\n",
    "3)   Build a deep learning based model that learns from user ratings and movie features to improve recommendation accuracy\n",
    "\n",
    "4)   Optimize recommendation algorithms\n",
    "\n",
    "5)   A dashboard to explore recommendations and engagement insights.\n",
    "\n",
    "\n",
    "\n",
    "\n"
   ]
  },
  {
   "cell_type": "markdown",
   "metadata": {
    "id": "On4RQOH3n5kk"
   },
   "source": [
    "#3.**Data Undestanding**"
   ]
  },
  {
   "cell_type": "markdown",
   "metadata": {
    "id": "hKpu_xk4oxLL"
   },
   "source": [
    "##Libraries"
   ]
  },
  {
   "cell_type": "code",
   "execution_count": 31,
   "metadata": {
    "colab": {
     "base_uri": "https://localhost:8080/"
    },
    "id": "8nAskryvkPO-",
    "outputId": "e9242d60-9052-47a5-aea9-8ee3a4cf0653"
   },
   "outputs": [],
   "source": [
    "# Import neccesary Libraries.\n",
    "import numpy as np\n",
    "import pandas as pd\n",
    "import matplotlib.pyplot as plt\n",
    "import seaborn as sns\n",
    "sns.set(style='darkgrid')\n",
    "import warnings\n",
    "warnings.filterwarnings('ignore')\n",
    "\n",
    "from sklearn.preprocessing import LabelEncoder\n",
    "from sklearn.feature_extraction.text import TfidfVectorizer\n",
    "from sklearn.preprocessing import MinMaxScaler\n",
    "from sklearn.preprocessing import MultiLabelBinarizer\n",
    "\n",
    "#!pip install scikit-surprise\n",
    "#!conda install -c conda-forge scikit-surprise\n",
    "#!pip install numpy==1.23.5\n",
    "#!pip install --prefer-binary scikit-surprise\n",
    "\n",
    "from surprise import Dataset, Reader\n",
    "from surprise.model_selection import cross_validate\n",
    "from surprise import accuracy\n",
    "from surprise import KNNBasic\n",
    "from surprise import SVD\n",
    "from surprise.model_selection import train_test_split\n",
    "\n",
    "\n"
   ]
  },
  {
   "cell_type": "markdown",
   "metadata": {
    "id": "PEQKnXxIos9r"
   },
   "source": [
    "##Import Datasets"
   ]
  },
  {
   "cell_type": "code",
   "execution_count": 32,
   "metadata": {
    "colab": {
     "base_uri": "https://localhost:8080/"
    },
    "id": "qg2byLuFUaCN",
    "outputId": "bc0df930-2213-4e6f-a165-299ed05462b7"
   },
   "outputs": [
    {
     "name": "stdout",
     "output_type": "stream",
     "text": [
      "Movies: (9742, 3)\n",
      "Ratings: (100836, 4)\n",
      "Tags: (3683, 4)\n"
     ]
    }
   ],
   "source": [
    "# import zipfile\n",
    "# import os\n",
    "\n",
    "# zip_path = 'ml-latest-small.zip'\n",
    "\n",
    "# # Extract and flatten files from subfolders\n",
    "# with zipfile.ZipFile(zip_path, 'r') as zip_ref:\n",
    "#     for file in zip_ref.namelist():\n",
    "#         if file.endswith('.csv'):\n",
    "#             # Strip directory structure\n",
    "#             file_name = os.path.basename(file)\n",
    "#             with zip_ref.open(file) as source, open(file_name, 'wb') as target:\n",
    "#                 target.write(source.read())\n",
    "\n",
    "movies = pd.read_csv('movies.csv')\n",
    "ratings = pd.read_csv('ratings.csv')\n",
    "tags = pd.read_csv('tags.csv')\n",
    "\n",
    "print(f\"Movies: {movies.shape}\")\n",
    "print(f\"Ratings: {ratings.shape}\")\n",
    "print(f\"Tags: {tags.shape}\")\n"
   ]
  },
  {
   "cell_type": "code",
   "execution_count": 33,
   "metadata": {
    "colab": {
     "base_uri": "https://localhost:8080/"
    },
    "id": "n_IvFpKcrr8M",
    "outputId": "cb8cf605-ffd2-4529-aceb-c42db790ca1b"
   },
   "outputs": [
    {
     "name": "stdout",
     "output_type": "stream",
     "text": [
      "Movies: (9742, 3)\n",
      "Ratings: (100836, 4)\n",
      "Tags: (3683, 4)\n"
     ]
    }
   ],
   "source": [
    "# Load data\n",
    "movies = pd.read_csv('movies.csv')\n",
    "ratings = pd.read_csv('ratings.csv')\n",
    "tags = pd.read_csv('tags.csv')\n",
    "print(f\"Movies: {movies.shape}\")\n",
    "print(f\"Ratings: {ratings.shape}\")\n",
    "print(f\"Tags: {tags.shape}\")"
   ]
  },
  {
   "cell_type": "code",
   "execution_count": 34,
   "metadata": {
    "colab": {
     "base_uri": "https://localhost:8080/"
    },
    "id": "UK-lrQW6Eigq",
    "outputId": "d0c75174-1ec8-455a-bf02-5282d2d2873e"
   },
   "outputs": [
    {
     "name": "stdout",
     "output_type": "stream",
     "text": [
      "   movieId                               title  \\\n",
      "0        1                    Toy Story (1995)   \n",
      "1        2                      Jumanji (1995)   \n",
      "2        3             Grumpier Old Men (1995)   \n",
      "3        4            Waiting to Exhale (1995)   \n",
      "4        5  Father of the Bride Part II (1995)   \n",
      "\n",
      "                                        genres  \n",
      "0  Adventure|Animation|Children|Comedy|Fantasy  \n",
      "1                   Adventure|Children|Fantasy  \n",
      "2                               Comedy|Romance  \n",
      "3                         Comedy|Drama|Romance  \n",
      "4                                       Comedy  \n"
     ]
    }
   ],
   "source": [
    "print(movies.head())"
   ]
  },
  {
   "cell_type": "code",
   "execution_count": 35,
   "metadata": {
    "colab": {
     "base_uri": "https://localhost:8080/"
    },
    "id": "cdTWFGBREqwu",
    "outputId": "ca75accc-65f4-4cf7-b7d7-4f643084412c"
   },
   "outputs": [
    {
     "name": "stdout",
     "output_type": "stream",
     "text": [
      "   userId  movieId  rating  timestamp\n",
      "0       1        1     4.0  964982703\n",
      "1       1        3     4.0  964981247\n",
      "2       1        6     4.0  964982224\n",
      "3       1       47     5.0  964983815\n",
      "4       1       50     5.0  964982931\n"
     ]
    }
   ],
   "source": [
    "print(ratings.head())"
   ]
  },
  {
   "cell_type": "code",
   "execution_count": 36,
   "metadata": {
    "colab": {
     "base_uri": "https://localhost:8080/"
    },
    "id": "qGeZnSp9EurW",
    "outputId": "19c4c1a7-73df-48c3-e8b5-79388957b7d2"
   },
   "outputs": [
    {
     "name": "stdout",
     "output_type": "stream",
     "text": [
      "   userId  movieId              tag   timestamp\n",
      "0       2    60756            funny  1445714994\n",
      "1       2    60756  Highly quotable  1445714996\n",
      "2       2    60756     will ferrell  1445714992\n",
      "3       2    89774     Boxing story  1445715207\n",
      "4       2    89774              MMA  1445715200\n"
     ]
    }
   ],
   "source": [
    "print(tags.head())"
   ]
  },
  {
   "cell_type": "code",
   "execution_count": 37,
   "metadata": {
    "colab": {
     "base_uri": "https://localhost:8080/"
    },
    "id": "T9Y8ToDFE22-",
    "outputId": "74d6a597-fa3e-45be-aba8-1f77455a87a0"
   },
   "outputs": [
    {
     "name": "stdout",
     "output_type": "stream",
     "text": [
      "<class 'pandas.core.frame.DataFrame'>\n",
      "RangeIndex: 9742 entries, 0 to 9741\n",
      "Data columns (total 3 columns):\n",
      " #   Column   Non-Null Count  Dtype \n",
      "---  ------   --------------  ----- \n",
      " 0   movieId  9742 non-null   int64 \n",
      " 1   title    9742 non-null   object\n",
      " 2   genres   9742 non-null   object\n",
      "dtypes: int64(1), object(2)\n",
      "memory usage: 228.5+ KB\n",
      "None\n"
     ]
    }
   ],
   "source": [
    "print(movies.info())"
   ]
  },
  {
   "cell_type": "code",
   "execution_count": 38,
   "metadata": {
    "colab": {
     "base_uri": "https://localhost:8080/"
    },
    "id": "izf3k0ZlE_cO",
    "outputId": "db0919e4-a1b3-4e82-c677-1430dd59900c"
   },
   "outputs": [
    {
     "name": "stdout",
     "output_type": "stream",
     "text": [
      "<class 'pandas.core.frame.DataFrame'>\n",
      "RangeIndex: 100836 entries, 0 to 100835\n",
      "Data columns (total 4 columns):\n",
      " #   Column     Non-Null Count   Dtype  \n",
      "---  ------     --------------   -----  \n",
      " 0   userId     100836 non-null  int64  \n",
      " 1   movieId    100836 non-null  int64  \n",
      " 2   rating     100836 non-null  float64\n",
      " 3   timestamp  100836 non-null  int64  \n",
      "dtypes: float64(1), int64(3)\n",
      "memory usage: 3.1 MB\n",
      "None\n"
     ]
    }
   ],
   "source": [
    "print(ratings.info())"
   ]
  },
  {
   "cell_type": "code",
   "execution_count": 39,
   "metadata": {
    "colab": {
     "base_uri": "https://localhost:8080/"
    },
    "id": "QIqUUY2nFA4G",
    "outputId": "32d0e359-b952-4891-b118-faf651acc610"
   },
   "outputs": [
    {
     "name": "stdout",
     "output_type": "stream",
     "text": [
      "<class 'pandas.core.frame.DataFrame'>\n",
      "RangeIndex: 3683 entries, 0 to 3682\n",
      "Data columns (total 4 columns):\n",
      " #   Column     Non-Null Count  Dtype \n",
      "---  ------     --------------  ----- \n",
      " 0   userId     3683 non-null   int64 \n",
      " 1   movieId    3683 non-null   int64 \n",
      " 2   tag        3683 non-null   object\n",
      " 3   timestamp  3683 non-null   int64 \n",
      "dtypes: int64(3), object(1)\n",
      "memory usage: 115.2+ KB\n",
      "None\n"
     ]
    }
   ],
   "source": [
    "print(tags.info())"
   ]
  },
  {
   "cell_type": "markdown",
   "metadata": {
    "id": "4CxaruVupQhr"
   },
   "source": [
    "#4.**Data Cleaning**"
   ]
  },
  {
   "cell_type": "markdown",
   "metadata": {
    "id": "ArL85y_WpbUr"
   },
   "source": [
    "##Correct Formats"
   ]
  },
  {
   "cell_type": "code",
   "execution_count": 40,
   "metadata": {
    "colab": {
     "base_uri": "https://localhost:8080/"
    },
    "id": "diMHaBIlt4SN",
    "outputId": "e9a94f9c-0315-495e-c023-06abce04b2d4"
   },
   "outputs": [
    {
     "name": "stdout",
     "output_type": "stream",
     "text": [
      "<class 'pandas.core.frame.DataFrame'>\n",
      "RangeIndex: 9742 entries, 0 to 9741\n",
      "Data columns (total 3 columns):\n",
      " #   Column   Non-Null Count  Dtype \n",
      "---  ------   --------------  ----- \n",
      " 0   movieId  9742 non-null   int64 \n",
      " 1   title    9742 non-null   object\n",
      " 2   genres   9742 non-null   object\n",
      "dtypes: int64(1), object(2)\n",
      "memory usage: 228.5+ KB\n",
      "None\n"
     ]
    }
   ],
   "source": [
    "# Confirming the format of individual columns\n",
    "print(movies.info())"
   ]
  },
  {
   "cell_type": "markdown",
   "metadata": {
    "id": "3ZSgDqhCpg8U"
   },
   "source": [
    "##Confirming Mising values"
   ]
  },
  {
   "cell_type": "code",
   "execution_count": 41,
   "metadata": {
    "colab": {
     "base_uri": "https://localhost:8080/"
    },
    "id": "k9cMv2jbuL4l",
    "outputId": "417d7226-7569-41ad-920f-bc27f4a35e4c"
   },
   "outputs": [
    {
     "name": "stdout",
     "output_type": "stream",
     "text": [
      "movieId    0\n",
      "title      0\n",
      "genres     0\n",
      "dtype: int64\n",
      "userId       0\n",
      "movieId      0\n",
      "rating       0\n",
      "timestamp    0\n",
      "dtype: int64\n",
      "userId       0\n",
      "movieId      0\n",
      "tag          0\n",
      "timestamp    0\n",
      "dtype: int64\n"
     ]
    }
   ],
   "source": [
    "#Confirming whether there are missing values\n",
    "print(movies.isnull().sum())\n",
    "print(ratings.isnull().sum())\n",
    "print(tags.isnull().sum())"
   ]
  },
  {
   "cell_type": "markdown",
   "metadata": {
    "id": "NfJ-OeYvpUMz"
   },
   "source": [
    "##Merging the datasets"
   ]
  },
  {
   "cell_type": "code",
   "execution_count": 42,
   "metadata": {
    "colab": {
     "base_uri": "https://localhost:8080/"
    },
    "id": "z-qhk0SgFn8W",
    "outputId": "830b428b-e8c6-497f-abc9-650a43302908"
   },
   "outputs": [
    {
     "name": "stdout",
     "output_type": "stream",
     "text": [
      "   movieId             title                                       genres  \\\n",
      "0        1  Toy Story (1995)  Adventure|Animation|Children|Comedy|Fantasy   \n",
      "1        1  Toy Story (1995)  Adventure|Animation|Children|Comedy|Fantasy   \n",
      "2        1  Toy Story (1995)  Adventure|Animation|Children|Comedy|Fantasy   \n",
      "3        1  Toy Story (1995)  Adventure|Animation|Children|Comedy|Fantasy   \n",
      "4        1  Toy Story (1995)  Adventure|Animation|Children|Comedy|Fantasy   \n",
      "\n",
      "   userId  rating   timestamp_x  tag  timestamp_y  \n",
      "0     1.0     4.0  9.649827e+08  NaN          NaN  \n",
      "1     5.0     4.0  8.474350e+08  NaN          NaN  \n",
      "2     7.0     4.5  1.106636e+09  NaN          NaN  \n",
      "3    15.0     2.5  1.510578e+09  NaN          NaN  \n",
      "4    17.0     4.5  1.305696e+09  NaN          NaN  \n"
     ]
    }
   ],
   "source": [
    "# Merging the datasets into a common dataset\n",
    "movie_data = pd.merge(movies, ratings, on='movieId', how='outer')\n",
    "movie_data = pd.merge(movie_data, tags, on=['userId', 'movieId'], how='outer')\n",
    "print(movie_data.head())"
   ]
  },
  {
   "cell_type": "markdown",
   "metadata": {
    "id": "F9_bUXU-gu1C"
   },
   "source": [
    "## Checking Duplicates"
   ]
  },
  {
   "cell_type": "code",
   "execution_count": 43,
   "metadata": {
    "colab": {
     "base_uri": "https://localhost:8080/"
    },
    "id": "E_8xXfOTgtxU",
    "outputId": "d8324cca-1b70-45e5-9308-2d7f795b99d3"
   },
   "outputs": [
    {
     "data": {
      "text/plain": [
       "0"
      ]
     },
     "execution_count": 43,
     "metadata": {},
     "output_type": "execute_result"
    }
   ],
   "source": [
    "#Checking for duplicates in the movies_data.\n",
    "#There were no duplicates in the dataset\n",
    "movie_data.duplicated().sum()"
   ]
  },
  {
   "cell_type": "markdown",
   "metadata": {
    "id": "c50ANE43pDXb"
   },
   "source": [
    "##Exploratory Data Analysis(EDA)"
   ]
  },
  {
   "cell_type": "code",
   "execution_count": 44,
   "metadata": {
    "colab": {
     "base_uri": "https://localhost:8080/"
    },
    "id": "Wsbc1dK-GATz",
    "outputId": "25c10d11-6cdb-4511-e7ea-9f64b7576ef8"
   },
   "outputs": [
    {
     "name": "stdout",
     "output_type": "stream",
     "text": [
      "(102902, 8)\n"
     ]
    }
   ],
   "source": [
    "print(movie_data.shape)"
   ]
  },
  {
   "cell_type": "code",
   "execution_count": 45,
   "metadata": {
    "colab": {
     "base_uri": "https://localhost:8080/",
     "height": 362
    },
    "id": "lE6Nptnz3sfs",
    "outputId": "c62f3ff0-df5d-4a72-91e3-8daa6eb5f1df"
   },
   "outputs": [
    {
     "data": {
      "text/html": [
       "<div>\n",
       "<style scoped>\n",
       "    .dataframe tbody tr th:only-of-type {\n",
       "        vertical-align: middle;\n",
       "    }\n",
       "\n",
       "    .dataframe tbody tr th {\n",
       "        vertical-align: top;\n",
       "    }\n",
       "\n",
       "    .dataframe thead th {\n",
       "        text-align: right;\n",
       "    }\n",
       "</style>\n",
       "<table border=\"1\" class=\"dataframe\">\n",
       "  <thead>\n",
       "    <tr style=\"text-align: right;\">\n",
       "      <th></th>\n",
       "      <th>movieId</th>\n",
       "      <th>title</th>\n",
       "      <th>genres</th>\n",
       "      <th>userId</th>\n",
       "      <th>rating</th>\n",
       "      <th>timestamp_x</th>\n",
       "      <th>tag</th>\n",
       "      <th>timestamp_y</th>\n",
       "      <th>date</th>\n",
       "      <th>year</th>\n",
       "    </tr>\n",
       "  </thead>\n",
       "  <tbody>\n",
       "    <tr>\n",
       "      <th>0</th>\n",
       "      <td>1</td>\n",
       "      <td>Toy Story (1995)</td>\n",
       "      <td>Adventure|Animation|Children|Comedy|Fantasy</td>\n",
       "      <td>1.0</td>\n",
       "      <td>4.0</td>\n",
       "      <td>9.649827e+08</td>\n",
       "      <td>NaN</td>\n",
       "      <td>NaN</td>\n",
       "      <td>2000-07-30</td>\n",
       "      <td>2000.0</td>\n",
       "    </tr>\n",
       "    <tr>\n",
       "      <th>1</th>\n",
       "      <td>1</td>\n",
       "      <td>Toy Story (1995)</td>\n",
       "      <td>Adventure|Animation|Children|Comedy|Fantasy</td>\n",
       "      <td>5.0</td>\n",
       "      <td>4.0</td>\n",
       "      <td>8.474350e+08</td>\n",
       "      <td>NaN</td>\n",
       "      <td>NaN</td>\n",
       "      <td>1996-11-08</td>\n",
       "      <td>1996.0</td>\n",
       "    </tr>\n",
       "    <tr>\n",
       "      <th>2</th>\n",
       "      <td>1</td>\n",
       "      <td>Toy Story (1995)</td>\n",
       "      <td>Adventure|Animation|Children|Comedy|Fantasy</td>\n",
       "      <td>7.0</td>\n",
       "      <td>4.5</td>\n",
       "      <td>1.106636e+09</td>\n",
       "      <td>NaN</td>\n",
       "      <td>NaN</td>\n",
       "      <td>2005-01-25</td>\n",
       "      <td>2005.0</td>\n",
       "    </tr>\n",
       "    <tr>\n",
       "      <th>3</th>\n",
       "      <td>1</td>\n",
       "      <td>Toy Story (1995)</td>\n",
       "      <td>Adventure|Animation|Children|Comedy|Fantasy</td>\n",
       "      <td>15.0</td>\n",
       "      <td>2.5</td>\n",
       "      <td>1.510578e+09</td>\n",
       "      <td>NaN</td>\n",
       "      <td>NaN</td>\n",
       "      <td>2017-11-13</td>\n",
       "      <td>2017.0</td>\n",
       "    </tr>\n",
       "    <tr>\n",
       "      <th>4</th>\n",
       "      <td>1</td>\n",
       "      <td>Toy Story (1995)</td>\n",
       "      <td>Adventure|Animation|Children|Comedy|Fantasy</td>\n",
       "      <td>17.0</td>\n",
       "      <td>4.5</td>\n",
       "      <td>1.305696e+09</td>\n",
       "      <td>NaN</td>\n",
       "      <td>NaN</td>\n",
       "      <td>2011-05-18</td>\n",
       "      <td>2011.0</td>\n",
       "    </tr>\n",
       "  </tbody>\n",
       "</table>\n",
       "</div>"
      ],
      "text/plain": [
       "   movieId             title                                       genres  \\\n",
       "0        1  Toy Story (1995)  Adventure|Animation|Children|Comedy|Fantasy   \n",
       "1        1  Toy Story (1995)  Adventure|Animation|Children|Comedy|Fantasy   \n",
       "2        1  Toy Story (1995)  Adventure|Animation|Children|Comedy|Fantasy   \n",
       "3        1  Toy Story (1995)  Adventure|Animation|Children|Comedy|Fantasy   \n",
       "4        1  Toy Story (1995)  Adventure|Animation|Children|Comedy|Fantasy   \n",
       "\n",
       "   userId  rating   timestamp_x  tag  timestamp_y        date    year  \n",
       "0     1.0     4.0  9.649827e+08  NaN          NaN  2000-07-30  2000.0  \n",
       "1     5.0     4.0  8.474350e+08  NaN          NaN  1996-11-08  1996.0  \n",
       "2     7.0     4.5  1.106636e+09  NaN          NaN  2005-01-25  2005.0  \n",
       "3    15.0     2.5  1.510578e+09  NaN          NaN  2017-11-13  2017.0  \n",
       "4    17.0     4.5  1.305696e+09  NaN          NaN  2011-05-18  2011.0  "
      ]
     },
     "execution_count": 45,
     "metadata": {},
     "output_type": "execute_result"
    }
   ],
   "source": [
    "#Separate the timestamp column into date and year\n",
    "movie_data['date'] = pd.to_datetime(movie_data['timestamp_x'], unit='s').dt.date\n",
    "movie_data['year'] = pd.to_datetime(movie_data['timestamp_x'], unit='s').dt.year\n",
    "movie_data.head()"
   ]
  },
  {
   "cell_type": "code",
   "execution_count": 46,
   "metadata": {
    "colab": {
     "base_uri": "https://localhost:8080/"
    },
    "id": "2t3Wfb61GINH",
    "outputId": "2b15b2f2-cb40-421c-a5aa-77d47861f210"
   },
   "outputs": [
    {
     "name": "stdout",
     "output_type": "stream",
     "text": [
      "<class 'pandas.core.frame.DataFrame'>\n",
      "Int64Index: 102902 entries, 0 to 102901\n",
      "Data columns (total 10 columns):\n",
      " #   Column       Non-Null Count   Dtype  \n",
      "---  ------       --------------   -----  \n",
      " 0   movieId      102902 non-null  int64  \n",
      " 1   title        102695 non-null  object \n",
      " 2   genres       102695 non-null  object \n",
      " 3   userId       102884 non-null  float64\n",
      " 4   rating       102677 non-null  float64\n",
      " 5   timestamp_x  102677 non-null  float64\n",
      " 6   tag          3683 non-null    object \n",
      " 7   timestamp_y  3683 non-null    float64\n",
      " 8   date         102677 non-null  object \n",
      " 9   year         102677 non-null  float64\n",
      "dtypes: float64(5), int64(1), object(4)\n",
      "memory usage: 8.6+ MB\n",
      "None\n"
     ]
    }
   ],
   "source": [
    "print(movie_data.info())"
   ]
  },
  {
   "cell_type": "code",
   "execution_count": 47,
   "metadata": {
    "colab": {
     "base_uri": "https://localhost:8080/"
    },
    "id": "aUAtHiAsGJzv",
    "outputId": "334d1f72-f7e5-44ec-e4be-ea5a02cad884"
   },
   "outputs": [
    {
     "name": "stdout",
     "output_type": "stream",
     "text": [
      "             movieId         userId         rating   timestamp_x  \\\n",
      "count  102902.000000  102884.000000  102677.000000  1.026770e+05   \n",
      "mean    19731.937844     328.016028       3.514813  1.209495e+09   \n",
      "std     35868.440724     183.158345       1.043133  2.170117e+08   \n",
      "min         1.000000       1.000000       0.500000  8.281246e+08   \n",
      "25%      1199.000000     177.000000       3.000000  1.019138e+09   \n",
      "50%      3006.000000     330.000000       3.500000  1.186590e+09   \n",
      "75%      8364.000000     477.000000       4.000000  1.439916e+09   \n",
      "max    193609.000000     610.000000       5.000000  1.537799e+09   \n",
      "\n",
      "        timestamp_y           year  \n",
      "count  3.683000e+03  102677.000000  \n",
      "mean   1.320032e+09    2007.837461  \n",
      "std    1.721025e+08       6.915344  \n",
      "min    1.137179e+09    1996.000000  \n",
      "25%    1.137521e+09    2002.000000  \n",
      "50%    1.269833e+09    2007.000000  \n",
      "75%    1.498457e+09    2015.000000  \n",
      "max    1.537099e+09    2018.000000  \n"
     ]
    }
   ],
   "source": [
    "print(movie_data.describe())"
   ]
  },
  {
   "cell_type": "code",
   "execution_count": 48,
   "metadata": {
    "colab": {
     "base_uri": "https://localhost:8080/"
    },
    "id": "_zxYpYlyGN7J",
    "outputId": "eff4d13c-1d78-41c8-e47b-b20b5de088bd"
   },
   "outputs": [
    {
     "name": "stdout",
     "output_type": "stream",
     "text": [
      "Unique values in column 'movieId': 9742\n",
      "Unique values in column 'title': 9737\n",
      "Unique values in column 'genres': 951\n",
      "Unique values in column 'userId': 610\n",
      "Unique values in column 'rating': 10\n",
      "Unique values in column 'timestamp_x': 85043\n",
      "Unique values in column 'tag': 1589\n",
      "Unique values in column 'timestamp_y': 3411\n",
      "Unique values in column 'date': 4110\n",
      "Unique values in column 'year': 23\n"
     ]
    }
   ],
   "source": [
    "# Checking for unique values in the dataset\n",
    "for col in movie_data.columns:\n",
    "    print(f\"Unique values in column '{col}': {movie_data[col].nunique()}\")"
   ]
  },
  {
   "cell_type": "code",
   "execution_count": 49,
   "metadata": {
    "colab": {
     "base_uri": "https://localhost:8080/",
     "height": 397
    },
    "id": "xlxRwyuHGZbh",
    "outputId": "6cb5d313-9671-42db-d163-56f883f99534"
   },
   "outputs": [
    {
     "data": {
      "text/plain": [
       "movieId            0\n",
       "title            207\n",
       "genres           207\n",
       "userId            18\n",
       "rating           225\n",
       "timestamp_x      225\n",
       "tag            99219\n",
       "timestamp_y    99219\n",
       "date             225\n",
       "year             225\n",
       "dtype: int64"
      ]
     },
     "execution_count": 49,
     "metadata": {},
     "output_type": "execute_result"
    }
   ],
   "source": [
    "movie_data.isnull().sum()"
   ]
  },
  {
   "cell_type": "code",
   "execution_count": 50,
   "metadata": {
    "colab": {
     "base_uri": "https://localhost:8080/",
     "height": 496
    },
    "id": "SOThbYC6LIIc",
    "outputId": "21be0b6d-0957-480d-c742-57f12328414f"
   },
   "outputs": [
    {
     "data": {
      "image/png": "[encoded data removed]",
      "text/plain": [
       "<Figure size 576x360 with 1 Axes>"
      ]
     },
     "metadata": {},
     "output_type": "display_data"
    }
   ],
   "source": [
    "#Rating distribution\n",
    "plt.figure(figsize=(8,5))\n",
    "sns.countplot(data=ratings, x='rating', palette='viridis')\n",
    "plt.title('rating distribution')\n",
    "plt.xlabel('rating')\n",
    "plt.ylabel('count')\n",
    "plt.show()"
   ]
  },
  {
   "cell_type": "code",
   "execution_count": 51,
   "metadata": {
    "colab": {
     "base_uri": "https://localhost:8080/",
     "height": 399
    },
    "id": "zuxfCXfQGq0_",
    "outputId": "2be77569-d4ba-448d-8da4-0037478930a3"
   },
   "outputs": [
    {
     "name": "stdout",
     "output_type": "stream",
     "text": [
      "\n",
      "Top Rated Movies (min 100 ratings):\n"
     ]
    },
    {
     "data": {
      "text/html": [
       "<div>\n",
       "<style scoped>\n",
       "    .dataframe tbody tr th:only-of-type {\n",
       "        vertical-align: middle;\n",
       "    }\n",
       "\n",
       "    .dataframe tbody tr th {\n",
       "        vertical-align: top;\n",
       "    }\n",
       "\n",
       "    .dataframe thead th {\n",
       "        text-align: right;\n",
       "    }\n",
       "</style>\n",
       "<table border=\"1\" class=\"dataframe\">\n",
       "  <thead>\n",
       "    <tr style=\"text-align: right;\">\n",
       "      <th></th>\n",
       "      <th>title</th>\n",
       "      <th>avg_rating</th>\n",
       "      <th>num_ratings</th>\n",
       "    </tr>\n",
       "  </thead>\n",
       "  <tbody>\n",
       "    <tr>\n",
       "      <th>277</th>\n",
       "      <td>Shawshank Redemption, The (1994)</td>\n",
       "      <td>4.429022</td>\n",
       "      <td>317</td>\n",
       "    </tr>\n",
       "    <tr>\n",
       "      <th>659</th>\n",
       "      <td>Godfather, The (1972)</td>\n",
       "      <td>4.289062</td>\n",
       "      <td>192</td>\n",
       "    </tr>\n",
       "    <tr>\n",
       "      <th>2224</th>\n",
       "      <td>Fight Club (1999)</td>\n",
       "      <td>4.272936</td>\n",
       "      <td>218</td>\n",
       "    </tr>\n",
       "    <tr>\n",
       "      <th>921</th>\n",
       "      <td>Godfather: Part II, The (1974)</td>\n",
       "      <td>4.259690</td>\n",
       "      <td>129</td>\n",
       "    </tr>\n",
       "    <tr>\n",
       "      <th>6298</th>\n",
       "      <td>Departed, The (2006)</td>\n",
       "      <td>4.252336</td>\n",
       "      <td>107</td>\n",
       "    </tr>\n",
       "    <tr>\n",
       "      <th>913</th>\n",
       "      <td>Goodfellas (1990)</td>\n",
       "      <td>4.250000</td>\n",
       "      <td>126</td>\n",
       "    </tr>\n",
       "    <tr>\n",
       "      <th>694</th>\n",
       "      <td>Casablanca (1942)</td>\n",
       "      <td>4.240000</td>\n",
       "      <td>100</td>\n",
       "    </tr>\n",
       "    <tr>\n",
       "      <th>6693</th>\n",
       "      <td>Dark Knight, The (2008)</td>\n",
       "      <td>4.238255</td>\n",
       "      <td>149</td>\n",
       "    </tr>\n",
       "    <tr>\n",
       "      <th>46</th>\n",
       "      <td>Usual Suspects, The (1995)</td>\n",
       "      <td>4.237745</td>\n",
       "      <td>204</td>\n",
       "    </tr>\n",
       "    <tr>\n",
       "      <th>898</th>\n",
       "      <td>Princess Bride, The (1987)</td>\n",
       "      <td>4.232394</td>\n",
       "      <td>142</td>\n",
       "    </tr>\n",
       "  </tbody>\n",
       "</table>\n",
       "</div>"
      ],
      "text/plain": [
       "                                 title  avg_rating  num_ratings\n",
       "277   Shawshank Redemption, The (1994)    4.429022          317\n",
       "659              Godfather, The (1972)    4.289062          192\n",
       "2224                 Fight Club (1999)    4.272936          218\n",
       "921     Godfather: Part II, The (1974)    4.259690          129\n",
       "6298              Departed, The (2006)    4.252336          107\n",
       "913                  Goodfellas (1990)    4.250000          126\n",
       "694                  Casablanca (1942)    4.240000          100\n",
       "6693           Dark Knight, The (2008)    4.238255          149\n",
       "46          Usual Suspects, The (1995)    4.237745          204\n",
       "898         Princess Bride, The (1987)    4.232394          142"
      ]
     },
     "metadata": {},
     "output_type": "display_data"
    }
   ],
   "source": [
    "# Average Rating per Movie\n",
    "movie_stats = ratings.groupby('movieId').agg(avg_rating=('rating', 'mean'),\n",
    "                                              num_ratings=('rating', 'count')).reset_index()\n",
    "\n",
    "# Merge with movies\n",
    "movie_stats = movie_stats.merge(movies, on='movieId')\n",
    "\n",
    "# Filter movies with at least 100 ratings\n",
    "top_rated = movie_stats[movie_stats['num_ratings'] >= 100]\n",
    "top_rated = top_rated.sort_values('avg_rating', ascending=False).head(10)\n",
    "\n",
    "print(\"\\nTop Rated Movies (min 100 ratings):\")\n",
    "display(top_rated[['title', 'avg_rating', 'num_ratings']])"
   ]
  },
  {
   "cell_type": "code",
   "execution_count": 52,
   "metadata": {
    "colab": {
     "base_uri": "https://localhost:8080/",
     "height": 704
    },
    "id": "eQEJntuOGvbf",
    "outputId": "523a8f87-43f2-4fec-c8eb-3ebcd71047ae"
   },
   "outputs": [
    {
     "data": {
      "image/png": "[encoded data removed]",
      "text/plain": [
       "<Figure size 720x576 with 2 Axes>"
      ]
     },
     "metadata": {},
     "output_type": "display_data"
    }
   ],
   "source": [
    "# Heatmap of Correlation Matrix (if numerical columns exist)\n",
    "numerical_cols = movie_data.select_dtypes(include=np.number).columns\n",
    "plt.figure(figsize=(10, 8))\n",
    "sns.heatmap(movie_data[numerical_cols].corr(), annot=True, cmap='viridis', fmt=\".2f\")\n",
    "plt.title('Correlation Matrix of Numerical Features')\n",
    "plt.show()"
   ]
  },
  {
   "cell_type": "code",
   "execution_count": 53,
   "metadata": {
    "colab": {
     "base_uri": "https://localhost:8080/",
     "height": 629
    },
    "id": "-9nV_3XJNrhg",
    "outputId": "736af07d-8568-4e8a-8048-543bf02dac59"
   },
   "outputs": [
    {
     "data": {
      "image/png": "[encoded data removed]",
      "text/plain": [
       "<Figure size 864x432 with 1 Axes>"
      ]
     },
     "metadata": {},
     "output_type": "display_data"
    }
   ],
   "source": [
    "# Genre Analysis\n",
    "# Split genres into individual genre rows\n",
    "genre_counts = movies['genres'].str.split('|').explode().value_counts()\n",
    "\n",
    "plt.figure(figsize=(12, 6))\n",
    "sns.barplot(x=genre_counts.index, y=genre_counts.values, palette='viridis')\n",
    "plt.xticks(rotation=45)\n",
    "plt.title('Number of Movies per Genre')\n",
    "plt.xlabel('Genre')\n",
    "plt.ylabel('Count')\n",
    "plt.show()"
   ]
  },
  {
   "cell_type": "code",
   "execution_count": 54,
   "metadata": {
    "colab": {
     "base_uri": "https://localhost:8080/",
     "height": 573
    },
    "id": "Jdpjj-GoOEa4",
    "outputId": "edb1b13e-817a-4756-b028-c7eb6fd0c5b3"
   },
   "outputs": [
    {
     "data": {
      "image/png": "[encoded data removed]",
      "text/plain": [
       "<Figure size 720x432 with 1 Axes>"
      ]
     },
     "metadata": {},
     "output_type": "display_data"
    }
   ],
   "source": [
    "#Tag Frequency\n",
    "top_tags = tags['tag'].value_counts().head(20)\n",
    "\n",
    "plt.figure(figsize=(10, 6))\n",
    "sns.barplot(x=top_tags.values, y=top_tags.index, palette='viridis')\n",
    "plt.title('Top 20 Tags Used')\n",
    "plt.xlabel('Frequency')\n",
    "plt.ylabel('Tag')\n",
    "plt.show()\n"
   ]
  },
  {
   "cell_type": "markdown",
   "metadata": {
    "id": "ul9tOPFrbUCd"
   },
   "source": [
    "# Data Preprocessing\n"
   ]
  },
  {
   "cell_type": "markdown",
   "metadata": {
    "id": "UXVVjAUxzcKs"
   },
   "source": [
    "#Handling NaNs\n",
    "We begun by handling nans in our columns"
   ]
  },
  {
   "cell_type": "code",
   "execution_count": 55,
   "metadata": {
    "colab": {
     "base_uri": "https://localhost:8080/",
     "height": 397
    },
    "id": "O4VuVS0C6JjO",
    "outputId": "ed76f3cf-c788-446d-c0d9-2c5ab8a48a10"
   },
   "outputs": [
    {
     "data": {
      "text/plain": [
       "movieId            0\n",
       "title            207\n",
       "genres           207\n",
       "userId            18\n",
       "rating           225\n",
       "timestamp_x      225\n",
       "tag            99219\n",
       "timestamp_y    99219\n",
       "date             225\n",
       "year             225\n",
       "dtype: int64"
      ]
     },
     "execution_count": 55,
     "metadata": {},
     "output_type": "execute_result"
    }
   ],
   "source": [
    "movie_data.isnull().sum()"
   ]
  },
  {
   "cell_type": "code",
   "execution_count": 56,
   "metadata": {
    "id": "M8wovNIizbKn"
   },
   "outputs": [],
   "source": [
    "#replace missing values\n",
    "movie_data['title'] = movie_data['title'].astype(str).fillna('')\n",
    "movie_data['tag'] = movie_data['tag'].astype(str).fillna('')\n",
    "movie_data['genres'] = movie_data['genres'].astype(str).fillna('')\n",
    "movie_data['rating'] = movie_data['rating'].fillna(movie_data['rating'].mean())\n",
    "movie_data = movie_data.dropna(subset=['userId'])"
   ]
  },
  {
   "cell_type": "markdown",
   "metadata": {
    "id": "0NyPbn5C73cq"
   },
   "source": [
    "## Encoding\n",
    "In this step we will encode categorical columns movieid, title, genres, userid, tag into numerical formats.\n",
    "Then we handle the multilabel column genres"
   ]
  },
  {
   "cell_type": "markdown",
   "metadata": {
    "id": "Y1EKrf--vw9d"
   },
   "source": [
    "1st we handle movieid, userid.We encode them into sequential integer indices This code will transform user and movie IDs into consistent encoded IDs like 0,1,2,3,4,5"
   ]
  },
  {
   "cell_type": "code",
   "execution_count": 57,
   "metadata": {
    "id": "ExC5PxnV7Wkw"
   },
   "outputs": [],
   "source": [
    "#movieid and userid\n",
    "user_encoder = LabelEncoder()\n",
    "movie_encoder = LabelEncoder()\n",
    "\n",
    "movie_data['userId_encoded'] = user_encoder.fit_transform(movie_data['userId'])\n",
    "movie_data['movieId_encoded'] = movie_encoder.fit_transform(movie_data['movieId'])"
   ]
  },
  {
   "cell_type": "markdown",
   "metadata": {
    "id": "dApjcQ-CcCw8"
   },
   "source": [
    "2nd we perform TF-IDF on the title and tag columns. This will convert text into numeric vectors that reflect how important each word is"
   ]
  },
  {
   "cell_type": "code",
   "execution_count": 58,
   "metadata": {
    "id": "pcZxLVfQbFdL"
   },
   "outputs": [],
   "source": [
    "#title and Tags\n",
    "tfidf = TfidfVectorizer(max_features=100)\n",
    "title_tfidf = tfidf.fit_transform(movie_data['title']).toarray()\n",
    "\n",
    "tag_vectorizer = TfidfVectorizer(max_features=100)\n",
    "tag_tfidf = tag_vectorizer.fit_transform(movie_data['tag'].fillna('')).toarray()\n",
    "\n"
   ]
  },
  {
   "cell_type": "markdown",
   "metadata": {
    "id": "bzWhkTj1wGbF"
   },
   "source": [
    "3rd we handle the genres column which is multi-label which means one movie can belong to more than one genre, we will convert it into multi-hot encoding"
   ]
  },
  {
   "cell_type": "code",
   "execution_count": 59,
   "metadata": {
    "id": "3vA6qltvvBdO"
   },
   "outputs": [],
   "source": [
    "#Fill NaNs and split genres\n",
    "movie_data['genres'] = movie_data['genres'].astype(str).fillna('')\n",
    "\n",
    "#Get all unique genres\n",
    "all_genres = set(g for genre_list in movie_data['genres'] for g in genre_list)\n",
    "\n",
    "#Create binary columns for each genre\n",
    "for genre in all_genres:\n",
    "    movie_data[f'genre_{genre}'] = movie_data['genres'].apply(lambda x: int(genre in x))\n"
   ]
  },
  {
   "cell_type": "markdown",
   "metadata": {
    "id": "Ac8CmmkJ76q3"
   },
   "source": [
    "##Standardization\n",
    "We normalize the numerical column rating.\n"
   ]
  },
  {
   "cell_type": "code",
   "execution_count": 60,
   "metadata": {
    "id": "5GxEgBJvunF8"
   },
   "outputs": [],
   "source": [
    "scaler = MinMaxScaler()\n",
    "movie_data['rating_normalized'] = scaler.fit_transform(movie_data[['rating']])"
   ]
  },
  {
   "cell_type": "code",
   "execution_count": 61,
   "metadata": {
    "colab": {
     "base_uri": "https://localhost:8080/",
     "height": 429
    },
    "id": "t8mVGBGa4wdf",
    "outputId": "7843cdfe-8ed9-47ee-944c-259a1320c3be"
   },
   "outputs": [
    {
     "data": {
      "text/html": [
       "<div>\n",
       "<style scoped>\n",
       "    .dataframe tbody tr th:only-of-type {\n",
       "        vertical-align: middle;\n",
       "    }\n",
       "\n",
       "    .dataframe tbody tr th {\n",
       "        vertical-align: top;\n",
       "    }\n",
       "\n",
       "    .dataframe thead th {\n",
       "        text-align: right;\n",
       "    }\n",
       "</style>\n",
       "<table border=\"1\" class=\"dataframe\">\n",
       "  <thead>\n",
       "    <tr style=\"text-align: right;\">\n",
       "      <th></th>\n",
       "      <th>movieId</th>\n",
       "      <th>title</th>\n",
       "      <th>genres</th>\n",
       "      <th>userId</th>\n",
       "      <th>rating</th>\n",
       "      <th>timestamp_x</th>\n",
       "      <th>tag</th>\n",
       "      <th>timestamp_y</th>\n",
       "      <th>date</th>\n",
       "      <th>year</th>\n",
       "      <th>...</th>\n",
       "      <th>genre_n</th>\n",
       "      <th>genre_a</th>\n",
       "      <th>genre_S</th>\n",
       "      <th>genre_u</th>\n",
       "      <th>genre_r</th>\n",
       "      <th>genre_g</th>\n",
       "      <th>genre_(</th>\n",
       "      <th>genre_)</th>\n",
       "      <th>genre_C</th>\n",
       "      <th>rating_normalized</th>\n",
       "    </tr>\n",
       "  </thead>\n",
       "  <tbody>\n",
       "    <tr>\n",
       "      <th>0</th>\n",
       "      <td>1</td>\n",
       "      <td>Toy Story (1995)</td>\n",
       "      <td>Adventure|Animation|Children|Comedy|Fantasy</td>\n",
       "      <td>1.0</td>\n",
       "      <td>4.0</td>\n",
       "      <td>9.649827e+08</td>\n",
       "      <td>nan</td>\n",
       "      <td>NaN</td>\n",
       "      <td>2000-07-30</td>\n",
       "      <td>2000.0</td>\n",
       "      <td>...</td>\n",
       "      <td>1</td>\n",
       "      <td>1</td>\n",
       "      <td>0</td>\n",
       "      <td>1</td>\n",
       "      <td>1</td>\n",
       "      <td>0</td>\n",
       "      <td>0</td>\n",
       "      <td>0</td>\n",
       "      <td>1</td>\n",
       "      <td>0.777778</td>\n",
       "    </tr>\n",
       "    <tr>\n",
       "      <th>1</th>\n",
       "      <td>1</td>\n",
       "      <td>Toy Story (1995)</td>\n",
       "      <td>Adventure|Animation|Children|Comedy|Fantasy</td>\n",
       "      <td>5.0</td>\n",
       "      <td>4.0</td>\n",
       "      <td>8.474350e+08</td>\n",
       "      <td>nan</td>\n",
       "      <td>NaN</td>\n",
       "      <td>1996-11-08</td>\n",
       "      <td>1996.0</td>\n",
       "      <td>...</td>\n",
       "      <td>1</td>\n",
       "      <td>1</td>\n",
       "      <td>0</td>\n",
       "      <td>1</td>\n",
       "      <td>1</td>\n",
       "      <td>0</td>\n",
       "      <td>0</td>\n",
       "      <td>0</td>\n",
       "      <td>1</td>\n",
       "      <td>0.777778</td>\n",
       "    </tr>\n",
       "    <tr>\n",
       "      <th>2</th>\n",
       "      <td>1</td>\n",
       "      <td>Toy Story (1995)</td>\n",
       "      <td>Adventure|Animation|Children|Comedy|Fantasy</td>\n",
       "      <td>7.0</td>\n",
       "      <td>4.5</td>\n",
       "      <td>1.106636e+09</td>\n",
       "      <td>nan</td>\n",
       "      <td>NaN</td>\n",
       "      <td>2005-01-25</td>\n",
       "      <td>2005.0</td>\n",
       "      <td>...</td>\n",
       "      <td>1</td>\n",
       "      <td>1</td>\n",
       "      <td>0</td>\n",
       "      <td>1</td>\n",
       "      <td>1</td>\n",
       "      <td>0</td>\n",
       "      <td>0</td>\n",
       "      <td>0</td>\n",
       "      <td>1</td>\n",
       "      <td>0.888889</td>\n",
       "    </tr>\n",
       "    <tr>\n",
       "      <th>3</th>\n",
       "      <td>1</td>\n",
       "      <td>Toy Story (1995)</td>\n",
       "      <td>Adventure|Animation|Children|Comedy|Fantasy</td>\n",
       "      <td>15.0</td>\n",
       "      <td>2.5</td>\n",
       "      <td>1.510578e+09</td>\n",
       "      <td>nan</td>\n",
       "      <td>NaN</td>\n",
       "      <td>2017-11-13</td>\n",
       "      <td>2017.0</td>\n",
       "      <td>...</td>\n",
       "      <td>1</td>\n",
       "      <td>1</td>\n",
       "      <td>0</td>\n",
       "      <td>1</td>\n",
       "      <td>1</td>\n",
       "      <td>0</td>\n",
       "      <td>0</td>\n",
       "      <td>0</td>\n",
       "      <td>1</td>\n",
       "      <td>0.444444</td>\n",
       "    </tr>\n",
       "    <tr>\n",
       "      <th>4</th>\n",
       "      <td>1</td>\n",
       "      <td>Toy Story (1995)</td>\n",
       "      <td>Adventure|Animation|Children|Comedy|Fantasy</td>\n",
       "      <td>17.0</td>\n",
       "      <td>4.5</td>\n",
       "      <td>1.305696e+09</td>\n",
       "      <td>nan</td>\n",
       "      <td>NaN</td>\n",
       "      <td>2011-05-18</td>\n",
       "      <td>2011.0</td>\n",
       "      <td>...</td>\n",
       "      <td>1</td>\n",
       "      <td>1</td>\n",
       "      <td>0</td>\n",
       "      <td>1</td>\n",
       "      <td>1</td>\n",
       "      <td>0</td>\n",
       "      <td>0</td>\n",
       "      <td>0</td>\n",
       "      <td>1</td>\n",
       "      <td>0.888889</td>\n",
       "    </tr>\n",
       "  </tbody>\n",
       "</table>\n",
       "<p>5 rows × 48 columns</p>\n",
       "</div>"
      ],
      "text/plain": [
       "   movieId             title                                       genres  \\\n",
       "0        1  Toy Story (1995)  Adventure|Animation|Children|Comedy|Fantasy   \n",
       "1        1  Toy Story (1995)  Adventure|Animation|Children|Comedy|Fantasy   \n",
       "2        1  Toy Story (1995)  Adventure|Animation|Children|Comedy|Fantasy   \n",
       "3        1  Toy Story (1995)  Adventure|Animation|Children|Comedy|Fantasy   \n",
       "4        1  Toy Story (1995)  Adventure|Animation|Children|Comedy|Fantasy   \n",
       "\n",
       "   userId  rating   timestamp_x  tag  timestamp_y        date    year  ...  \\\n",
       "0     1.0     4.0  9.649827e+08  nan          NaN  2000-07-30  2000.0  ...   \n",
       "1     5.0     4.0  8.474350e+08  nan          NaN  1996-11-08  1996.0  ...   \n",
       "2     7.0     4.5  1.106636e+09  nan          NaN  2005-01-25  2005.0  ...   \n",
       "3    15.0     2.5  1.510578e+09  nan          NaN  2017-11-13  2017.0  ...   \n",
       "4    17.0     4.5  1.305696e+09  nan          NaN  2011-05-18  2011.0  ...   \n",
       "\n",
       "   genre_n  genre_a  genre_S  genre_u  genre_r  genre_g  genre_(  genre_)  \\\n",
       "0        1        1        0        1        1        0        0        0   \n",
       "1        1        1        0        1        1        0        0        0   \n",
       "2        1        1        0        1        1        0        0        0   \n",
       "3        1        1        0        1        1        0        0        0   \n",
       "4        1        1        0        1        1        0        0        0   \n",
       "\n",
       "   genre_C  rating_normalized  \n",
       "0        1           0.777778  \n",
       "1        1           0.777778  \n",
       "2        1           0.888889  \n",
       "3        1           0.444444  \n",
       "4        1           0.888889  \n",
       "\n",
       "[5 rows x 48 columns]"
      ]
     },
     "execution_count": 61,
     "metadata": {},
     "output_type": "execute_result"
    }
   ],
   "source": [
    "movie_data.head()"
   ]
  },
  {
   "cell_type": "markdown",
   "metadata": {
    "id": "4n6slz36pytk"
   },
   "source": [
    "# Modeling"
   ]
  },
  {
   "cell_type": "code",
   "execution_count": 63,
   "metadata": {
    "id": "SaXEnm8OOwWq"
   },
   "outputs": [],
   "source": [
    "movie_data_processed = movie_data"
   ]
  },
  {
   "cell_type": "markdown",
   "metadata": {},
   "source": [
    "Checking for cold start users or movies, by checking their unique numbers"
   ]
  },
  {
   "cell_type": "code",
   "execution_count": 64,
   "metadata": {},
   "outputs": [
    {
     "name": "stdout",
     "output_type": "stream",
     "text": [
      "Total ratings: 102884\n",
      "Unique users: 610\n",
      "Unique movies: 9742\n"
     ]
    }
   ],
   "source": [
    "print(f\"Total ratings: {len(movie_data_processed['rating'])}\")\n",
    "print(f\"Unique users: {movie_data_processed['userId'].nunique()}\")\n",
    "print(f\"Unique movies: {movie_data_processed['movieId'].nunique()}\")"
   ]
  },
  {
   "cell_type": "markdown",
   "metadata": {},
   "source": [
    "From the above, we can see that of all the ratings, there are 610 contributors and 9742 items"
   ]
  },
  {
   "cell_type": "code",
   "execution_count": 69,
   "metadata": {},
   "outputs": [
    {
     "name": "stdout",
     "output_type": "stream",
     "text": [
      "Cold users (≤1 rating): 0 (0.0%)\n"
     ]
    }
   ],
   "source": [
    "# Checking for cold start users with the threshold of atleast 5 ratings per user\n",
    "# How many ratings has each user given\n",
    "user_rating_counts = movie_data_processed['userId'].value_counts()\n",
    "# Identifying users with less than 5 ratings\n",
    "cold_users = user_rating_counts[user_rating_counts <= 5].count()\n",
    "\n",
    "print(f\"Cold users (≤1 rating): {cold_users} ({cold_users / len(user_rating_counts):.1%})\")"
   ]
  },
  {
   "cell_type": "markdown",
   "metadata": {},
   "source": [
    "We can see that all users have atleast 5 users, therefore we will not experience any cold start problems with the collaborative filtering method"
   ]
  },
  {
   "cell_type": "code",
   "execution_count": 72,
   "metadata": {},
   "outputs": [
    {
     "name": "stdout",
     "output_type": "stream",
     "text": [
      "Cold movies (≤1 rating): 6440 (66.1%)\n"
     ]
    }
   ],
   "source": [
    "# Checking for cold start movies with a threshold of atleast 5 ratings per movie\n",
    "# How many ratings has each movie been given\n",
    "movie_rating_counts = movie_data_processed['movieId'].value_counts()\n",
    "# Identifying movies with less than 10 ratings\n",
    "cold_movies = movie_rating_counts[movie_rating_counts <= 5].count()\n",
    "\n",
    "print(f\"Cold movies (≤1 rating): {cold_movies} ({cold_movies / len(movie_rating_counts):.1%})\")"
   ]
  },
  {
   "cell_type": "markdown",
   "metadata": {},
   "source": [
    "With a threshold of 5 ratings per movie, we can see that 66% of the movies are cold. Therefore we shall start our baseline model with a user-based analysis."
   ]
  },
  {
   "cell_type": "markdown",
   "metadata": {
    "id": "b346mq4EEgls"
   },
   "source": [
    "## Baseline Model"
   ]
  },
  {
   "cell_type": "markdown",
   "metadata": {
    "id": "Btz5b-TgElX9"
   },
   "source": [
    "### KNN Model"
   ]
  },
  {
   "cell_type": "markdown",
   "metadata": {
    "id": "MWq6rBNwOwWq"
   },
   "source": [
    "We shall start with KNN model as our baseline. The idea behind KNN is it assumes that similar things are usually close together. Since recommendation systems are all about finding and using those similarities, we thought this would be a solid place to start our analysis."
   ]
  },
  {
   "cell_type": "code",
   "execution_count": 76,
   "metadata": {
    "id": "83jQ9SqBOwWr"
   },
   "outputs": [],
   "source": [
    "# Create a Reader object to define the format\n",
    "reader = Reader(rating_scale=(0.5, 5.0))\n",
    "\n",
    "# Load the dataset into Surprise format\n",
    "data = Dataset.load_from_df(movie_data_processed[['userId', 'movieId', 'rating']], reader)"
   ]
  },
  {
   "cell_type": "markdown",
   "metadata": {
    "id": "emb4-izvOwWr"
   },
   "source": [
    "Splitting the data using 80/20 split"
   ]
  },
  {
   "cell_type": "code",
   "execution_count": 77,
   "metadata": {
    "id": "ddW50RctOwWr"
   },
   "outputs": [],
   "source": [
    "trainset, testset = train_test_split(data, test_size=0.2, random_state=42)"
   ]
  },
  {
   "cell_type": "markdown",
   "metadata": {
    "id": "riwKtAV5OwWr"
   },
   "source": [
    "To address the cold start problem, let us first use the user based collaborative filtering first using KNNBasic"
   ]
  },
  {
   "cell_type": "code",
   "execution_count": 78,
   "metadata": {
    "colab": {
     "base_uri": "https://localhost:8080/"
    },
    "id": "uXxCoTmBOwWs",
    "outputId": "bc1fc769-aa07-4f70-b474-a0b84787bf5c"
   },
   "outputs": [
    {
     "name": "stdout",
     "output_type": "stream",
     "text": [
      "Computing the cosine similarity matrix...\n",
      "Done computing similarity matrix.\n"
     ]
    },
    {
     "data": {
      "text/plain": [
       "<surprise.prediction_algorithms.knns.KNNBasic at 0x212c20a4c40>"
      ]
     },
     "execution_count": 78,
     "metadata": {},
     "output_type": "execute_result"
    }
   ],
   "source": [
    "# User-based collaborative filtering \n",
    "sim_options = {\n",
    "    'name': 'cosine',\n",
    "    'user_based': True\n",
    "}\n",
    "\n",
    "# Build KNN model\n",
    "knn_model = KNNBasic(sim_options=sim_options)\n",
    "\n",
    "# Train the model\n",
    "knn_model.fit(trainset)\n"
   ]
  },
  {
   "cell_type": "markdown",
   "metadata": {
    "id": "nNES7vl8OwWs"
   },
   "source": [
    "Since we are using KNN to predict ratings, we shall use the RMSE and MAE metrics to evaluate how well the model performed.\n"
   ]
  },
  {
   "cell_type": "code",
   "execution_count": 79,
   "metadata": {
    "colab": {
     "base_uri": "https://localhost:8080/"
    },
    "id": "6tVCAMEGOwWs",
    "outputId": "ded0fc70-036e-41e7-8ac5-8947c5c854fb"
   },
   "outputs": [
    {
     "name": "stdout",
     "output_type": "stream",
     "text": [
      "RMSE: 0.9695\n",
      "MAE:  0.7430\n"
     ]
    }
   ],
   "source": [
    "# Make predictions\n",
    "predictions = knn_model.test(testset)\n",
    "\n",
    "# Evaluate\n",
    "rmse = accuracy.rmse(predictions)\n",
    "mae = accuracy.mae(predictions)\n"
   ]
  },
  {
   "cell_type": "markdown",
   "metadata": {
    "id": "R7A22r8fOwWt"
   },
   "source": [
    "We shall use cross-validation to gives a more reliable, less biased, and stable estimate of RMSE and MAE compared to a single train-test split."
   ]
  },
  {
   "cell_type": "code",
   "execution_count": 80,
   "metadata": {
    "colab": {
     "base_uri": "https://localhost:8080/"
    },
    "id": "C77KJmoCOwWt",
    "outputId": "8d0ca679-f018-4b9d-d4ef-eca4bf3c884b"
   },
   "outputs": [
    {
     "name": "stdout",
     "output_type": "stream",
     "text": [
      "Computing the cosine similarity matrix...\n",
      "Done computing similarity matrix.\n",
      "Computing the cosine similarity matrix...\n",
      "Done computing similarity matrix.\n",
      "Computing the cosine similarity matrix...\n",
      "Done computing similarity matrix.\n",
      "Computing the cosine similarity matrix...\n",
      "Done computing similarity matrix.\n",
      "Computing the cosine similarity matrix...\n",
      "Done computing similarity matrix.\n",
      "Average RMSE: 0.9666\n",
      "Average MAE: 0.7422\n"
     ]
    }
   ],
   "source": [
    "cv_results = cross_validate(knn_model, data, measures=['RMSE', 'MAE'], cv=5, return_train_measures=True)\n",
    "rmse_knn = cv_results['test_rmse']\n",
    "mae_knn = cv_results['test_mae']\n",
    "print(f\"Average RMSE: {np.mean(rmse_knn):.4f}\")\n",
    "print(f\"Average MAE: {np.mean(mae_knn):.4f}\")"
   ]
  },
  {
   "cell_type": "markdown",
   "metadata": {
    "id": "yd5fht4COwWt"
   },
   "source": [
    "From the above results, we can see that the predictions from the model are about 0.97 stars off using RMSE and 0.74 stars off using MAE. We can say that the model is on average one star off. This could be due to KNN’s struggles with very sparse datasets and its limitations when working with larger ones. "
   ]
  },
  {
   "cell_type": "code",
   "execution_count": 81,
   "metadata": {},
   "outputs": [
    {
     "name": "stdout",
     "output_type": "stream",
     "text": [
      "Sparsity: 98.30%\n"
     ]
    }
   ],
   "source": [
    "# Checking the data's sparsity \n",
    "n_users = movie_data_processed['userId'].nunique()\n",
    "n_movies = movie_data_processed['movieId'].nunique()\n",
    "sparsity = 1 - (len(ratings) / (n_users * n_movies))\n",
    "\n",
    "print(f\"Sparsity: {sparsity:.2%}\")"
   ]
  },
  {
   "cell_type": "markdown",
   "metadata": {},
   "source": [
    "We can see that the data is moderately sparse. We’ll now try a more advanced technique—Singular Value Decomposition (SVD). SVD is better equipped to handle sparsity and scale, so we’re hoping it will give us improved performance, especially lower RMSE and MAE scores."
   ]
  },
  {
   "cell_type": "markdown",
   "metadata": {
    "id": "hA9tuPbUFDi1"
   },
   "source": [
    "### Singular Value Decomposition (SVD)"
   ]
  },
  {
   "cell_type": "code",
   "execution_count": 82,
   "metadata": {
    "colab": {
     "base_uri": "https://localhost:8080/"
    },
    "id": "-NhvRk-5OwWv",
    "outputId": "6c5b11ab-9d03-470e-b6dd-412792a9f7b8"
   },
   "outputs": [
    {
     "name": "stdout",
     "output_type": "stream",
     "text": [
      "Average RMSE_SVD: 0.8640\n",
      "Average MAE_SVD: 0.6598\n"
     ]
    }
   ],
   "source": [
    "# Reading the data\n",
    "reader = Reader(rating_scale=(movie_data_processed['rating'].min(), movie_data_processed['rating'].max()))\n",
    "data = Dataset.load_from_df(movie_data_processed[['userId', 'movieId', 'rating']], reader)\n",
    "\n",
    "# Initializing the SVD algorithm\n",
    "svd = SVD()\n",
    "\n",
    "# Using cross-validation\n",
    "cv_results = cross_validate(svd, data, measures=['RMSE', 'MAE'], cv=5, return_train_measures=True)\n",
    "rmse_svd = cv_results['test_rmse']\n",
    "mae_svd = cv_results['test_mae']\n",
    "\n",
    "print(f\"Average RMSE_SVD: {np.mean(rmse_svd):.4f}\")\n",
    "print(f\"Average MAE_SVD: {np.mean(mae_svd):.4f}\")"
   ]
  },
  {
   "cell_type": "code",
   "execution_count": 83,
   "metadata": {
    "colab": {
     "base_uri": "https://localhost:8080/"
    },
    "id": "Xg7QAPp9OwWw",
    "outputId": "ed8e7ffe-eb90-4f13-8c49-c657751e2d88"
   },
   "outputs": [
    {
     "name": "stdout",
     "output_type": "stream",
     "text": [
      "RMSE improved by: 10.62%\n",
      "MAE improved by: 11.11%\n"
     ]
    }
   ],
   "source": [
    "# Comparing SVD results with KNN\n",
    "rmse_improvement = ((np.mean(rmse_knn) - np.mean(rmse_svd)) / np.mean(rmse_knn)) * 100\n",
    "mae_improvement =((np.mean(mae_knn) - np.mean(mae_svd)) / np.mean(mae_knn)) * 100\n",
    "\n",
    "print(f\"RMSE improved by: {rmse_improvement:.2f}%\")\n",
    "print(f\"MAE improved by: {mae_improvement:.2f}%\")"
   ]
  },
  {
   "cell_type": "markdown",
   "metadata": {
    "id": "nqMyXpjVOwWx"
   },
   "source": [
    "From the above results, we can see a gain in predictive accuracy after using SVD. This shows that SVD is better at capturing the hidden structure in user–item interactions."
   ]
  },
  {
   "cell_type": "markdown",
   "metadata": {
    "id": "CFCjYMUzqSLi"
   },
   "source": [
    "## A. Collaborative Filtering( Matrix Factorization)-recommends items based on user preferences and similarities with other users."
   ]
  },
  {
   "cell_type": "code",
   "execution_count": null,
   "metadata": {
    "id": "J2MR4GkWbbTs"
   },
   "outputs": [],
   "source": [
    "#data for surprise\n",
    "reader = Reader(rating_scale=(0.5, 5.0))\n",
    "\n",
    "data = Dataset.load_from_df(ratings[['userId', 'movieId', 'rating']], reader)\n",
    "\n",
    "# Splitting into train and test set\n",
    "trainset, testset = train_test_split(data, test_size=0.2, random_state=42)\n"
   ]
  },
  {
   "cell_type": "code",
   "execution_count": 41,
   "metadata": {
    "id": "B0mcPHiHcIMz"
   },
   "outputs": [],
   "source": [
    "#training the model using svd\n",
    "# Train the model\n",
    "model = SVD()\n",
    "model.fit(trainset)\n",
    "\n",
    "# Predict on test set\n",
    "predictions = model.test(testset)\n"
   ]
  },
  {
   "cell_type": "code",
   "execution_count": 47,
   "metadata": {
    "colab": {
     "base_uri": "https://localhost:8080/"
    },
    "id": "nUOY12IFcTh_",
    "outputId": "3cc1b77e-bdea-4f20-ed38-bb0bd1c0ab87"
   },
   "outputs": [
    {
     "name": "stdout",
     "output_type": "stream",
     "text": [
      "RMSE: 0.8594931110290134\n",
      "MAE: 0.653728386938114\n"
     ]
    }
   ],
   "source": [
    "#evaluating the model using mae and RMSE\n",
    "# RMSE and MAE\n",
    "\n",
    "rmse_val = accuracy.rmse(predictions, verbose=False)\n",
    "mae_val = accuracy.mae(predictions, verbose=False)\n",
    "\n",
    "print(\"RMSE:\", rmse_val)\n",
    "print(\"MAE:\", mae_val)\n"
   ]
  },
  {
   "cell_type": "markdown",
   "metadata": {
    "id": "Yj2LVlOONKei"
   },
   "source": [
    "From these we can depict that the model is performing fairly well because an RMSE of 0.86 and an MAE of 0.65  prediction is  less than one point away from the actual ratings."
   ]
  },
  {
   "cell_type": "code",
   "execution_count": 48,
   "metadata": {
    "colab": {
     "base_uri": "https://localhost:8080/"
    },
    "id": "DEdNlq5odEF5",
    "outputId": "fd409cb8-308c-4f45-867a-70df87b87b58"
   },
   "outputs": [
    {
     "name": "stdout",
     "output_type": "stream",
     "text": [
      "Precision: 0.8027\n",
      "Recall:    0.6910\n",
      "F1 Score:  0.7427\n"
     ]
    }
   ],
   "source": [
    "#Evaluation of the model using precission ,recall and f1_score\n",
    "from sklearn.metrics import precision_score, recall_score, f1_score\n",
    "\n",
    "# threshold\n",
    "threshold = 3.5  # e.g., rating >= 3.5 is considered a \"like\"\n",
    "\n",
    "# Actual and predicted relevance\n",
    "y_true = [int(true_r >= threshold) for (_, _, true_r, _, _) in predictions]\n",
    "y_pred = [int(est >= threshold) for (_, _, _, est, _) in predictions]\n",
    "\n",
    "# Compute metrics\n",
    "precision = precision_score(y_true, y_pred)\n",
    "recall = recall_score(y_true, y_pred)\n",
    "f1 = f1_score(y_true, y_pred)\n",
    "\n",
    "print(f\"Precision: {precision:.4f}\")\n",
    "print(f\"Recall:    {recall:.4f}\")\n",
    "print(f\"F1 Score:  {f1:.4f}\")\n",
    "\n"
   ]
  },
  {
   "cell_type": "markdown",
   "metadata": {
    "id": "JJSe6wCXOjOg"
   },
   "source": [
    "The metrics above depicts that the  model has a precision of 0.79 and recall of 0.68, resulting in an F1 score of 0.73, indicating a good balance between correctly recommended items and coverage."
   ]
  },
  {
   "cell_type": "markdown",
   "metadata": {
    "id": "sop3INAaPt5s"
   },
   "source": [
    "Next step we are going to create a function of The top-N recommendation system\n",
    " that effectively suggests relevant items by ranking the most suitable options for each user."
   ]
  },
  {
   "cell_type": "code",
   "execution_count": 107,
   "metadata": {
    "id": "TktYuml3g3AH"
   },
   "outputs": [],
   "source": [
    "#Top_n_recommendation using the train surprise SVD for seen movies\n",
    "def get_top_n_seen_predictions(model, ratings_df, user_id, movies_df, n=10):\n",
    "    \"\"\"\n",
    "    Show top-N predictions for movies already rated by the user.\n",
    "    \"\"\"\n",
    "    #  ratings of a given user\n",
    "    user_data = ratings_df[ratings_df['userId'] == user_id]\n",
    "\n",
    "    if user_data.empty:\n",
    "        print(f\"No ratings found for user {user_id}.\")\n",
    "        return []\n",
    "\n",
    "    # Predicting ratings for the movies the user has already seen\n",
    "    predictions = []\n",
    "    for _, row in user_data.iterrows():\n",
    "        movie_id = row['movieId']\n",
    "        actual_rating = row['rating']\n",
    "        pred = model.predict(user_id, movie_id)\n",
    "        predictions.append((movie_id, pred.est, actual_rating))\n",
    "\n",
    "    # Sorting by predicted rating\n",
    "    top_predictions = sorted(predictions, key=lambda x: x[1], reverse=True)[:n]\n",
    "\n",
    "    # Display\n",
    "    print(f\"\\n📽️ Top {n} Seen Movies (User {user_id}): Predicted vs Actual\\n\")\n",
    "    for movie_id, pred_rating, actual_rating in top_predictions:\n",
    "        title = movies_df[movies_df['movieId'] == movie_id]['title'].values\n",
    "        title = title[0] if len(title) > 0 else f\"MovieID: {movie_id}\"\n",
    "        print(f\"{title} — Predicted: {pred_rating:.2f}, Actual: {actual_rating:.1f}\")\n",
    "\n",
    "    return top_predictions\n",
    "\n",
    "\n",
    "\n",
    "\n",
    "\n"
   ]
  },
  {
   "cell_type": "code",
   "execution_count": 51,
   "metadata": {
    "colab": {
     "base_uri": "https://localhost:8080/"
    },
    "id": "FaUI9eUolF7s",
    "outputId": "4db6aa68-d69f-4291-d8b6-fceb96406c21"
   },
   "outputs": [
    {
     "name": "stdout",
     "output_type": "stream",
     "text": [
      "\n",
      "📽️ Top 5 Seen Movies (User 1): Predicted vs Actual\n",
      "\n",
      "Star Wars: Episode V - The Empire Strikes Back (1980) — Predicted: 5.00, Actual: 5.0\n",
      "Princess Bride, The (1987) — Predicted: 5.00, Actual: 5.0\n",
      "Schindler's List (1993) — Predicted: 4.93, Actual: 5.0\n",
      "Monty Python and the Holy Grail (1975) — Predicted: 4.93, Actual: 5.0\n",
      "Indiana Jones and the Last Crusade (1989) — Predicted: 4.91, Actual: 5.0\n"
     ]
    },
    {
     "data": {
      "text/plain": [
       "[(1196.0, 5.0, 5.0),\n",
       " (1197.0, 5.0, 5.0),\n",
       " (527.0, 4.931574110463271, 5.0),\n",
       " (1136.0, 4.92753813927208, 5.0),\n",
       " (1291.0, 4.911956988352339, 5.0)]"
      ]
     },
     "execution_count": 51,
     "metadata": {},
     "output_type": "execute_result"
    }
   ],
   "source": [
    "get_top_n_seen_predictions(model, ratings, user_id=1, movies_df=movies, n=5)\n"
   ]
  },
  {
   "cell_type": "markdown",
   "metadata": {
    "id": "G9ukUnNVQr29"
   },
   "source": [
    "from above we can see that The model accurately predicted User 1's top 5 seen movies, perfectly matching all actual ratings."
   ]
  },
  {
   "cell_type": "markdown",
   "metadata": {
    "id": "KsfrYyvNQ4cK"
   },
   "source": [
    "we begun with seen movies ,next we will jump to unseen movie reccomendation"
   ]
  },
  {
   "cell_type": "code",
   "execution_count": 52,
   "metadata": {
    "id": "4H3mi_tbqqG_"
   },
   "outputs": [],
   "source": [
    "#top_n _unseen movie recommendation\n",
    "def get_top_n_unseen_recommendations(model, trainset, ratings_df, user_id, movies_df, n=10):\n",
    "    \"\"\"\n",
    "    Recommend top-N movies that the user hasn't rated yet.\n",
    "    \"\"\"\n",
    "    # All movies in dataset\n",
    "    all_movie_ids = set(movies_df['movieId'].unique())\n",
    "\n",
    "    # Movies rated by the user\n",
    "    seen_movie_ids = set(ratings_df[ratings_df['userId'] == user_id]['movieId'])\n",
    "\n",
    "    # Movies NOT rated by the user\n",
    "    unseen_movie_ids = list(all_movie_ids - seen_movie_ids)\n",
    "\n",
    "    if not unseen_movie_ids:\n",
    "        print(f\"✅ User {user_id} has already rated all available movies.\")\n",
    "        return []\n",
    "\n",
    "    # Predicting ratings for all unseen movies\n",
    "    predictions = [model.predict(user_id, movie_id) for movie_id in unseen_movie_ids]\n",
    "\n",
    "    # Sorting by predicted rating, descending\n",
    "    top_predictions = sorted(predictions, key=lambda x: x.est, reverse=True)[:n]\n",
    "\n",
    "    #  output with titles\n",
    "    top_recommendations = []\n",
    "    print(f\"\\n🍿 Top {n} Unseen Movie Recommendations for User {user_id}:\\n\")\n",
    "    for pred in top_predictions:\n",
    "        title_row = movies_df[movies_df['movieId'] == int(pred.iid)]\n",
    "        title = title_row['title'].values[0] if not title_row.empty else f\"MovieID: {pred.iid}\"\n",
    "        print(f\"{title} — Predicted Rating: {pred.est:.2f}\")\n",
    "        top_recommendations.append((title, pred.est))\n",
    "\n",
    "    return top_recommendations\n"
   ]
  },
  {
   "cell_type": "code",
   "execution_count": 53,
   "metadata": {
    "colab": {
     "base_uri": "https://localhost:8080/"
    },
    "id": "XJPRW-PHrBsf",
    "outputId": "32d641c0-95d0-4983-dfc2-c8ea80925fbb"
   },
   "outputs": [
    {
     "name": "stdout",
     "output_type": "stream",
     "text": [
      "\n",
      "🍿 Top 5 Unseen Movie Recommendations for User 1:\n",
      "\n",
      "Shawshank Redemption, The (1994) — Predicted Rating: 5.00\n",
      "Blade Runner (1982) — Predicted Rating: 5.00\n",
      "Dr. Strangelove or: How I Learned to Stop Worrying and Love the Bomb (1964) — Predicted Rating: 5.00\n",
      "Cinema Paradiso (Nuovo cinema Paradiso) (1989) — Predicted Rating: 5.00\n",
      "Seven Samurai (Shichinin no samurai) (1954) — Predicted Rating: 5.00\n"
     ]
    },
    {
     "data": {
      "text/plain": [
       "[('Shawshank Redemption, The (1994)', 5.0),\n",
       " ('Blade Runner (1982)', 5.0),\n",
       " ('Dr. Strangelove or: How I Learned to Stop Worrying and Love the Bomb (1964)',\n",
       "  5.0),\n",
       " ('Cinema Paradiso (Nuovo cinema Paradiso) (1989)', 5.0),\n",
       " ('Seven Samurai (Shichinin no samurai) (1954)', 5.0)]"
      ]
     },
     "execution_count": 53,
     "metadata": {},
     "output_type": "execute_result"
    }
   ],
   "source": [
    "get_top_n_unseen_recommendations(model, trainset, ratings, user_id=1, movies_df=movies, n=5)\n"
   ]
  },
  {
   "cell_type": "markdown",
   "metadata": {
    "id": "4PMuvYzBRtKG"
   },
   "source": [
    "above the  model recommends 5 unseen classics to User 1, all with the highest predicted rating of 5.0."
   ]
  },
  {
   "cell_type": "markdown",
   "metadata": {
    "id": "GrcThNvIqdwk"
   },
   "source": [
    "## B. Content-Based Filtering (TF-IDF + Cosine Similarity)-recommending items with similar features to those the user liked."
   ]
  },
  {
   "cell_type": "markdown",
   "metadata": {
    "id": "LLSRop4OT9Ta"
   },
   "source": []
  },
  {
   "cell_type": "code",
   "execution_count": 54,
   "metadata": {
    "id": "pJKl_AKcs6o8"
   },
   "outputs": [],
   "source": [
    "#vectorizing genres with TF_IDF\n",
    "from sklearn.feature_extraction.text import TfidfVectorizer\n",
    "from sklearn.metrics.pairwise import cosine_similarity\n",
    "\n",
    "# Vectorizing  genres using TF-IDF\n",
    "tfidf = TfidfVectorizer(token_pattern=r\"[\\w\\-]+\")\n",
    "tfidf_matrix = tfidf.fit_transform(movies['genres'])\n",
    "\n",
    "#  cosine similarity matrix\n",
    "cosine_sim = cosine_similarity(tfidf_matrix, tfidf_matrix)\n",
    "\n",
    "# Creating a reverse mapping of movie titles to indices\n",
    "movie_indices = pd.Series(movies.index, index=movies['title']).drop_duplicates()\n"
   ]
  },
  {
   "cell_type": "code",
   "execution_count": 55,
   "metadata": {
    "id": "RDs0VjaXtU9-"
   },
   "outputs": [],
   "source": [
    "#Recomendation function\n",
    "def recommend_similar_movies(title, cosine_sim=cosine_sim, movies_df=movies, movie_indices=movie_indices, n=10):\n",
    "    \"\"\"\n",
    "    Recommend top-N similar movies based on content (genres).\n",
    "    \"\"\"\n",
    "    if title not in movie_indices:\n",
    "        print(f\"Movie '{title}' not found.\")\n",
    "        return []\n",
    "\n",
    "    idx = movie_indices[title]\n",
    "\n",
    "    #  pairwise similarity scores and sort them\n",
    "    sim_scores = list(enumerate(cosine_sim[idx]))\n",
    "    sim_scores = sorted(sim_scores, key=lambda x: x[1], reverse=True)\n",
    "\n",
    "    #  top-N\n",
    "    top_similar_indices = [i for i, score in sim_scores[1:n+1]]\n",
    "\n",
    "    # movie titles\n",
    "    recommended_titles = movies_df['title'].iloc[top_similar_indices].tolist()\n",
    "\n",
    "    print(f\"\\n🎬 Because you liked *{title}*, you may also like:\\n\")\n",
    "    for i, rec in enumerate(recommended_titles, 1):\n",
    "        print(f\"{i}. {rec}\")\n",
    "\n",
    "    return recommended_titles\n"
   ]
  },
  {
   "cell_type": "markdown",
   "metadata": {
    "id": "MGogC_FdUqkM"
   },
   "source": [
    "Next we gon  use content-based filtering to recommend 5 movies similar to \"Toy Story (1995)\" based on its features"
   ]
  },
  {
   "cell_type": "code",
   "execution_count": 56,
   "metadata": {
    "colab": {
     "base_uri": "https://localhost:8080/"
    },
    "id": "U9RHijEptoPh",
    "outputId": "13ffa9b2-697c-4083-88f6-e10870b9be60"
   },
   "outputs": [
    {
     "name": "stdout",
     "output_type": "stream",
     "text": [
      "\n",
      "🎬 Because you liked *Toy Story (1995)*, you may also like:\n",
      "\n",
      "1. Antz (1998)\n",
      "2. Toy Story 2 (1999)\n",
      "3. Adventures of Rocky and Bullwinkle, The (2000)\n",
      "4. Emperor's New Groove, The (2000)\n",
      "5. Monsters, Inc. (2001)\n"
     ]
    },
    {
     "data": {
      "text/plain": [
       "['Antz (1998)',\n",
       " 'Toy Story 2 (1999)',\n",
       " 'Adventures of Rocky and Bullwinkle, The (2000)',\n",
       " \"Emperor's New Groove, The (2000)\",\n",
       " 'Monsters, Inc. (2001)']"
      ]
     },
     "execution_count": 56,
     "metadata": {},
     "output_type": "execute_result"
    }
   ],
   "source": [
    "recommend_similar_movies(\"Toy Story (1995)\", n=5)\n"
   ]
  },
  {
   "cell_type": "markdown",
   "metadata": {
    "id": "GZFd4jKAELBl"
   },
   "source": [
    "### Hybrid Recommender system"
   ]
  },
  {
   "cell_type": "markdown",
   "metadata": {
    "id": "IpX3MkbpulBL"
   },
   "source": [
    "\n",
    "Next we will  implement a hybrid recommender system that combines collaborative and content-based filtering for more accurate recommendations.\n",
    "\n",
    "\n",
    "\n",
    "\n",
    "\n",
    "\n",
    "\n",
    "\n"
   ]
  },
  {
   "cell_type": "code",
   "execution_count": 57,
   "metadata": {
    "id": "Hpk9WNe_uzyD"
   },
   "outputs": [],
   "source": [
    "#hybrid recommendation system\n",
    "def hybrid_recommender(user_id, liked_title, model, ratings_df, movies_df, movie_indices, cosine_sim, n=10):\n",
    "    \"\"\"\n",
    "    Recommend top-N movies for a user by combining collaborative filtering with content-based filtering.\n",
    "    \"\"\"\n",
    "    # Movies user has already rated\n",
    "    seen = set(ratings_df[ratings_df['userId'] == user_id]['movieId'])\n",
    "    all_movie_ids = set(movies_df['movieId'])\n",
    "    unseen = list(all_movie_ids - seen)\n",
    "\n",
    "    # Predicting ratings for all unseen movies using collaborative filtering\n",
    "    cf_predictions = [model.predict(user_id, movie_id) for movie_id in unseen]\n",
    "    cf_predictions = sorted(cf_predictions, key=lambda x: x.est, reverse=True)\n",
    "\n",
    "    #  top 100 from CF for re-ranking\n",
    "    top_cf = cf_predictions[:100]\n",
    "\n",
    "    # content-based similarity scores w.r.t liked movie\n",
    "    if liked_title not in movie_indices:\n",
    "        print(f\"❌ Movie '{liked_title}' not found.\")\n",
    "        return []\n",
    "\n",
    "    liked_idx = movie_indices[liked_title]\n",
    "    similarity_scores = cosine_sim[liked_idx]\n",
    "\n",
    "    # Re-ranking CF predictions based on content similarity\n",
    "    hybrid_scores = []\n",
    "    for pred in top_cf:\n",
    "        movie_id = int(pred.iid)\n",
    "        try:\n",
    "            content_idx = movies_df[movies_df['movieId'] == movie_id].index[0]\n",
    "            content_score = similarity_scores[content_idx]\n",
    "        except IndexError:\n",
    "            content_score = 0  # if movie not found\n",
    "\n",
    "        # Combining CF and Content score (weighted average)\n",
    "        hybrid_score = (0.7 * pred.est) + (0.3 * content_score * 5)  # rescale content sim to 0-5\n",
    "        hybrid_scores.append((movie_id, hybrid_score))\n",
    "\n",
    "    #  hybrid scores\n",
    "    top_hybrid = sorted(hybrid_scores, key=lambda x: x[1], reverse=True)[:n]\n",
    "\n",
    "    # Display\n",
    "    print(f\"\\n🤖 Hybrid Recommendations for User {user_id} based on liking *{liked_title}*:\\n\")\n",
    "    for idx, (movie_id, score) in enumerate(top_hybrid, 1):\n",
    "        title = movies_df[movies_df['movieId'] == movie_id]['title'].values[0]\n",
    "        print(f\"{idx}. {title} — Score: {score:.2f}\")\n",
    "\n",
    "    return top_hybrid\n"
   ]
  },
  {
   "cell_type": "markdown",
   "metadata": {
    "id": "bWBP-D1fW9So"
   },
   "source": [
    "Using the hybrid recommender, we are going to generate 5 personalized movie suggestions for User 1 based on their interest in \"Toy Story (1995)\"."
   ]
  },
  {
   "cell_type": "code",
   "execution_count": 58,
   "metadata": {
    "colab": {
     "base_uri": "https://localhost:8080/"
    },
    "id": "Tv72oeKovi66",
    "outputId": "0273d623-f48c-46d1-ef86-fafb87a74679"
   },
   "outputs": [
    {
     "name": "stdout",
     "output_type": "stream",
     "text": [
      "\n",
      "🤖 Hybrid Recommendations for User 1 based on liking *Toy Story (1995)*:\n",
      "\n",
      "1. My Neighbor Totoro (Tonari no Totoro) (1988) — Score: 4.74\n",
      "2. Toy Story 3 (2010) — Score: 4.73\n",
      "3. Spirited Away (Sen to Chihiro no kamikakushi) (2001) — Score: 4.73\n",
      "4. Up (2009) — Score: 4.64\n",
      "5. Incredibles, The (2004) — Score: 4.58\n"
     ]
    },
    {
     "data": {
      "text/plain": [
       "[(5971, 4.739421461206404),\n",
       " (78499, 4.728326980524568),\n",
       " (5618, 4.726502609902799),\n",
       " (68954, 4.641991242422328),\n",
       " (8961, 4.57982635629915)]"
      ]
     },
     "execution_count": 58,
     "metadata": {},
     "output_type": "execute_result"
    }
   ],
   "source": [
    "hybrid_recommender(\n",
    "    user_id=1,\n",
    "    liked_title=\"Toy Story (1995)\",\n",
    "    model=model,\n",
    "    ratings_df=ratings,\n",
    "    movies_df=movies,\n",
    "    movie_indices=movie_indices,\n",
    "    cosine_sim=cosine_sim,\n",
    "    n=5\n",
    ")\n"
   ]
  },
  {
   "cell_type": "markdown",
   "metadata": {
    "id": "sGpNIKgEXtJ6"
   },
   "source": [
    "Above ,the hybrid model recommends five highly rated animated films to User 1 based on their interest in Toy Story (1995), with each suggestion ranked by a predicted preference score."
   ]
  },
  {
   "cell_type": "code",
   "execution_count": 70,
   "metadata": {
    "id": "wjvddF34wAZA"
   },
   "outputs": [],
   "source": [
    "#visualization of the recommendation of user 1 based on toy story(1995)\n",
    "import matplotlib.pyplot as plt\n",
    "\n",
    "def visualize_recommendations(recommendations, movies_df, title=\"Hybrid Recommendations\"):\n",
    "    \"\"\"\n",
    "    Visualize top-N hybrid recommendations using a bar chart.\n",
    "    \"\"\"\n",
    "    movie_ids, scores = zip(*recommendations)\n",
    "    movie_titles = [movies_df[movies_df['movieId'] == mid]['title'].values[0] for mid in movie_ids]\n",
    "\n",
    "    plt.figure(figsize=(10, 6))\n",
    "    bars = plt.barh(movie_titles, scores, color='skyblue')\n",
    "    plt.xlabel(\"Hybrid Score\")\n",
    "    plt.title(title)\n",
    "    plt.gca().invert_yaxis()\n",
    "\n",
    "    # Annotating bars with scores\n",
    "    for bar, score in zip(bars, scores):\n",
    "        plt.text(bar.get_width() + 0.05, bar.get_y() + bar.get_height() / 2, f\"{score:.2f}\", va='center')\n",
    "\n",
    "    plt.tight_layout()\n",
    "    plt.show()\n"
   ]
  },
  {
   "cell_type": "code",
   "execution_count": 71,
   "metadata": {
    "colab": {
     "base_uri": "https://localhost:8080/",
     "height": 746
    },
    "id": "kmeiOr-nwOpJ",
    "outputId": "75209b95-c338-40e4-f6db-fee80453ab99"
   },
   "outputs": [
    {
     "name": "stdout",
     "output_type": "stream",
     "text": [
      "\n",
      "🤖 Hybrid Recommendations for User 1 based on liking *Toy Story (1995)*:\n",
      "\n",
      "1. My Neighbor Totoro (Tonari no Totoro) (1988) — Score: 4.74\n",
      "2. Toy Story 3 (2010) — Score: 4.73\n",
      "3. Spirited Away (Sen to Chihiro no kamikakushi) (2001) — Score: 4.73\n",
      "4. Up (2009) — Score: 4.64\n",
      "5. Incredibles, The (2004) — Score: 4.58\n"
     ]
    },
    {
     "data": {
      "image/png": "[encoded data removed]",
      "text/plain": [
       "<Figure size 1000x600 with 1 Axes>"
      ]
     },
     "metadata": {},
     "output_type": "display_data"
    }
   ],
   "source": [
    "\n",
    "recommendations = hybrid_recommender(\n",
    "    user_id=1,\n",
    "    liked_title=\"Toy Story (1995)\",\n",
    "    model=model,\n",
    "    ratings_df=ratings,\n",
    "    movies_df=movies,\n",
    "    movie_indices=movie_indices,\n",
    "    cosine_sim=cosine_sim,\n",
    "    n=5\n",
    ")\n",
    "\n",
    "\n",
    "visualize_recommendations(recommendations, movies)\n"
   ]
  },
  {
   "cell_type": "markdown",
   "metadata": {
    "id": "FMjgHOdP1kXj"
   },
   "source": [
    "### Hyperparameter Tuning the Hybrid Model"
   ]
  },
  {
   "cell_type": "code",
   "execution_count": 122,
   "metadata": {
    "id": "Sm0a7nQmsN5h"
   },
   "outputs": [],
   "source": [
    "def tune_hybrid_weights(user_id, liked_title, model, ratings_df, movies_df, movie_indices, cosine_sim, n=10, weight_range=np.arange(0.1, 1.0, 0.1)):\n",
    "    best_score = -float('inf')\n",
    "    best_weights = (0.7, 0.3)\n",
    "    best_recommendations = []\n",
    "\n",
    "    for cf_weight in weight_range:\n",
    "        content_weight = 1.0 - cf_weight\n",
    "\n",
    "        # ✅ Moved inside the loop so `user_id` is defined\n",
    "        seen = set(ratings_df[ratings_df['userId'] == user_id]['movieId'])\n",
    "        all_movie_ids = set(movies_df['movieId'])\n",
    "        unseen = list(all_movie_ids - seen)\n",
    "\n",
    "        hybrid_scores = []\n",
    "        cf_predictions = [model.predict(user_id, movie_id) for movie_id in unseen]\n",
    "        cf_predictions = sorted(cf_predictions, key=lambda x: x.est, reverse=True)\n",
    "        top_cf = cf_predictions[:100]\n",
    "\n",
    "        # Content similarity\n",
    "        if liked_title not in movie_indices:\n",
    "            print(f\"❌ Movie '{liked_title}' not found.\")\n",
    "            return []\n",
    "\n",
    "        liked_idx = movie_indices[liked_title]\n",
    "        similarity_scores = cosine_sim[liked_idx]\n",
    "\n",
    "        for pred in top_cf:\n",
    "            movie_id = int(pred.iid)\n",
    "            try:\n",
    "                content_idx = movies_df[movies_df['movieId'] == movie_id].index[0]\n",
    "                content_score = similarity_scores[content_idx]\n",
    "            except IndexError:\n",
    "                content_score = 0\n",
    "\n",
    "            hybrid_score = (cf_weight * pred.est) + (content_weight * content_score * 5)\n",
    "            hybrid_scores.append((movie_id, hybrid_score))\n",
    "\n",
    "        top_hybrid = sorted(hybrid_scores, key=lambda x: x[1], reverse=True)[:n]\n",
    "\n",
    "        # You can replace this with a more meaningful evaluation function\n",
    "        score = sum([score for _, score in top_hybrid]) / n  # average hybrid score\n",
    "\n",
    "        if score > best_score:\n",
    "            best_score = score\n",
    "            best_weights = (cf_weight, content_weight)\n",
    "            best_recommendations = top_hybrid\n",
    "\n",
    "    print(f\"✅ Best weights after Tuning: CF Weight = {best_weights[0]:.2f}, Content Weight = {best_weights[1]:.2f}\")\n",
    "    return best_recommendations\n"
   ]
  },
  {
   "cell_type": "code",
   "execution_count": 126,
   "metadata": {
    "colab": {
     "base_uri": "https://localhost:8080/"
    },
    "id": "FpjRjYkkoawv",
    "outputId": "790a2485-fa88-4a81-d504-316940df4c40"
   },
   "outputs": [
    {
     "name": "stdout",
     "output_type": "stream",
     "text": [
      "✅ Best weights after Tuning: CF Weight = 0.90, Content Weight = 0.10\n",
      "1. Spirited Away (Sen to Chihiro no kamikakushi) (2001) — Score: 4.91\n",
      "2. Howl's Moving Castle (Hauru no ugoku shiro) (2004) — Score: 4.86\n",
      "3. Wallace & Gromit: The Wrong Trousers (1993) — Score: 4.83\n",
      "4. Toy Story 3 (2010) — Score: 4.82\n",
      "5. Up (2009) — Score: 4.76\n"
     ]
    }
   ],
   "source": [
    "best_recommendations = tune_hybrid_weights(\n",
    "    user_id=1,\n",
    "    liked_title=\"Toy Story (1995)\",\n",
    "    model=model,\n",
    "    ratings_df=ratings,\n",
    "    movies_df=movies,\n",
    "    movie_indices=movie_indices,\n",
    "    cosine_sim=cosine_sim,\n",
    "    n=5\n",
    ")\n",
    "\n",
    "# Print top recommendations\n",
    "for idx, (movie_id, score) in enumerate(best_recommendations, 1):\n",
    "    title = movies[movies['movieId'] == movie_id]['title'].values[0]\n",
    "    print(f\"{idx}. {title} — Score: {score:.2f}\")"
   ]
  },
  {
   "cell_type": "markdown",
   "metadata": {
    "id": "muYCVZqX1DvU"
   },
   "source": [
    "The best paramaters were:\n",
    "\n",
    "**0.90 CF** weight meaning that the model mostly relys on collaborative filtering, using patterns of user behavior to generate recommendations.\n",
    "\n",
    "**0.10 CBF** weight meaning that the content of the movies themselves only slightly influences the recommendations."
   ]
  },
  {
   "cell_type": "markdown",
   "metadata": {
    "id": "TiCeK0DpBKwO"
   },
   "source": [
    "Evaluating the model using RMSE and MAE"
   ]
  },
  {
   "cell_type": "code",
   "execution_count": 131,
   "metadata": {
    "colab": {
     "base_uri": "https://localhost:8080/"
    },
    "id": "DNdzLnStHtQe",
    "outputId": "c0aa70ee-51c4-4a34-d7a6-c68661abd95a"
   },
   "outputs": [
    {
     "name": "stdout",
     "output_type": "stream",
     "text": [
      "RMSE: 0.6947\n",
      "MAE:  0.5311\n",
      "RMSE: 0.6947\n",
      "MAE: 0.5311\n"
     ]
    }
   ],
   "source": [
    "# Make predictions on the test set\n",
    "predictions = model.test(testset)\n",
    "\n",
    "# Calculate RMSE and MAE\n",
    "rmse = accuracy.rmse(predictions)\n",
    "mae = accuracy.mae(predictions)\n",
    "\n",
    "# Print results\n",
    "print(f\"RMSE: {rmse:.4f}\")\n",
    "print(f\"MAE: {mae:.4f}\")"
   ]
  },
  {
   "cell_type": "markdown",
   "metadata": {
    "id": "evChneTECCKU"
   },
   "source": [
    "The model performs well, with an RMSE of 0.6947 and an MAE of 0.5311, indicating reasonable prediction accuracy. The RMSE value suggests that the model's predictions are generally close to the actual ratings, though there are some larger errors, while the MAE reflects an average difference of about 0.53 points between predicted and true ratings. Overall, the model performs well.\n",
    "\n",
    "Next we exploring more complex models, such as deep learning-based approaches like Neural Collaborative Filtering (NCF) to capture more complex patterns in the data."
   ]
  },
  {
   "cell_type": "markdown",
   "metadata": {
    "id": "BB6-CJWZqk7r"
   },
   "source": [
    "#Neural network\n",
    "We'll use a simple network  based on learned embeddings for users and movies, followed by fully connected layers to predict the rating.\n",
    "\n"
   ]
  },
  {
   "cell_type": "code",
   "execution_count": 90,
   "metadata": {},
   "outputs": [
    {
     "name": "stdout",
     "output_type": "stream",
     "text": [
      "Epoch 1/50\n",
      "8/8 [==============================] - 0s 39ms/step - loss: 0.2012 - val_loss: 0.2537\n",
      "Epoch 2/50\n",
      "8/8 [==============================] - 0s 27ms/step - loss: 0.1795 - val_loss: 0.2436\n",
      "Epoch 3/50\n",
      "8/8 [==============================] - 1s 102ms/step - loss: 0.1716 - val_loss: 0.2368\n",
      "Epoch 4/50\n",
      "8/8 [==============================] - 0s 29ms/step - loss: 0.1651 - val_loss: 0.2289\n",
      "Epoch 5/50\n",
      "8/8 [==============================] - 0s 25ms/step - loss: 0.1591 - val_loss: 0.2213\n",
      "Epoch 6/50\n",
      "8/8 [==============================] - 0s 31ms/step - loss: 0.1535 - val_loss: 0.2199\n",
      "Epoch 7/50\n",
      "8/8 [==============================] - 0s 28ms/step - loss: 0.1483 - val_loss: 0.2166\n",
      "Epoch 8/50\n",
      "8/8 [==============================] - 0s 45ms/step - loss: 0.1444 - val_loss: 0.2152\n",
      "Epoch 9/50\n",
      "8/8 [==============================] - 0s 39ms/step - loss: 0.1398 - val_loss: 0.2147\n",
      "Epoch 10/50\n",
      "8/8 [==============================] - 0s 38ms/step - loss: 0.1358 - val_loss: 0.2129\n",
      "Epoch 11/50\n",
      "8/8 [==============================] - 0s 28ms/step - loss: 0.1319 - val_loss: 0.2113\n",
      "Epoch 12/50\n",
      "8/8 [==============================] - 0s 39ms/step - loss: 0.1282 - val_loss: 0.2108\n",
      "Epoch 13/50\n",
      "8/8 [==============================] - 0s 34ms/step - loss: 0.1251 - val_loss: 0.2103\n",
      "Epoch 14/50\n",
      "8/8 [==============================] - 0s 29ms/step - loss: 0.1226 - val_loss: 0.2100\n",
      "Epoch 15/50\n",
      "8/8 [==============================] - 0s 34ms/step - loss: 0.1195 - val_loss: 0.2095\n",
      "Epoch 16/50\n",
      "8/8 [==============================] - 0s 39ms/step - loss: 0.1167 - val_loss: 0.2090\n",
      "Epoch 17/50\n",
      "8/8 [==============================] - 0s 37ms/step - loss: 0.1146 - val_loss: 0.2085\n",
      "Epoch 18/50\n",
      "8/8 [==============================] - 0s 33ms/step - loss: 0.1119 - val_loss: 0.2092\n",
      "Epoch 19/50\n",
      "8/8 [==============================] - 0s 38ms/step - loss: 0.1128 - val_loss: 0.2099\n",
      "Epoch 20/50\n",
      "8/8 [==============================] - 0s 37ms/step - loss: 0.1106 - val_loss: 0.2093\n",
      "Epoch 21/50\n",
      "8/8 [==============================] - 0s 31ms/step - loss: 0.1079 - val_loss: 0.2088\n",
      "Epoch 22/50\n",
      "8/8 [==============================] - 0s 27ms/step - loss: 0.1052 - val_loss: 0.2080\n",
      "Epoch 23/50\n",
      "8/8 [==============================] - 0s 28ms/step - loss: 0.1040 - val_loss: 0.2085\n",
      "Epoch 24/50\n",
      "8/8 [==============================] - 0s 32ms/step - loss: 0.1022 - val_loss: 0.2094\n",
      "Epoch 25/50\n",
      "8/8 [==============================] - 0s 25ms/step - loss: 0.0995 - val_loss: 0.2092\n",
      "Epoch 26/50\n",
      "8/8 [==============================] - 0s 36ms/step - loss: 0.0977 - val_loss: 0.2077\n",
      "Epoch 27/50\n",
      "8/8 [==============================] - 0s 42ms/step - loss: 0.0958 - val_loss: 0.2086\n",
      "Epoch 28/50\n",
      "8/8 [==============================] - 0s 40ms/step - loss: 0.0946 - val_loss: 0.2082\n",
      "Epoch 29/50\n",
      "8/8 [==============================] - 0s 31ms/step - loss: 0.0927 - val_loss: 0.2086\n",
      "Epoch 30/50\n",
      "8/8 [==============================] - 0s 27ms/step - loss: 0.0911 - val_loss: 0.2083\n",
      "Epoch 31/50\n",
      "8/8 [==============================] - 0s 40ms/step - loss: 0.0895 - val_loss: 0.2093\n",
      "Epoch 32/50\n",
      "8/8 [==============================] - 0s 40ms/step - loss: 0.0882 - val_loss: 0.2085\n",
      "Epoch 33/50\n",
      "8/8 [==============================] - 0s 42ms/step - loss: 0.0871 - val_loss: 0.2087\n",
      "Epoch 34/50\n",
      "8/8 [==============================] - 0s 45ms/step - loss: 0.0860 - val_loss: 0.2091\n",
      "Epoch 35/50\n",
      "8/8 [==============================] - 0s 31ms/step - loss: 0.0846 - val_loss: 0.2094\n",
      "Epoch 36/50\n",
      "8/8 [==============================] - 0s 27ms/step - loss: 0.0842 - val_loss: 0.2099\n",
      "Epoch 37/50\n",
      "8/8 [==============================] - 0s 28ms/step - loss: 0.0837 - val_loss: 0.2100\n",
      "Epoch 38/50\n",
      "8/8 [==============================] - 0s 27ms/step - loss: 0.0826 - val_loss: 0.2102\n",
      "Epoch 39/50\n",
      "8/8 [==============================] - 0s 29ms/step - loss: 0.0814 - val_loss: 0.2109\n",
      "Epoch 40/50\n",
      "8/8 [==============================] - 0s 29ms/step - loss: 0.0803 - val_loss: 0.2109\n",
      "Epoch 41/50\n",
      "8/8 [==============================] - 0s 29ms/step - loss: 0.0795 - val_loss: 0.2114\n",
      "Epoch 42/50\n",
      "8/8 [==============================] - 0s 27ms/step - loss: 0.0787 - val_loss: 0.2113\n",
      "Epoch 43/50\n",
      "8/8 [==============================] - 0s 30ms/step - loss: 0.0777 - val_loss: 0.2115\n",
      "Epoch 44/50\n",
      "8/8 [==============================] - 0s 28ms/step - loss: 0.0771 - val_loss: 0.2121\n",
      "Epoch 45/50\n",
      "8/8 [==============================] - 0s 28ms/step - loss: 0.0763 - val_loss: 0.2121\n",
      "Epoch 46/50\n",
      "8/8 [==============================] - 0s 46ms/step - loss: 0.0758 - val_loss: 0.2134\n",
      "Epoch 47/50\n",
      "8/8 [==============================] - 0s 46ms/step - loss: 0.0753 - val_loss: 0.2126\n",
      "Epoch 48/50\n",
      "8/8 [==============================] - 0s 44ms/step - loss: 0.0751 - val_loss: 0.2144\n",
      "Epoch 49/50\n",
      "8/8 [==============================] - 0s 37ms/step - loss: 0.0744 - val_loss: 0.2135\n",
      "Epoch 50/50\n",
      "8/8 [==============================] - 0s 37ms/step - loss: 0.0735 - val_loss: 0.2138\n",
      "\n",
      "Autoencoder RMSE: 0.4624\n",
      "\n",
      "Autoencoder MAE: 0.1435\n"
     ]
    }
   ],
   "source": [
    "from sklearn.model_selection import train_test_split\n",
    "from tensorflow.keras.models import Model\n",
    "from tensorflow.keras.layers import Input, Dense\n",
    "from tensorflow.keras.optimizers import Adam\n",
    "from math import sqrt\n",
    "from sklearn.metrics import mean_absolute_error\n",
    "from sklearn.metrics import mean_squared_error\n",
    "\n",
    "# Load and prepare the data\n",
    "ratings = movie_data_processed[['userId', 'movieId', 'rating']]\n",
    "# if same user rated the same movie more than once, take the average\n",
    "ratings = ratings.groupby(['userId', 'movieId']).rating.mean().reset_index()\n",
    "\n",
    "# Create user-item matrix\n",
    "user_item_matrix = ratings.pivot(index='userId', columns='movieId', values='rating').fillna(0)\n",
    "user_item_matrix_np = user_item_matrix.values\n",
    "\n",
    "# Split into train and test\n",
    "X_train, X_test = train_test_split(user_item_matrix_np, test_size=0.2, random_state=42)\n",
    "\n",
    "# Build the autoencoder model\n",
    "input_dim = X_train.shape[1]\n",
    "\n",
    "input_layer = Input(shape=(input_dim,))\n",
    "encoded = Dense(128, activation='relu')(input_layer)\n",
    "encoded = Dense(64, activation='relu')(encoded)\n",
    "decoded = Dense(128, activation='relu')(encoded)\n",
    "decoded = Dense(input_dim, activation='linear')(decoded)\n",
    "\n",
    "autoencoder = Model(inputs=input_layer, outputs=decoded)\n",
    "autoencoder.compile(optimizer=Adam(learning_rate=0.001), loss='mse')\n",
    "\n",
    "# Train the model\n",
    "history = autoencoder.fit(X_train, X_train,\n",
    "                          epochs=50,\n",
    "                          batch_size=64,\n",
    "                          shuffle=True,\n",
    "                          validation_data=(X_test, X_test),\n",
    "                          verbose=1)\n",
    "\n",
    "# Evaluate performance\n",
    "reconstructed = autoencoder.predict(X_test)\n",
    "rmse = sqrt(mean_squared_error(X_test, reconstructed))\n",
    "mae = mean_absolute_error(X_test, reconstructed)\n",
    "print(f\"\\nAutoencoder RMSE: {rmse:.4f}\")\n",
    "print(f\"\\nAutoencoder MAE: {mae:.4f}\")"
   ]
  },
  {
   "cell_type": "code",
   "execution_count": null,
   "metadata": {},
   "outputs": [],
   "source": []
  },
  {
   "cell_type": "code",
   "execution_count": null,
   "metadata": {},
   "outputs": [],
   "source": []
  },
  {
   "cell_type": "code",
   "execution_count": null,
   "metadata": {},
   "outputs": [],
   "source": []
  },
  {
   "cell_type": "code",
   "execution_count": null,
   "metadata": {},
   "outputs": [],
   "source": []
  },
  {
   "cell_type": "markdown",
   "metadata": {
    "id": "a-p7tbaSq2Er"
   },
   "source": [
    "#Deployment"
   ]
  }
 ],
 "metadata": {
  "colab": {
   "provenance": [],
   "toc_visible": true
  },
  "kernelspec": {
   "display_name": "Python 3",
   "language": "python",
   "name": "python3"
  },
  "language_info": {
   "codemirror_mode": {
    "name": "ipython",
    "version": 3
   },
   "file_extension": ".py",
   "mimetype": "text/x-python",
   "name": "python",
   "nbconvert_exporter": "python",
   "pygments_lexer": "ipython3",
   "version": "3.8.5"
  }
 },
 "nbformat": 4,
 "nbformat_minor": 1
}
