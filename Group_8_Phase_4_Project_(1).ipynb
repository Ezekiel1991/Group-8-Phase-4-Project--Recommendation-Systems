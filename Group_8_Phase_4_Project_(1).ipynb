{
  "nbformat": 4,
  "nbformat_minor": 0,
  "metadata": {
    "colab": {
      "provenance": [],
      "toc_visible": true
    },
    "kernelspec": {
      "name": "python3",
      "display_name": "Python 3"
    },
    "language_info": {
      "name": "python"
    }
  },
  "cells": [
    {
      "cell_type": "markdown",
      "source": [
        "#1.**Introduction**"
      ],
      "metadata": {
        "id": "nvtuTfHnBGdS"
      }
    },
    {
      "cell_type": "markdown",
      "source": [
        "This project aims to develop a movie recommendation system. The system will utilize machine learning techniques to provide personalized movie suggestions based on user ratings and tags. The dataset used for this project is the MovieLens dataset, which contains ratings, tags, movie metadata and links."
      ],
      "metadata": {
        "id": "Pk0QGGgWGQBx"
      }
    },
    {
      "cell_type": "markdown",
      "source": [
        "#2.**Business** **Understanding**"
      ],
      "metadata": {
        "id": "oatBsKKpnqrm"
      }
    },
    {
      "cell_type": "markdown",
      "source": [
        "##Objectives"
      ],
      "metadata": {
        "id": "nQgLgT-9oX-7"
      }
    },
    {
      "cell_type": "markdown",
      "source": [
        "\n",
        "1)   Personalised movie recommendations based on users history\n",
        "\n",
        "2)   Investigate how the system performs for new users and new movies (analysis of the cold start problem)\n",
        "\n",
        "3)   Build a deep learning based model that learns from user ratings and movie features to improve recommendation accuracy\n",
        "\n",
        "4)   Optimize recommendation algorithms\n",
        "\n",
        "5)   A dashboard to explore recommendations and engagement insights.\n",
        "\n",
        "\n",
        "\n",
        "\n"
      ],
      "metadata": {
        "id": "VjHzrEe5rRCr"
      }
    },
    {
      "cell_type": "markdown",
      "source": [
        "#3.**Data Undestanding**"
      ],
      "metadata": {
        "id": "On4RQOH3n5kk"
      }
    },
    {
      "cell_type": "markdown",
      "source": [
        "##Libraries"
      ],
      "metadata": {
        "id": "hKpu_xk4oxLL"
      }
    },
    {
      "cell_type": "code",
      "execution_count": 3,
      "metadata": {
        "id": "8nAskryvkPO-"
      },
      "outputs": [],
      "source": [
        "# Import neccesary Libraries.\n",
        "import numpy as np\n",
        "import pandas as pd\n",
        "import matplotlib.pyplot as plt\n",
        "import seaborn as sns\n",
        "sns.set(style='darkgrid')\n",
        "import warnings\n",
        "warnings.filterwarnings('ignore')\n",
        "\n",
        "from sklearn.preprocessing import LabelEncoder\n",
        "from sklearn.feature_extraction.text import TfidfVectorizer\n",
        "from sklearn.preprocessing import MinMaxScaler\n",
        "from sklearn.preprocessing import MultiLabelBinarizer\n"
      ]
    },
    {
      "cell_type": "markdown",
      "source": [
        "##Import Datasets"
      ],
      "metadata": {
        "id": "PEQKnXxIos9r"
      }
    },
    {
      "cell_type": "code",
      "source": [
        "# Load data\n",
        "movies = pd.read_csv('movies.csv')\n",
        "ratings = pd.read_csv('ratings.csv')\n",
        "tags = pd.read_csv('tags.csv')\n",
        "print(f\"Movies: {movies.shape}\")\n",
        "print(f\"Ratings: {ratings.shape}\")\n",
        "print(f\"Tags: {tags.shape}\")"
      ],
      "metadata": {
        "colab": {
          "base_uri": "https://localhost:8080/"
        },
        "id": "n_IvFpKcrr8M",
        "outputId": "a886517d-a744-40e5-d7d4-e454a678c1f5"
      },
      "execution_count": 4,
      "outputs": [
        {
          "output_type": "stream",
          "name": "stdout",
          "text": [
            "Movies: (9742, 3)\n",
            "Ratings: (100836, 4)\n",
            "Tags: (3683, 4)\n"
          ]
        }
      ]
    },
    {
      "cell_type": "code",
      "source": [
        "print(movies.head())"
      ],
      "metadata": {
        "colab": {
          "base_uri": "https://localhost:8080/"
        },
        "id": "UK-lrQW6Eigq",
        "outputId": "f5977e40-8d43-45d4-b6ee-843f6fd69473"
      },
      "execution_count": 5,
      "outputs": [
        {
          "output_type": "stream",
          "name": "stdout",
          "text": [
            "   movieId                               title  \\\n",
            "0        1                    Toy Story (1995)   \n",
            "1        2                      Jumanji (1995)   \n",
            "2        3             Grumpier Old Men (1995)   \n",
            "3        4            Waiting to Exhale (1995)   \n",
            "4        5  Father of the Bride Part II (1995)   \n",
            "\n",
            "                                        genres  \n",
            "0  Adventure|Animation|Children|Comedy|Fantasy  \n",
            "1                   Adventure|Children|Fantasy  \n",
            "2                               Comedy|Romance  \n",
            "3                         Comedy|Drama|Romance  \n",
            "4                                       Comedy  \n"
          ]
        }
      ]
    },
    {
      "cell_type": "code",
      "source": [
        "print(ratings.head())"
      ],
      "metadata": {
        "colab": {
          "base_uri": "https://localhost:8080/"
        },
        "id": "cdTWFGBREqwu",
        "outputId": "4628ac75-378c-492a-862c-365652e7865f"
      },
      "execution_count": 6,
      "outputs": [
        {
          "output_type": "stream",
          "name": "stdout",
          "text": [
            "   userId  movieId  rating  timestamp\n",
            "0       1        1     4.0  964982703\n",
            "1       1        3     4.0  964981247\n",
            "2       1        6     4.0  964982224\n",
            "3       1       47     5.0  964983815\n",
            "4       1       50     5.0  964982931\n"
          ]
        }
      ]
    },
    {
      "cell_type": "code",
      "source": [
        "print(tags.head())"
      ],
      "metadata": {
        "colab": {
          "base_uri": "https://localhost:8080/"
        },
        "id": "qGeZnSp9EurW",
        "outputId": "7e66558e-a7f5-4d1e-d5f5-4d2660999946"
      },
      "execution_count": 7,
      "outputs": [
        {
          "output_type": "stream",
          "name": "stdout",
          "text": [
            "   userId  movieId              tag   timestamp\n",
            "0       2    60756            funny  1445714994\n",
            "1       2    60756  Highly quotable  1445714996\n",
            "2       2    60756     will ferrell  1445714992\n",
            "3       2    89774     Boxing story  1445715207\n",
            "4       2    89774              MMA  1445715200\n"
          ]
        }
      ]
    },
    {
      "cell_type": "code",
      "source": [
        "print(movies.info())"
      ],
      "metadata": {
        "colab": {
          "base_uri": "https://localhost:8080/"
        },
        "id": "T9Y8ToDFE22-",
        "outputId": "907834b1-659d-4226-eee9-535132a34d75"
      },
      "execution_count": 8,
      "outputs": [
        {
          "output_type": "stream",
          "name": "stdout",
          "text": [
            "<class 'pandas.core.frame.DataFrame'>\n",
            "RangeIndex: 9742 entries, 0 to 9741\n",
            "Data columns (total 3 columns):\n",
            " #   Column   Non-Null Count  Dtype \n",
            "---  ------   --------------  ----- \n",
            " 0   movieId  9742 non-null   int64 \n",
            " 1   title    9742 non-null   object\n",
            " 2   genres   9742 non-null   object\n",
            "dtypes: int64(1), object(2)\n",
            "memory usage: 228.5+ KB\n",
            "None\n"
          ]
        }
      ]
    },
    {
      "cell_type": "code",
      "source": [
        "print(ratings.info())"
      ],
      "metadata": {
        "colab": {
          "base_uri": "https://localhost:8080/"
        },
        "id": "izf3k0ZlE_cO",
        "outputId": "131ccd6b-d3dc-4168-e474-ba326e5f757f"
      },
      "execution_count": 9,
      "outputs": [
        {
          "output_type": "stream",
          "name": "stdout",
          "text": [
            "<class 'pandas.core.frame.DataFrame'>\n",
            "RangeIndex: 100836 entries, 0 to 100835\n",
            "Data columns (total 4 columns):\n",
            " #   Column     Non-Null Count   Dtype  \n",
            "---  ------     --------------   -----  \n",
            " 0   userId     100836 non-null  int64  \n",
            " 1   movieId    100836 non-null  int64  \n",
            " 2   rating     100836 non-null  float64\n",
            " 3   timestamp  100836 non-null  int64  \n",
            "dtypes: float64(1), int64(3)\n",
            "memory usage: 3.1 MB\n",
            "None\n"
          ]
        }
      ]
    },
    {
      "cell_type": "code",
      "source": [
        "print(tags.info())"
      ],
      "metadata": {
        "colab": {
          "base_uri": "https://localhost:8080/"
        },
        "id": "QIqUUY2nFA4G",
        "outputId": "deb16e19-677e-4cc7-8f0b-bdd86845d578"
      },
      "execution_count": 10,
      "outputs": [
        {
          "output_type": "stream",
          "name": "stdout",
          "text": [
            "<class 'pandas.core.frame.DataFrame'>\n",
            "RangeIndex: 3683 entries, 0 to 3682\n",
            "Data columns (total 4 columns):\n",
            " #   Column     Non-Null Count  Dtype \n",
            "---  ------     --------------  ----- \n",
            " 0   userId     3683 non-null   int64 \n",
            " 1   movieId    3683 non-null   int64 \n",
            " 2   tag        3683 non-null   object\n",
            " 3   timestamp  3683 non-null   int64 \n",
            "dtypes: int64(3), object(1)\n",
            "memory usage: 115.2+ KB\n",
            "None\n"
          ]
        }
      ]
    },
    {
      "cell_type": "markdown",
      "source": [
        "#4.**Data Cleaning**"
      ],
      "metadata": {
        "id": "4CxaruVupQhr"
      }
    },
    {
      "cell_type": "markdown",
      "source": [
        "##Correct Formats"
      ],
      "metadata": {
        "id": "ArL85y_WpbUr"
      }
    },
    {
      "cell_type": "code",
      "source": [
        "# Confirming the format of individual columns\n",
        "print(movies.info())"
      ],
      "metadata": {
        "colab": {
          "base_uri": "https://localhost:8080/"
        },
        "id": "diMHaBIlt4SN",
        "outputId": "a984c336-75fc-4638-b666-7a07f41ffad5"
      },
      "execution_count": 11,
      "outputs": [
        {
          "output_type": "stream",
          "name": "stdout",
          "text": [
            "<class 'pandas.core.frame.DataFrame'>\n",
            "RangeIndex: 9742 entries, 0 to 9741\n",
            "Data columns (total 3 columns):\n",
            " #   Column   Non-Null Count  Dtype \n",
            "---  ------   --------------  ----- \n",
            " 0   movieId  9742 non-null   int64 \n",
            " 1   title    9742 non-null   object\n",
            " 2   genres   9742 non-null   object\n",
            "dtypes: int64(1), object(2)\n",
            "memory usage: 228.5+ KB\n",
            "None\n"
          ]
        }
      ]
    },
    {
      "cell_type": "markdown",
      "source": [
        "##Confirming Mising values"
      ],
      "metadata": {
        "id": "3ZSgDqhCpg8U"
      }
    },
    {
      "cell_type": "code",
      "source": [
        "#Confirming whether there are missing values\n",
        "print(movies.isnull().sum())\n",
        "print(ratings.isnull().sum())\n",
        "print(tags.isnull().sum())"
      ],
      "metadata": {
        "colab": {
          "base_uri": "https://localhost:8080/"
        },
        "id": "k9cMv2jbuL4l",
        "outputId": "f11e51e8-ad0a-4ba7-fcb8-66ab41fd3a56"
      },
      "execution_count": 12,
      "outputs": [
        {
          "output_type": "stream",
          "name": "stdout",
          "text": [
            "movieId    0\n",
            "title      0\n",
            "genres     0\n",
            "dtype: int64\n",
            "userId       0\n",
            "movieId      0\n",
            "rating       0\n",
            "timestamp    0\n",
            "dtype: int64\n",
            "userId       0\n",
            "movieId      0\n",
            "tag          0\n",
            "timestamp    0\n",
            "dtype: int64\n"
          ]
        }
      ]
    },
    {
      "cell_type": "markdown",
      "source": [
        "##Merging the datasets"
      ],
      "metadata": {
        "id": "NfJ-OeYvpUMz"
      }
    },
    {
      "cell_type": "code",
      "source": [
        "# Merging the datasets into a common dataset\n",
        "movie_data = pd.merge(movies, ratings, on='movieId', how='outer')\n",
        "movie_data = pd.merge(movie_data, tags, on=['userId', 'movieId'], how='outer')\n",
        "print(movie_data.head())"
      ],
      "metadata": {
        "colab": {
          "base_uri": "https://localhost:8080/"
        },
        "id": "z-qhk0SgFn8W",
        "outputId": "8d4315e3-7fb9-4df0-a170-b2086f5578e1"
      },
      "execution_count": 13,
      "outputs": [
        {
          "output_type": "stream",
          "name": "stdout",
          "text": [
            "   movieId                        title  \\\n",
            "0        1             Toy Story (1995)   \n",
            "1        3      Grumpier Old Men (1995)   \n",
            "2        6                  Heat (1995)   \n",
            "3       47  Seven (a.k.a. Se7en) (1995)   \n",
            "4       50   Usual Suspects, The (1995)   \n",
            "\n",
            "                                        genres  userId  rating  timestamp_x  \\\n",
            "0  Adventure|Animation|Children|Comedy|Fantasy     1.0     4.0  964982703.0   \n",
            "1                               Comedy|Romance     1.0     4.0  964981247.0   \n",
            "2                        Action|Crime|Thriller     1.0     4.0  964982224.0   \n",
            "3                             Mystery|Thriller     1.0     5.0  964983815.0   \n",
            "4                       Crime|Mystery|Thriller     1.0     5.0  964982931.0   \n",
            "\n",
            "   tag  timestamp_y  \n",
            "0  NaN          NaN  \n",
            "1  NaN          NaN  \n",
            "2  NaN          NaN  \n",
            "3  NaN          NaN  \n",
            "4  NaN          NaN  \n"
          ]
        }
      ]
    },
    {
      "cell_type": "markdown",
      "source": [
        "## Checking Duplicates"
      ],
      "metadata": {
        "id": "F9_bUXU-gu1C"
      }
    },
    {
      "cell_type": "code",
      "source": [
        "#Checking for duplicates in the movies_data.\n",
        "#There were no duplicates in the dataset\n",
        "movie_data.duplicated().sum()"
      ],
      "metadata": {
        "colab": {
          "base_uri": "https://localhost:8080/"
        },
        "id": "E_8xXfOTgtxU",
        "outputId": "e3b002a0-e4b8-45c3-e656-43b946a97fbb"
      },
      "execution_count": 14,
      "outputs": [
        {
          "output_type": "execute_result",
          "data": {
            "text/plain": [
              "np.int64(0)"
            ]
          },
          "metadata": {},
          "execution_count": 14
        }
      ]
    },
    {
      "cell_type": "markdown",
      "source": [
        "##Exploratory Data Analysis(EDA)"
      ],
      "metadata": {
        "id": "c50ANE43pDXb"
      }
    },
    {
      "cell_type": "code",
      "source": [
        "print(movie_data.shape)"
      ],
      "metadata": {
        "colab": {
          "base_uri": "https://localhost:8080/"
        },
        "id": "Wsbc1dK-GATz",
        "outputId": "7c15e039-2cf9-48f0-cb19-1a6b1cd221d6"
      },
      "execution_count": 15,
      "outputs": [
        {
          "output_type": "stream",
          "name": "stdout",
          "text": [
            "(102902, 8)\n"
          ]
        }
      ]
    },
    {
      "cell_type": "code",
      "source": [
        "#Separate the timestamp column into date and year\n",
        "movie_data['date'] = pd.to_datetime(movie_data['timestamp_x'], unit='s').dt.date\n",
        "movie_data['year'] = pd.to_datetime(movie_data['timestamp_x'], unit='s').dt.year\n",
        "movie_data.head()"
      ],
      "metadata": {
        "colab": {
          "base_uri": "https://localhost:8080/",
          "height": 206
        },
        "id": "lE6Nptnz3sfs",
        "outputId": "cbe4854c-fc44-476e-d9a7-da83042bc590"
      },
      "execution_count": 16,
      "outputs": [
        {
          "output_type": "execute_result",
          "data": {
            "text/plain": [
              "   movieId                        title  \\\n",
              "0        1             Toy Story (1995)   \n",
              "1        3      Grumpier Old Men (1995)   \n",
              "2        6                  Heat (1995)   \n",
              "3       47  Seven (a.k.a. Se7en) (1995)   \n",
              "4       50   Usual Suspects, The (1995)   \n",
              "\n",
              "                                        genres  userId  rating  timestamp_x  \\\n",
              "0  Adventure|Animation|Children|Comedy|Fantasy     1.0     4.0  964982703.0   \n",
              "1                               Comedy|Romance     1.0     4.0  964981247.0   \n",
              "2                        Action|Crime|Thriller     1.0     4.0  964982224.0   \n",
              "3                             Mystery|Thriller     1.0     5.0  964983815.0   \n",
              "4                       Crime|Mystery|Thriller     1.0     5.0  964982931.0   \n",
              "\n",
              "   tag  timestamp_y        date    year  \n",
              "0  NaN          NaN  2000-07-30  2000.0  \n",
              "1  NaN          NaN  2000-07-30  2000.0  \n",
              "2  NaN          NaN  2000-07-30  2000.0  \n",
              "3  NaN          NaN  2000-07-30  2000.0  \n",
              "4  NaN          NaN  2000-07-30  2000.0  "
            ],
            "text/html": [
              "\n",
              "  <div id=\"df-a8452d95-5325-4f2e-a923-927b10a3cace\" class=\"colab-df-container\">\n",
              "    <div>\n",
              "<style scoped>\n",
              "    .dataframe tbody tr th:only-of-type {\n",
              "        vertical-align: middle;\n",
              "    }\n",
              "\n",
              "    .dataframe tbody tr th {\n",
              "        vertical-align: top;\n",
              "    }\n",
              "\n",
              "    .dataframe thead th {\n",
              "        text-align: right;\n",
              "    }\n",
              "</style>\n",
              "<table border=\"1\" class=\"dataframe\">\n",
              "  <thead>\n",
              "    <tr style=\"text-align: right;\">\n",
              "      <th></th>\n",
              "      <th>movieId</th>\n",
              "      <th>title</th>\n",
              "      <th>genres</th>\n",
              "      <th>userId</th>\n",
              "      <th>rating</th>\n",
              "      <th>timestamp_x</th>\n",
              "      <th>tag</th>\n",
              "      <th>timestamp_y</th>\n",
              "      <th>date</th>\n",
              "      <th>year</th>\n",
              "    </tr>\n",
              "  </thead>\n",
              "  <tbody>\n",
              "    <tr>\n",
              "      <th>0</th>\n",
              "      <td>1</td>\n",
              "      <td>Toy Story (1995)</td>\n",
              "      <td>Adventure|Animation|Children|Comedy|Fantasy</td>\n",
              "      <td>1.0</td>\n",
              "      <td>4.0</td>\n",
              "      <td>964982703.0</td>\n",
              "      <td>NaN</td>\n",
              "      <td>NaN</td>\n",
              "      <td>2000-07-30</td>\n",
              "      <td>2000.0</td>\n",
              "    </tr>\n",
              "    <tr>\n",
              "      <th>1</th>\n",
              "      <td>3</td>\n",
              "      <td>Grumpier Old Men (1995)</td>\n",
              "      <td>Comedy|Romance</td>\n",
              "      <td>1.0</td>\n",
              "      <td>4.0</td>\n",
              "      <td>964981247.0</td>\n",
              "      <td>NaN</td>\n",
              "      <td>NaN</td>\n",
              "      <td>2000-07-30</td>\n",
              "      <td>2000.0</td>\n",
              "    </tr>\n",
              "    <tr>\n",
              "      <th>2</th>\n",
              "      <td>6</td>\n",
              "      <td>Heat (1995)</td>\n",
              "      <td>Action|Crime|Thriller</td>\n",
              "      <td>1.0</td>\n",
              "      <td>4.0</td>\n",
              "      <td>964982224.0</td>\n",
              "      <td>NaN</td>\n",
              "      <td>NaN</td>\n",
              "      <td>2000-07-30</td>\n",
              "      <td>2000.0</td>\n",
              "    </tr>\n",
              "    <tr>\n",
              "      <th>3</th>\n",
              "      <td>47</td>\n",
              "      <td>Seven (a.k.a. Se7en) (1995)</td>\n",
              "      <td>Mystery|Thriller</td>\n",
              "      <td>1.0</td>\n",
              "      <td>5.0</td>\n",
              "      <td>964983815.0</td>\n",
              "      <td>NaN</td>\n",
              "      <td>NaN</td>\n",
              "      <td>2000-07-30</td>\n",
              "      <td>2000.0</td>\n",
              "    </tr>\n",
              "    <tr>\n",
              "      <th>4</th>\n",
              "      <td>50</td>\n",
              "      <td>Usual Suspects, The (1995)</td>\n",
              "      <td>Crime|Mystery|Thriller</td>\n",
              "      <td>1.0</td>\n",
              "      <td>5.0</td>\n",
              "      <td>964982931.0</td>\n",
              "      <td>NaN</td>\n",
              "      <td>NaN</td>\n",
              "      <td>2000-07-30</td>\n",
              "      <td>2000.0</td>\n",
              "    </tr>\n",
              "  </tbody>\n",
              "</table>\n",
              "</div>\n",
              "    <div class=\"colab-df-buttons\">\n",
              "\n",
              "  <div class=\"colab-df-container\">\n",
              "    <button class=\"colab-df-convert\" onclick=\"convertToInteractive('df-a8452d95-5325-4f2e-a923-927b10a3cace')\"\n",
              "            title=\"Convert this dataframe to an interactive table.\"\n",
              "            style=\"display:none;\">\n",
              "\n",
              "  <svg xmlns=\"http://www.w3.org/2000/svg\" height=\"24px\" viewBox=\"0 -960 960 960\">\n",
              "    <path d=\"M120-120v-720h720v720H120Zm60-500h600v-160H180v160Zm220 220h160v-160H400v160Zm0 220h160v-160H400v160ZM180-400h160v-160H180v160Zm440 0h160v-160H620v160ZM180-180h160v-160H180v160Zm440 0h160v-160H620v160Z\"/>\n",
              "  </svg>\n",
              "    </button>\n",
              "\n",
              "  <style>\n",
              "    .colab-df-container {\n",
              "      display:flex;\n",
              "      gap: 12px;\n",
              "    }\n",
              "\n",
              "    .colab-df-convert {\n",
              "      background-color: #E8F0FE;\n",
              "      border: none;\n",
              "      border-radius: 50%;\n",
              "      cursor: pointer;\n",
              "      display: none;\n",
              "      fill: #1967D2;\n",
              "      height: 32px;\n",
              "      padding: 0 0 0 0;\n",
              "      width: 32px;\n",
              "    }\n",
              "\n",
              "    .colab-df-convert:hover {\n",
              "      background-color: #E2EBFA;\n",
              "      box-shadow: 0px 1px 2px rgba(60, 64, 67, 0.3), 0px 1px 3px 1px rgba(60, 64, 67, 0.15);\n",
              "      fill: #174EA6;\n",
              "    }\n",
              "\n",
              "    .colab-df-buttons div {\n",
              "      margin-bottom: 4px;\n",
              "    }\n",
              "\n",
              "    [theme=dark] .colab-df-convert {\n",
              "      background-color: #3B4455;\n",
              "      fill: #D2E3FC;\n",
              "    }\n",
              "\n",
              "    [theme=dark] .colab-df-convert:hover {\n",
              "      background-color: #434B5C;\n",
              "      box-shadow: 0px 1px 3px 1px rgba(0, 0, 0, 0.15);\n",
              "      filter: drop-shadow(0px 1px 2px rgba(0, 0, 0, 0.3));\n",
              "      fill: #FFFFFF;\n",
              "    }\n",
              "  </style>\n",
              "\n",
              "    <script>\n",
              "      const buttonEl =\n",
              "        document.querySelector('#df-a8452d95-5325-4f2e-a923-927b10a3cace button.colab-df-convert');\n",
              "      buttonEl.style.display =\n",
              "        google.colab.kernel.accessAllowed ? 'block' : 'none';\n",
              "\n",
              "      async function convertToInteractive(key) {\n",
              "        const element = document.querySelector('#df-a8452d95-5325-4f2e-a923-927b10a3cace');\n",
              "        const dataTable =\n",
              "          await google.colab.kernel.invokeFunction('convertToInteractive',\n",
              "                                                    [key], {});\n",
              "        if (!dataTable) return;\n",
              "\n",
              "        const docLinkHtml = 'Like what you see? Visit the ' +\n",
              "          '<a target=\"_blank\" href=https://colab.research.google.com/notebooks/data_table.ipynb>data table notebook</a>'\n",
              "          + ' to learn more about interactive tables.';\n",
              "        element.innerHTML = '';\n",
              "        dataTable['output_type'] = 'display_data';\n",
              "        await google.colab.output.renderOutput(dataTable, element);\n",
              "        const docLink = document.createElement('div');\n",
              "        docLink.innerHTML = docLinkHtml;\n",
              "        element.appendChild(docLink);\n",
              "      }\n",
              "    </script>\n",
              "  </div>\n",
              "\n",
              "\n",
              "<div id=\"df-309abcb8-92f2-48c9-8840-75f5280635c4\">\n",
              "  <button class=\"colab-df-quickchart\" onclick=\"quickchart('df-309abcb8-92f2-48c9-8840-75f5280635c4')\"\n",
              "            title=\"Suggest charts\"\n",
              "            style=\"display:none;\">\n",
              "\n",
              "<svg xmlns=\"http://www.w3.org/2000/svg\" height=\"24px\"viewBox=\"0 0 24 24\"\n",
              "     width=\"24px\">\n",
              "    <g>\n",
              "        <path d=\"M19 3H5c-1.1 0-2 .9-2 2v14c0 1.1.9 2 2 2h14c1.1 0 2-.9 2-2V5c0-1.1-.9-2-2-2zM9 17H7v-7h2v7zm4 0h-2V7h2v10zm4 0h-2v-4h2v4z\"/>\n",
              "    </g>\n",
              "</svg>\n",
              "  </button>\n",
              "\n",
              "<style>\n",
              "  .colab-df-quickchart {\n",
              "      --bg-color: #E8F0FE;\n",
              "      --fill-color: #1967D2;\n",
              "      --hover-bg-color: #E2EBFA;\n",
              "      --hover-fill-color: #174EA6;\n",
              "      --disabled-fill-color: #AAA;\n",
              "      --disabled-bg-color: #DDD;\n",
              "  }\n",
              "\n",
              "  [theme=dark] .colab-df-quickchart {\n",
              "      --bg-color: #3B4455;\n",
              "      --fill-color: #D2E3FC;\n",
              "      --hover-bg-color: #434B5C;\n",
              "      --hover-fill-color: #FFFFFF;\n",
              "      --disabled-bg-color: #3B4455;\n",
              "      --disabled-fill-color: #666;\n",
              "  }\n",
              "\n",
              "  .colab-df-quickchart {\n",
              "    background-color: var(--bg-color);\n",
              "    border: none;\n",
              "    border-radius: 50%;\n",
              "    cursor: pointer;\n",
              "    display: none;\n",
              "    fill: var(--fill-color);\n",
              "    height: 32px;\n",
              "    padding: 0;\n",
              "    width: 32px;\n",
              "  }\n",
              "\n",
              "  .colab-df-quickchart:hover {\n",
              "    background-color: var(--hover-bg-color);\n",
              "    box-shadow: 0 1px 2px rgba(60, 64, 67, 0.3), 0 1px 3px 1px rgba(60, 64, 67, 0.15);\n",
              "    fill: var(--button-hover-fill-color);\n",
              "  }\n",
              "\n",
              "  .colab-df-quickchart-complete:disabled,\n",
              "  .colab-df-quickchart-complete:disabled:hover {\n",
              "    background-color: var(--disabled-bg-color);\n",
              "    fill: var(--disabled-fill-color);\n",
              "    box-shadow: none;\n",
              "  }\n",
              "\n",
              "  .colab-df-spinner {\n",
              "    border: 2px solid var(--fill-color);\n",
              "    border-color: transparent;\n",
              "    border-bottom-color: var(--fill-color);\n",
              "    animation:\n",
              "      spin 1s steps(1) infinite;\n",
              "  }\n",
              "\n",
              "  @keyframes spin {\n",
              "    0% {\n",
              "      border-color: transparent;\n",
              "      border-bottom-color: var(--fill-color);\n",
              "      border-left-color: var(--fill-color);\n",
              "    }\n",
              "    20% {\n",
              "      border-color: transparent;\n",
              "      border-left-color: var(--fill-color);\n",
              "      border-top-color: var(--fill-color);\n",
              "    }\n",
              "    30% {\n",
              "      border-color: transparent;\n",
              "      border-left-color: var(--fill-color);\n",
              "      border-top-color: var(--fill-color);\n",
              "      border-right-color: var(--fill-color);\n",
              "    }\n",
              "    40% {\n",
              "      border-color: transparent;\n",
              "      border-right-color: var(--fill-color);\n",
              "      border-top-color: var(--fill-color);\n",
              "    }\n",
              "    60% {\n",
              "      border-color: transparent;\n",
              "      border-right-color: var(--fill-color);\n",
              "    }\n",
              "    80% {\n",
              "      border-color: transparent;\n",
              "      border-right-color: var(--fill-color);\n",
              "      border-bottom-color: var(--fill-color);\n",
              "    }\n",
              "    90% {\n",
              "      border-color: transparent;\n",
              "      border-bottom-color: var(--fill-color);\n",
              "    }\n",
              "  }\n",
              "</style>\n",
              "\n",
              "  <script>\n",
              "    async function quickchart(key) {\n",
              "      const quickchartButtonEl =\n",
              "        document.querySelector('#' + key + ' button');\n",
              "      quickchartButtonEl.disabled = true;  // To prevent multiple clicks.\n",
              "      quickchartButtonEl.classList.add('colab-df-spinner');\n",
              "      try {\n",
              "        const charts = await google.colab.kernel.invokeFunction(\n",
              "            'suggestCharts', [key], {});\n",
              "      } catch (error) {\n",
              "        console.error('Error during call to suggestCharts:', error);\n",
              "      }\n",
              "      quickchartButtonEl.classList.remove('colab-df-spinner');\n",
              "      quickchartButtonEl.classList.add('colab-df-quickchart-complete');\n",
              "    }\n",
              "    (() => {\n",
              "      let quickchartButtonEl =\n",
              "        document.querySelector('#df-309abcb8-92f2-48c9-8840-75f5280635c4 button');\n",
              "      quickchartButtonEl.style.display =\n",
              "        google.colab.kernel.accessAllowed ? 'block' : 'none';\n",
              "    })();\n",
              "  </script>\n",
              "</div>\n",
              "\n",
              "    </div>\n",
              "  </div>\n"
            ],
            "application/vnd.google.colaboratory.intrinsic+json": {
              "type": "dataframe",
              "variable_name": "movie_data"
            }
          },
          "metadata": {},
          "execution_count": 16
        }
      ]
    },
    {
      "cell_type": "code",
      "source": [
        "print(movie_data.info())"
      ],
      "metadata": {
        "colab": {
          "base_uri": "https://localhost:8080/"
        },
        "id": "2t3Wfb61GINH",
        "outputId": "df296f78-9f6f-4e49-9110-366bb8bc80e6"
      },
      "execution_count": 17,
      "outputs": [
        {
          "output_type": "stream",
          "name": "stdout",
          "text": [
            "<class 'pandas.core.frame.DataFrame'>\n",
            "RangeIndex: 102902 entries, 0 to 102901\n",
            "Data columns (total 10 columns):\n",
            " #   Column       Non-Null Count   Dtype  \n",
            "---  ------       --------------   -----  \n",
            " 0   movieId      102902 non-null  int64  \n",
            " 1   title        102695 non-null  object \n",
            " 2   genres       102695 non-null  object \n",
            " 3   userId       102884 non-null  float64\n",
            " 4   rating       102677 non-null  float64\n",
            " 5   timestamp_x  102677 non-null  float64\n",
            " 6   tag          3683 non-null    object \n",
            " 7   timestamp_y  3683 non-null    float64\n",
            " 8   date         102677 non-null  object \n",
            " 9   year         102677 non-null  float64\n",
            "dtypes: float64(5), int64(1), object(4)\n",
            "memory usage: 7.9+ MB\n",
            "None\n"
          ]
        }
      ]
    },
    {
      "cell_type": "code",
      "source": [
        "print(movie_data.describe())"
      ],
      "metadata": {
        "colab": {
          "base_uri": "https://localhost:8080/"
        },
        "id": "aUAtHiAsGJzv",
        "outputId": "3ce833eb-5e9b-4600-eedf-ed46df51cdef"
      },
      "execution_count": 18,
      "outputs": [
        {
          "output_type": "stream",
          "name": "stdout",
          "text": [
            "             movieId         userId         rating   timestamp_x  \\\n",
            "count  102902.000000  102884.000000  102677.000000  1.026770e+05   \n",
            "mean    19731.937844     328.016028       3.514813  1.209495e+09   \n",
            "std     35868.440724     183.158345       1.043133  2.170117e+08   \n",
            "min         1.000000       1.000000       0.500000  8.281246e+08   \n",
            "25%      1199.000000     177.000000       3.000000  1.019138e+09   \n",
            "50%      3006.000000     330.000000       3.500000  1.186590e+09   \n",
            "75%      8364.000000     477.000000       4.000000  1.439916e+09   \n",
            "max    193609.000000     610.000000       5.000000  1.537799e+09   \n",
            "\n",
            "        timestamp_y           year  \n",
            "count  3.683000e+03  102677.000000  \n",
            "mean   1.320032e+09    2007.837461  \n",
            "std    1.721025e+08       6.915344  \n",
            "min    1.137179e+09    1996.000000  \n",
            "25%    1.137521e+09    2002.000000  \n",
            "50%    1.269833e+09    2007.000000  \n",
            "75%    1.498457e+09    2015.000000  \n",
            "max    1.537099e+09    2018.000000  \n"
          ]
        }
      ]
    },
    {
      "cell_type": "code",
      "source": [
        "# Checking for unique values in the dataset\n",
        "for col in movie_data.columns:\n",
        "    print(f\"Unique values in column '{col}': {movie_data[col].nunique()}\")"
      ],
      "metadata": {
        "colab": {
          "base_uri": "https://localhost:8080/"
        },
        "id": "_zxYpYlyGN7J",
        "outputId": "d9c5125d-d269-408c-810d-e69aff61b421"
      },
      "execution_count": 19,
      "outputs": [
        {
          "output_type": "stream",
          "name": "stdout",
          "text": [
            "Unique values in column 'movieId': 9742\n",
            "Unique values in column 'title': 9737\n",
            "Unique values in column 'genres': 951\n",
            "Unique values in column 'userId': 610\n",
            "Unique values in column 'rating': 10\n",
            "Unique values in column 'timestamp_x': 85043\n",
            "Unique values in column 'tag': 1589\n",
            "Unique values in column 'timestamp_y': 3411\n",
            "Unique values in column 'date': 4110\n",
            "Unique values in column 'year': 23\n"
          ]
        }
      ]
    },
    {
      "cell_type": "code",
      "source": [
        "movie_data.isnull().sum()"
      ],
      "metadata": {
        "colab": {
          "base_uri": "https://localhost:8080/",
          "height": 398
        },
        "id": "xlxRwyuHGZbh",
        "outputId": "35c0a970-2028-413c-a73a-7840c03565cf"
      },
      "execution_count": 20,
      "outputs": [
        {
          "output_type": "execute_result",
          "data": {
            "text/plain": [
              "movieId            0\n",
              "title            207\n",
              "genres           207\n",
              "userId            18\n",
              "rating           225\n",
              "timestamp_x      225\n",
              "tag            99219\n",
              "timestamp_y    99219\n",
              "date             225\n",
              "year             225\n",
              "dtype: int64"
            ],
            "text/html": [
              "<div>\n",
              "<style scoped>\n",
              "    .dataframe tbody tr th:only-of-type {\n",
              "        vertical-align: middle;\n",
              "    }\n",
              "\n",
              "    .dataframe tbody tr th {\n",
              "        vertical-align: top;\n",
              "    }\n",
              "\n",
              "    .dataframe thead th {\n",
              "        text-align: right;\n",
              "    }\n",
              "</style>\n",
              "<table border=\"1\" class=\"dataframe\">\n",
              "  <thead>\n",
              "    <tr style=\"text-align: right;\">\n",
              "      <th></th>\n",
              "      <th>0</th>\n",
              "    </tr>\n",
              "  </thead>\n",
              "  <tbody>\n",
              "    <tr>\n",
              "      <th>movieId</th>\n",
              "      <td>0</td>\n",
              "    </tr>\n",
              "    <tr>\n",
              "      <th>title</th>\n",
              "      <td>207</td>\n",
              "    </tr>\n",
              "    <tr>\n",
              "      <th>genres</th>\n",
              "      <td>207</td>\n",
              "    </tr>\n",
              "    <tr>\n",
              "      <th>userId</th>\n",
              "      <td>18</td>\n",
              "    </tr>\n",
              "    <tr>\n",
              "      <th>rating</th>\n",
              "      <td>225</td>\n",
              "    </tr>\n",
              "    <tr>\n",
              "      <th>timestamp_x</th>\n",
              "      <td>225</td>\n",
              "    </tr>\n",
              "    <tr>\n",
              "      <th>tag</th>\n",
              "      <td>99219</td>\n",
              "    </tr>\n",
              "    <tr>\n",
              "      <th>timestamp_y</th>\n",
              "      <td>99219</td>\n",
              "    </tr>\n",
              "    <tr>\n",
              "      <th>date</th>\n",
              "      <td>225</td>\n",
              "    </tr>\n",
              "    <tr>\n",
              "      <th>year</th>\n",
              "      <td>225</td>\n",
              "    </tr>\n",
              "  </tbody>\n",
              "</table>\n",
              "</div><br><label><b>dtype:</b> int64</label>"
            ]
          },
          "metadata": {},
          "execution_count": 20
        }
      ]
    },
    {
      "cell_type": "code",
      "source": [
        "#Rating distribution\n",
        "plt.figure(figsize=(8,5))\n",
        "sns.countplot(data=ratings, x='rating', palette='viridis')\n",
        "plt.title('rating distribution')\n",
        "plt.xlabel('rating')\n",
        "plt.ylabel('count')\n",
        "plt.show()"
      ],
      "metadata": {
        "colab": {
          "base_uri": "https://localhost:8080/",
          "height": 496
        },
        "id": "SOThbYC6LIIc",
        "outputId": "123bcb97-d156-4d02-84a0-7dc0ee00d6e5"
      },
      "execution_count": 21,
      "outputs": [
        {
          "output_type": "display_data",
          "data": {
            "text/plain": [
              "<Figure size 800x500 with 1 Axes>"
            ],
            "image/png": "[encoded data removed]"
          },
          "metadata": {}
        }
      ]
    },
    {
      "cell_type": "code",
      "source": [
        "# Average Rating per Movie\n",
        "movie_stats = ratings.groupby('movieId').agg(avg_rating=('rating', 'mean'),\n",
        "                                              num_ratings=('rating', 'count')).reset_index()\n",
        "\n",
        "# Merge with movies\n",
        "movie_stats = movie_stats.merge(movies, on='movieId')\n",
        "\n",
        "# Filter movies with at least 100 ratings\n",
        "top_rated = movie_stats[movie_stats['num_ratings'] >= 100]\n",
        "top_rated = top_rated.sort_values('avg_rating', ascending=False).head(10)\n",
        "\n",
        "print(\"\\nTop Rated Movies (min 100 ratings):\")\n",
        "display(top_rated[['title', 'avg_rating', 'num_ratings']])"
      ],
      "metadata": {
        "colab": {
          "base_uri": "https://localhost:8080/",
          "height": 398
        },
        "id": "zuxfCXfQGq0_",
        "outputId": "5ed0087f-875e-4df1-8d09-32eed94a0eb3"
      },
      "execution_count": 22,
      "outputs": [
        {
          "output_type": "stream",
          "name": "stdout",
          "text": [
            "\n",
            "Top Rated Movies (min 100 ratings):\n"
          ]
        },
        {
          "output_type": "display_data",
          "data": {
            "text/plain": [
              "                                 title  avg_rating  num_ratings\n",
              "277   Shawshank Redemption, The (1994)    4.429022          317\n",
              "659              Godfather, The (1972)    4.289062          192\n",
              "2224                 Fight Club (1999)    4.272936          218\n",
              "921     Godfather: Part II, The (1974)    4.259690          129\n",
              "6298              Departed, The (2006)    4.252336          107\n",
              "913                  Goodfellas (1990)    4.250000          126\n",
              "694                  Casablanca (1942)    4.240000          100\n",
              "6693           Dark Knight, The (2008)    4.238255          149\n",
              "46          Usual Suspects, The (1995)    4.237745          204\n",
              "898         Princess Bride, The (1987)    4.232394          142"
            ],
            "text/html": [
              "\n",
              "  <div id=\"df-9ee4cb7f-b7a1-4791-b7e1-470518f418bc\" class=\"colab-df-container\">\n",
              "    <div>\n",
              "<style scoped>\n",
              "    .dataframe tbody tr th:only-of-type {\n",
              "        vertical-align: middle;\n",
              "    }\n",
              "\n",
              "    .dataframe tbody tr th {\n",
              "        vertical-align: top;\n",
              "    }\n",
              "\n",
              "    .dataframe thead th {\n",
              "        text-align: right;\n",
              "    }\n",
              "</style>\n",
              "<table border=\"1\" class=\"dataframe\">\n",
              "  <thead>\n",
              "    <tr style=\"text-align: right;\">\n",
              "      <th></th>\n",
              "      <th>title</th>\n",
              "      <th>avg_rating</th>\n",
              "      <th>num_ratings</th>\n",
              "    </tr>\n",
              "  </thead>\n",
              "  <tbody>\n",
              "    <tr>\n",
              "      <th>277</th>\n",
              "      <td>Shawshank Redemption, The (1994)</td>\n",
              "      <td>4.429022</td>\n",
              "      <td>317</td>\n",
              "    </tr>\n",
              "    <tr>\n",
              "      <th>659</th>\n",
              "      <td>Godfather, The (1972)</td>\n",
              "      <td>4.289062</td>\n",
              "      <td>192</td>\n",
              "    </tr>\n",
              "    <tr>\n",
              "      <th>2224</th>\n",
              "      <td>Fight Club (1999)</td>\n",
              "      <td>4.272936</td>\n",
              "      <td>218</td>\n",
              "    </tr>\n",
              "    <tr>\n",
              "      <th>921</th>\n",
              "      <td>Godfather: Part II, The (1974)</td>\n",
              "      <td>4.259690</td>\n",
              "      <td>129</td>\n",
              "    </tr>\n",
              "    <tr>\n",
              "      <th>6298</th>\n",
              "      <td>Departed, The (2006)</td>\n",
              "      <td>4.252336</td>\n",
              "      <td>107</td>\n",
              "    </tr>\n",
              "    <tr>\n",
              "      <th>913</th>\n",
              "      <td>Goodfellas (1990)</td>\n",
              "      <td>4.250000</td>\n",
              "      <td>126</td>\n",
              "    </tr>\n",
              "    <tr>\n",
              "      <th>694</th>\n",
              "      <td>Casablanca (1942)</td>\n",
              "      <td>4.240000</td>\n",
              "      <td>100</td>\n",
              "    </tr>\n",
              "    <tr>\n",
              "      <th>6693</th>\n",
              "      <td>Dark Knight, The (2008)</td>\n",
              "      <td>4.238255</td>\n",
              "      <td>149</td>\n",
              "    </tr>\n",
              "    <tr>\n",
              "      <th>46</th>\n",
              "      <td>Usual Suspects, The (1995)</td>\n",
              "      <td>4.237745</td>\n",
              "      <td>204</td>\n",
              "    </tr>\n",
              "    <tr>\n",
              "      <th>898</th>\n",
              "      <td>Princess Bride, The (1987)</td>\n",
              "      <td>4.232394</td>\n",
              "      <td>142</td>\n",
              "    </tr>\n",
              "  </tbody>\n",
              "</table>\n",
              "</div>\n",
              "    <div class=\"colab-df-buttons\">\n",
              "\n",
              "  <div class=\"colab-df-container\">\n",
              "    <button class=\"colab-df-convert\" onclick=\"convertToInteractive('df-9ee4cb7f-b7a1-4791-b7e1-470518f418bc')\"\n",
              "            title=\"Convert this dataframe to an interactive table.\"\n",
              "            style=\"display:none;\">\n",
              "\n",
              "  <svg xmlns=\"http://www.w3.org/2000/svg\" height=\"24px\" viewBox=\"0 -960 960 960\">\n",
              "    <path d=\"M120-120v-720h720v720H120Zm60-500h600v-160H180v160Zm220 220h160v-160H400v160Zm0 220h160v-160H400v160ZM180-400h160v-160H180v160Zm440 0h160v-160H620v160ZM180-180h160v-160H180v160Zm440 0h160v-160H620v160Z\"/>\n",
              "  </svg>\n",
              "    </button>\n",
              "\n",
              "  <style>\n",
              "    .colab-df-container {\n",
              "      display:flex;\n",
              "      gap: 12px;\n",
              "    }\n",
              "\n",
              "    .colab-df-convert {\n",
              "      background-color: #E8F0FE;\n",
              "      border: none;\n",
              "      border-radius: 50%;\n",
              "      cursor: pointer;\n",
              "      display: none;\n",
              "      fill: #1967D2;\n",
              "      height: 32px;\n",
              "      padding: 0 0 0 0;\n",
              "      width: 32px;\n",
              "    }\n",
              "\n",
              "    .colab-df-convert:hover {\n",
              "      background-color: #E2EBFA;\n",
              "      box-shadow: 0px 1px 2px rgba(60, 64, 67, 0.3), 0px 1px 3px 1px rgba(60, 64, 67, 0.15);\n",
              "      fill: #174EA6;\n",
              "    }\n",
              "\n",
              "    .colab-df-buttons div {\n",
              "      margin-bottom: 4px;\n",
              "    }\n",
              "\n",
              "    [theme=dark] .colab-df-convert {\n",
              "      background-color: #3B4455;\n",
              "      fill: #D2E3FC;\n",
              "    }\n",
              "\n",
              "    [theme=dark] .colab-df-convert:hover {\n",
              "      background-color: #434B5C;\n",
              "      box-shadow: 0px 1px 3px 1px rgba(0, 0, 0, 0.15);\n",
              "      filter: drop-shadow(0px 1px 2px rgba(0, 0, 0, 0.3));\n",
              "      fill: #FFFFFF;\n",
              "    }\n",
              "  </style>\n",
              "\n",
              "    <script>\n",
              "      const buttonEl =\n",
              "        document.querySelector('#df-9ee4cb7f-b7a1-4791-b7e1-470518f418bc button.colab-df-convert');\n",
              "      buttonEl.style.display =\n",
              "        google.colab.kernel.accessAllowed ? 'block' : 'none';\n",
              "\n",
              "      async function convertToInteractive(key) {\n",
              "        const element = document.querySelector('#df-9ee4cb7f-b7a1-4791-b7e1-470518f418bc');\n",
              "        const dataTable =\n",
              "          await google.colab.kernel.invokeFunction('convertToInteractive',\n",
              "                                                    [key], {});\n",
              "        if (!dataTable) return;\n",
              "\n",
              "        const docLinkHtml = 'Like what you see? Visit the ' +\n",
              "          '<a target=\"_blank\" href=https://colab.research.google.com/notebooks/data_table.ipynb>data table notebook</a>'\n",
              "          + ' to learn more about interactive tables.';\n",
              "        element.innerHTML = '';\n",
              "        dataTable['output_type'] = 'display_data';\n",
              "        await google.colab.output.renderOutput(dataTable, element);\n",
              "        const docLink = document.createElement('div');\n",
              "        docLink.innerHTML = docLinkHtml;\n",
              "        element.appendChild(docLink);\n",
              "      }\n",
              "    </script>\n",
              "  </div>\n",
              "\n",
              "\n",
              "<div id=\"df-6827adb9-81bd-4aca-89fc-b6da1503d742\">\n",
              "  <button class=\"colab-df-quickchart\" onclick=\"quickchart('df-6827adb9-81bd-4aca-89fc-b6da1503d742')\"\n",
              "            title=\"Suggest charts\"\n",
              "            style=\"display:none;\">\n",
              "\n",
              "<svg xmlns=\"http://www.w3.org/2000/svg\" height=\"24px\"viewBox=\"0 0 24 24\"\n",
              "     width=\"24px\">\n",
              "    <g>\n",
              "        <path d=\"M19 3H5c-1.1 0-2 .9-2 2v14c0 1.1.9 2 2 2h14c1.1 0 2-.9 2-2V5c0-1.1-.9-2-2-2zM9 17H7v-7h2v7zm4 0h-2V7h2v10zm4 0h-2v-4h2v4z\"/>\n",
              "    </g>\n",
              "</svg>\n",
              "  </button>\n",
              "\n",
              "<style>\n",
              "  .colab-df-quickchart {\n",
              "      --bg-color: #E8F0FE;\n",
              "      --fill-color: #1967D2;\n",
              "      --hover-bg-color: #E2EBFA;\n",
              "      --hover-fill-color: #174EA6;\n",
              "      --disabled-fill-color: #AAA;\n",
              "      --disabled-bg-color: #DDD;\n",
              "  }\n",
              "\n",
              "  [theme=dark] .colab-df-quickchart {\n",
              "      --bg-color: #3B4455;\n",
              "      --fill-color: #D2E3FC;\n",
              "      --hover-bg-color: #434B5C;\n",
              "      --hover-fill-color: #FFFFFF;\n",
              "      --disabled-bg-color: #3B4455;\n",
              "      --disabled-fill-color: #666;\n",
              "  }\n",
              "\n",
              "  .colab-df-quickchart {\n",
              "    background-color: var(--bg-color);\n",
              "    border: none;\n",
              "    border-radius: 50%;\n",
              "    cursor: pointer;\n",
              "    display: none;\n",
              "    fill: var(--fill-color);\n",
              "    height: 32px;\n",
              "    padding: 0;\n",
              "    width: 32px;\n",
              "  }\n",
              "\n",
              "  .colab-df-quickchart:hover {\n",
              "    background-color: var(--hover-bg-color);\n",
              "    box-shadow: 0 1px 2px rgba(60, 64, 67, 0.3), 0 1px 3px 1px rgba(60, 64, 67, 0.15);\n",
              "    fill: var(--button-hover-fill-color);\n",
              "  }\n",
              "\n",
              "  .colab-df-quickchart-complete:disabled,\n",
              "  .colab-df-quickchart-complete:disabled:hover {\n",
              "    background-color: var(--disabled-bg-color);\n",
              "    fill: var(--disabled-fill-color);\n",
              "    box-shadow: none;\n",
              "  }\n",
              "\n",
              "  .colab-df-spinner {\n",
              "    border: 2px solid var(--fill-color);\n",
              "    border-color: transparent;\n",
              "    border-bottom-color: var(--fill-color);\n",
              "    animation:\n",
              "      spin 1s steps(1) infinite;\n",
              "  }\n",
              "\n",
              "  @keyframes spin {\n",
              "    0% {\n",
              "      border-color: transparent;\n",
              "      border-bottom-color: var(--fill-color);\n",
              "      border-left-color: var(--fill-color);\n",
              "    }\n",
              "    20% {\n",
              "      border-color: transparent;\n",
              "      border-left-color: var(--fill-color);\n",
              "      border-top-color: var(--fill-color);\n",
              "    }\n",
              "    30% {\n",
              "      border-color: transparent;\n",
              "      border-left-color: var(--fill-color);\n",
              "      border-top-color: var(--fill-color);\n",
              "      border-right-color: var(--fill-color);\n",
              "    }\n",
              "    40% {\n",
              "      border-color: transparent;\n",
              "      border-right-color: var(--fill-color);\n",
              "      border-top-color: var(--fill-color);\n",
              "    }\n",
              "    60% {\n",
              "      border-color: transparent;\n",
              "      border-right-color: var(--fill-color);\n",
              "    }\n",
              "    80% {\n",
              "      border-color: transparent;\n",
              "      border-right-color: var(--fill-color);\n",
              "      border-bottom-color: var(--fill-color);\n",
              "    }\n",
              "    90% {\n",
              "      border-color: transparent;\n",
              "      border-bottom-color: var(--fill-color);\n",
              "    }\n",
              "  }\n",
              "</style>\n",
              "\n",
              "  <script>\n",
              "    async function quickchart(key) {\n",
              "      const quickchartButtonEl =\n",
              "        document.querySelector('#' + key + ' button');\n",
              "      quickchartButtonEl.disabled = true;  // To prevent multiple clicks.\n",
              "      quickchartButtonEl.classList.add('colab-df-spinner');\n",
              "      try {\n",
              "        const charts = await google.colab.kernel.invokeFunction(\n",
              "            'suggestCharts', [key], {});\n",
              "      } catch (error) {\n",
              "        console.error('Error during call to suggestCharts:', error);\n",
              "      }\n",
              "      quickchartButtonEl.classList.remove('colab-df-spinner');\n",
              "      quickchartButtonEl.classList.add('colab-df-quickchart-complete');\n",
              "    }\n",
              "    (() => {\n",
              "      let quickchartButtonEl =\n",
              "        document.querySelector('#df-6827adb9-81bd-4aca-89fc-b6da1503d742 button');\n",
              "      quickchartButtonEl.style.display =\n",
              "        google.colab.kernel.accessAllowed ? 'block' : 'none';\n",
              "    })();\n",
              "  </script>\n",
              "</div>\n",
              "\n",
              "    </div>\n",
              "  </div>\n"
            ],
            "application/vnd.google.colaboratory.intrinsic+json": {
              "type": "dataframe",
              "summary": "{\n  \"name\": \"display(top_rated[['title', 'avg_rating', 'num_ratings']])\",\n  \"rows\": 10,\n  \"fields\": [\n    {\n      \"column\": \"title\",\n      \"properties\": {\n        \"dtype\": \"string\",\n        \"num_unique_values\": 10,\n        \"samples\": [\n          \"Usual Suspects, The (1995)\",\n          \"Godfather, The (1972)\",\n          \"Goodfellas (1990)\"\n        ],\n        \"semantic_type\": \"\",\n        \"description\": \"\"\n      }\n    },\n    {\n      \"column\": \"avg_rating\",\n      \"properties\": {\n        \"dtype\": \"number\",\n        \"std\": 0.058538132490879656,\n        \"min\": 4.232394366197183,\n        \"max\": 4.429022082018927,\n        \"num_unique_values\": 10,\n        \"samples\": [\n          4.237745098039215,\n          4.2890625,\n          4.25\n        ],\n        \"semantic_type\": \"\",\n        \"description\": \"\"\n      }\n    },\n    {\n      \"column\": \"num_ratings\",\n      \"properties\": {\n        \"dtype\": \"number\",\n        \"std\": 66,\n        \"min\": 100,\n        \"max\": 317,\n        \"num_unique_values\": 10,\n        \"samples\": [\n          204,\n          192,\n          126\n        ],\n        \"semantic_type\": \"\",\n        \"description\": \"\"\n      }\n    }\n  ]\n}"
            }
          },
          "metadata": {}
        }
      ]
    },
    {
      "cell_type": "code",
      "source": [
        "# Heatmap of Correlation Matrix (if numerical columns exist)\n",
        "numerical_cols = movie_data.select_dtypes(include=np.number).columns\n",
        "plt.figure(figsize=(10, 8))\n",
        "sns.heatmap(movie_data[numerical_cols].corr(), annot=True, cmap='viridis', fmt=\".2f\")\n",
        "plt.title('Correlation Matrix of Numerical Features')\n",
        "plt.show()"
      ],
      "metadata": {
        "colab": {
          "base_uri": "https://localhost:8080/",
          "height": 704
        },
        "id": "eQEJntuOGvbf",
        "outputId": "58a2fef7-4460-4090-ef59-c4cbd3fb9891"
      },
      "execution_count": 23,
      "outputs": [
        {
          "output_type": "display_data",
          "data": {
            "text/plain": [
              "<Figure size 1000x800 with 2 Axes>"
            ],
            "image/png": "[encoded data removed]"
          },
          "metadata": {}
        }
      ]
    },
    {
      "cell_type": "code",
      "source": [
        "# Genre Analysis\n",
        "# Split genres into individual genre rows\n",
        "genre_counts = movies['genres'].str.split('|').explode().value_counts()\n",
        "\n",
        "plt.figure(figsize=(12, 6))\n",
        "sns.barplot(x=genre_counts.index, y=genre_counts.values, palette='viridis')\n",
        "plt.xticks(rotation=45)\n",
        "plt.title('Number of Movies per Genre')\n",
        "plt.xlabel('Genre')\n",
        "plt.ylabel('Count')\n",
        "plt.show()"
      ],
      "metadata": {
        "colab": {
          "base_uri": "https://localhost:8080/",
          "height": 663
        },
        "id": "-9nV_3XJNrhg",
        "outputId": "3e3ab751-16f5-46d3-cb67-c7340b6e5aa4"
      },
      "execution_count": 24,
      "outputs": [
        {
          "output_type": "display_data",
          "data": {
            "text/plain": [
              "<Figure size 1200x600 with 1 Axes>"
            ],
            "image/png": "[encoded data removed]"
          },
          "metadata": {}
        }
      ]
    },
    {
      "cell_type": "code",
      "source": [
        "#Tag Frequency\n",
        "top_tags = tags['tag'].value_counts().head(20)\n",
        "\n",
        "plt.figure(figsize=(10, 6))\n",
        "sns.barplot(x=top_tags.values, y=top_tags.index, palette='viridis')\n",
        "plt.title('Top 20 Tags Used')\n",
        "plt.xlabel('Frequency')\n",
        "plt.ylabel('Tag')\n",
        "plt.show()\n"
      ],
      "metadata": {
        "colab": {
          "base_uri": "https://localhost:8080/",
          "height": 573
        },
        "id": "Jdpjj-GoOEa4",
        "outputId": "fb1aefdd-2914-4386-d060-5f11249264b6"
      },
      "execution_count": 25,
      "outputs": [
        {
          "output_type": "display_data",
          "data": {
            "text/plain": [
              "<Figure size 1000x600 with 1 Axes>"
            ],
            "image/png": "[encoded data removed]"
          },
          "metadata": {}
        }
      ]
    },
    {
      "cell_type": "markdown",
      "source": [
        "##Feature Engineering\n"
      ],
      "metadata": {
        "id": "papUTirJf8LR"
      }
    },
    {
      "cell_type": "code",
      "source": [
        "movie_data['timestamp_x'] = pd.to_datetime(movie_data['timestamp_x'], unit='s')\n",
        "\n",
        "# Convert date column if it's string format\n",
        "movie_data['date'] = pd.to_datetime(movie_data['date'], errors='coerce')"
      ],
      "metadata": {
        "id": "_op6Tfn0gFYS"
      },
      "execution_count": 41,
      "outputs": []
    },
    {
      "cell_type": "code",
      "source": [
        "movie_data['hour'] = movie_data['timestamp_x'].dt.hour\n",
        "movie_data['weekday'] = movie_data['timestamp_x'].dt.weekday\n",
        "movie_data['day'] = movie_data['timestamp_x'].dt.day\n",
        "movie_data['month'] = movie_data['timestamp_x'].dt.month\n",
        "movie_data['is_weekend'] = movie_data['weekday'].isin([5, 6])"
      ],
      "metadata": {
        "id": "GZ-6Vf7zgFA9"
      },
      "execution_count": 42,
      "outputs": []
    },
    {
      "cell_type": "code",
      "source": [
        "movie_data.head()"
      ],
      "metadata": {
        "colab": {
          "base_uri": "https://localhost:8080/",
          "height": 429
        },
        "id": "dT5XiTvsgPTm",
        "outputId": "eda1bab8-0b1e-46f7-e3fd-6f4404e690bd"
      },
      "execution_count": 43,
      "outputs": [
        {
          "output_type": "execute_result",
          "data": {
            "text/plain": [
              "   movieId                        title  \\\n",
              "0        1             Toy Story (1995)   \n",
              "1        3      Grumpier Old Men (1995)   \n",
              "2        6                  Heat (1995)   \n",
              "3       47  Seven (a.k.a. Se7en) (1995)   \n",
              "4       50   Usual Suspects, The (1995)   \n",
              "\n",
              "                                        genres  userId  rating  \\\n",
              "0  Adventure|Animation|Children|Comedy|Fantasy     1.0     4.0   \n",
              "1                               Comedy|Romance     1.0     4.0   \n",
              "2                        Action|Crime|Thriller     1.0     4.0   \n",
              "3                             Mystery|Thriller     1.0     5.0   \n",
              "4                       Crime|Mystery|Thriller     1.0     5.0   \n",
              "\n",
              "          timestamp_x  tag  timestamp_y       date    year  ...  genre_I  \\\n",
              "0 2000-07-30 18:45:03  nan          NaN 2000-07-30  2000.0  ...        0   \n",
              "1 2000-07-30 18:20:47  nan          NaN 2000-07-30  2000.0  ...        0   \n",
              "2 2000-07-30 18:37:04  nan          NaN 2000-07-30  2000.0  ...        0   \n",
              "3 2000-07-30 19:03:35  nan          NaN 2000-07-30  2000.0  ...        0   \n",
              "4 2000-07-30 18:48:51  nan          NaN 2000-07-30  2000.0  ...        0   \n",
              "\n",
              "   genre_u  genre_(  genre_v  rating_normalized  month   day  weekday  hour  \\\n",
              "0        1        0        1           0.777778    7.0  30.0      6.0  18.0   \n",
              "1        0        0        0           0.777778    7.0  30.0      6.0  18.0   \n",
              "2        0        0        0           0.777778    7.0  30.0      6.0  18.0   \n",
              "3        0        0        0           1.000000    7.0  30.0      6.0  19.0   \n",
              "4        0        0        0           1.000000    7.0  30.0      6.0  18.0   \n",
              "\n",
              "   is_weekend  \n",
              "0        True  \n",
              "1        True  \n",
              "2        True  \n",
              "3        True  \n",
              "4        True  \n",
              "\n",
              "[5 rows x 53 columns]"
            ],
            "text/html": [
              "\n",
              "  <div id=\"df-fa7ba5a1-6fc3-4411-9be7-752375821c56\" class=\"colab-df-container\">\n",
              "    <div>\n",
              "<style scoped>\n",
              "    .dataframe tbody tr th:only-of-type {\n",
              "        vertical-align: middle;\n",
              "    }\n",
              "\n",
              "    .dataframe tbody tr th {\n",
              "        vertical-align: top;\n",
              "    }\n",
              "\n",
              "    .dataframe thead th {\n",
              "        text-align: right;\n",
              "    }\n",
              "</style>\n",
              "<table border=\"1\" class=\"dataframe\">\n",
              "  <thead>\n",
              "    <tr style=\"text-align: right;\">\n",
              "      <th></th>\n",
              "      <th>movieId</th>\n",
              "      <th>title</th>\n",
              "      <th>genres</th>\n",
              "      <th>userId</th>\n",
              "      <th>rating</th>\n",
              "      <th>timestamp_x</th>\n",
              "      <th>tag</th>\n",
              "      <th>timestamp_y</th>\n",
              "      <th>date</th>\n",
              "      <th>year</th>\n",
              "      <th>...</th>\n",
              "      <th>genre_I</th>\n",
              "      <th>genre_u</th>\n",
              "      <th>genre_(</th>\n",
              "      <th>genre_v</th>\n",
              "      <th>rating_normalized</th>\n",
              "      <th>month</th>\n",
              "      <th>day</th>\n",
              "      <th>weekday</th>\n",
              "      <th>hour</th>\n",
              "      <th>is_weekend</th>\n",
              "    </tr>\n",
              "  </thead>\n",
              "  <tbody>\n",
              "    <tr>\n",
              "      <th>0</th>\n",
              "      <td>1</td>\n",
              "      <td>Toy Story (1995)</td>\n",
              "      <td>Adventure|Animation|Children|Comedy|Fantasy</td>\n",
              "      <td>1.0</td>\n",
              "      <td>4.0</td>\n",
              "      <td>2000-07-30 18:45:03</td>\n",
              "      <td>nan</td>\n",
              "      <td>NaN</td>\n",
              "      <td>2000-07-30</td>\n",
              "      <td>2000.0</td>\n",
              "      <td>...</td>\n",
              "      <td>0</td>\n",
              "      <td>1</td>\n",
              "      <td>0</td>\n",
              "      <td>1</td>\n",
              "      <td>0.777778</td>\n",
              "      <td>7.0</td>\n",
              "      <td>30.0</td>\n",
              "      <td>6.0</td>\n",
              "      <td>18.0</td>\n",
              "      <td>True</td>\n",
              "    </tr>\n",
              "    <tr>\n",
              "      <th>1</th>\n",
              "      <td>3</td>\n",
              "      <td>Grumpier Old Men (1995)</td>\n",
              "      <td>Comedy|Romance</td>\n",
              "      <td>1.0</td>\n",
              "      <td>4.0</td>\n",
              "      <td>2000-07-30 18:20:47</td>\n",
              "      <td>nan</td>\n",
              "      <td>NaN</td>\n",
              "      <td>2000-07-30</td>\n",
              "      <td>2000.0</td>\n",
              "      <td>...</td>\n",
              "      <td>0</td>\n",
              "      <td>0</td>\n",
              "      <td>0</td>\n",
              "      <td>0</td>\n",
              "      <td>0.777778</td>\n",
              "      <td>7.0</td>\n",
              "      <td>30.0</td>\n",
              "      <td>6.0</td>\n",
              "      <td>18.0</td>\n",
              "      <td>True</td>\n",
              "    </tr>\n",
              "    <tr>\n",
              "      <th>2</th>\n",
              "      <td>6</td>\n",
              "      <td>Heat (1995)</td>\n",
              "      <td>Action|Crime|Thriller</td>\n",
              "      <td>1.0</td>\n",
              "      <td>4.0</td>\n",
              "      <td>2000-07-30 18:37:04</td>\n",
              "      <td>nan</td>\n",
              "      <td>NaN</td>\n",
              "      <td>2000-07-30</td>\n",
              "      <td>2000.0</td>\n",
              "      <td>...</td>\n",
              "      <td>0</td>\n",
              "      <td>0</td>\n",
              "      <td>0</td>\n",
              "      <td>0</td>\n",
              "      <td>0.777778</td>\n",
              "      <td>7.0</td>\n",
              "      <td>30.0</td>\n",
              "      <td>6.0</td>\n",
              "      <td>18.0</td>\n",
              "      <td>True</td>\n",
              "    </tr>\n",
              "    <tr>\n",
              "      <th>3</th>\n",
              "      <td>47</td>\n",
              "      <td>Seven (a.k.a. Se7en) (1995)</td>\n",
              "      <td>Mystery|Thriller</td>\n",
              "      <td>1.0</td>\n",
              "      <td>5.0</td>\n",
              "      <td>2000-07-30 19:03:35</td>\n",
              "      <td>nan</td>\n",
              "      <td>NaN</td>\n",
              "      <td>2000-07-30</td>\n",
              "      <td>2000.0</td>\n",
              "      <td>...</td>\n",
              "      <td>0</td>\n",
              "      <td>0</td>\n",
              "      <td>0</td>\n",
              "      <td>0</td>\n",
              "      <td>1.000000</td>\n",
              "      <td>7.0</td>\n",
              "      <td>30.0</td>\n",
              "      <td>6.0</td>\n",
              "      <td>19.0</td>\n",
              "      <td>True</td>\n",
              "    </tr>\n",
              "    <tr>\n",
              "      <th>4</th>\n",
              "      <td>50</td>\n",
              "      <td>Usual Suspects, The (1995)</td>\n",
              "      <td>Crime|Mystery|Thriller</td>\n",
              "      <td>1.0</td>\n",
              "      <td>5.0</td>\n",
              "      <td>2000-07-30 18:48:51</td>\n",
              "      <td>nan</td>\n",
              "      <td>NaN</td>\n",
              "      <td>2000-07-30</td>\n",
              "      <td>2000.0</td>\n",
              "      <td>...</td>\n",
              "      <td>0</td>\n",
              "      <td>0</td>\n",
              "      <td>0</td>\n",
              "      <td>0</td>\n",
              "      <td>1.000000</td>\n",
              "      <td>7.0</td>\n",
              "      <td>30.0</td>\n",
              "      <td>6.0</td>\n",
              "      <td>18.0</td>\n",
              "      <td>True</td>\n",
              "    </tr>\n",
              "  </tbody>\n",
              "</table>\n",
              "<p>5 rows × 53 columns</p>\n",
              "</div>\n",
              "    <div class=\"colab-df-buttons\">\n",
              "\n",
              "  <div class=\"colab-df-container\">\n",
              "    <button class=\"colab-df-convert\" onclick=\"convertToInteractive('df-fa7ba5a1-6fc3-4411-9be7-752375821c56')\"\n",
              "            title=\"Convert this dataframe to an interactive table.\"\n",
              "            style=\"display:none;\">\n",
              "\n",
              "  <svg xmlns=\"http://www.w3.org/2000/svg\" height=\"24px\" viewBox=\"0 -960 960 960\">\n",
              "    <path d=\"M120-120v-720h720v720H120Zm60-500h600v-160H180v160Zm220 220h160v-160H400v160Zm0 220h160v-160H400v160ZM180-400h160v-160H180v160Zm440 0h160v-160H620v160ZM180-180h160v-160H180v160Zm440 0h160v-160H620v160Z\"/>\n",
              "  </svg>\n",
              "    </button>\n",
              "\n",
              "  <style>\n",
              "    .colab-df-container {\n",
              "      display:flex;\n",
              "      gap: 12px;\n",
              "    }\n",
              "\n",
              "    .colab-df-convert {\n",
              "      background-color: #E8F0FE;\n",
              "      border: none;\n",
              "      border-radius: 50%;\n",
              "      cursor: pointer;\n",
              "      display: none;\n",
              "      fill: #1967D2;\n",
              "      height: 32px;\n",
              "      padding: 0 0 0 0;\n",
              "      width: 32px;\n",
              "    }\n",
              "\n",
              "    .colab-df-convert:hover {\n",
              "      background-color: #E2EBFA;\n",
              "      box-shadow: 0px 1px 2px rgba(60, 64, 67, 0.3), 0px 1px 3px 1px rgba(60, 64, 67, 0.15);\n",
              "      fill: #174EA6;\n",
              "    }\n",
              "\n",
              "    .colab-df-buttons div {\n",
              "      margin-bottom: 4px;\n",
              "    }\n",
              "\n",
              "    [theme=dark] .colab-df-convert {\n",
              "      background-color: #3B4455;\n",
              "      fill: #D2E3FC;\n",
              "    }\n",
              "\n",
              "    [theme=dark] .colab-df-convert:hover {\n",
              "      background-color: #434B5C;\n",
              "      box-shadow: 0px 1px 3px 1px rgba(0, 0, 0, 0.15);\n",
              "      filter: drop-shadow(0px 1px 2px rgba(0, 0, 0, 0.3));\n",
              "      fill: #FFFFFF;\n",
              "    }\n",
              "  </style>\n",
              "\n",
              "    <script>\n",
              "      const buttonEl =\n",
              "        document.querySelector('#df-fa7ba5a1-6fc3-4411-9be7-752375821c56 button.colab-df-convert');\n",
              "      buttonEl.style.display =\n",
              "        google.colab.kernel.accessAllowed ? 'block' : 'none';\n",
              "\n",
              "      async function convertToInteractive(key) {\n",
              "        const element = document.querySelector('#df-fa7ba5a1-6fc3-4411-9be7-752375821c56');\n",
              "        const dataTable =\n",
              "          await google.colab.kernel.invokeFunction('convertToInteractive',\n",
              "                                                    [key], {});\n",
              "        if (!dataTable) return;\n",
              "\n",
              "        const docLinkHtml = 'Like what you see? Visit the ' +\n",
              "          '<a target=\"_blank\" href=https://colab.research.google.com/notebooks/data_table.ipynb>data table notebook</a>'\n",
              "          + ' to learn more about interactive tables.';\n",
              "        element.innerHTML = '';\n",
              "        dataTable['output_type'] = 'display_data';\n",
              "        await google.colab.output.renderOutput(dataTable, element);\n",
              "        const docLink = document.createElement('div');\n",
              "        docLink.innerHTML = docLinkHtml;\n",
              "        element.appendChild(docLink);\n",
              "      }\n",
              "    </script>\n",
              "  </div>\n",
              "\n",
              "\n",
              "<div id=\"df-f47f3e3c-e8ce-4d41-8c28-10eed1d7f33f\">\n",
              "  <button class=\"colab-df-quickchart\" onclick=\"quickchart('df-f47f3e3c-e8ce-4d41-8c28-10eed1d7f33f')\"\n",
              "            title=\"Suggest charts\"\n",
              "            style=\"display:none;\">\n",
              "\n",
              "<svg xmlns=\"http://www.w3.org/2000/svg\" height=\"24px\"viewBox=\"0 0 24 24\"\n",
              "     width=\"24px\">\n",
              "    <g>\n",
              "        <path d=\"M19 3H5c-1.1 0-2 .9-2 2v14c0 1.1.9 2 2 2h14c1.1 0 2-.9 2-2V5c0-1.1-.9-2-2-2zM9 17H7v-7h2v7zm4 0h-2V7h2v10zm4 0h-2v-4h2v4z\"/>\n",
              "    </g>\n",
              "</svg>\n",
              "  </button>\n",
              "\n",
              "<style>\n",
              "  .colab-df-quickchart {\n",
              "      --bg-color: #E8F0FE;\n",
              "      --fill-color: #1967D2;\n",
              "      --hover-bg-color: #E2EBFA;\n",
              "      --hover-fill-color: #174EA6;\n",
              "      --disabled-fill-color: #AAA;\n",
              "      --disabled-bg-color: #DDD;\n",
              "  }\n",
              "\n",
              "  [theme=dark] .colab-df-quickchart {\n",
              "      --bg-color: #3B4455;\n",
              "      --fill-color: #D2E3FC;\n",
              "      --hover-bg-color: #434B5C;\n",
              "      --hover-fill-color: #FFFFFF;\n",
              "      --disabled-bg-color: #3B4455;\n",
              "      --disabled-fill-color: #666;\n",
              "  }\n",
              "\n",
              "  .colab-df-quickchart {\n",
              "    background-color: var(--bg-color);\n",
              "    border: none;\n",
              "    border-radius: 50%;\n",
              "    cursor: pointer;\n",
              "    display: none;\n",
              "    fill: var(--fill-color);\n",
              "    height: 32px;\n",
              "    padding: 0;\n",
              "    width: 32px;\n",
              "  }\n",
              "\n",
              "  .colab-df-quickchart:hover {\n",
              "    background-color: var(--hover-bg-color);\n",
              "    box-shadow: 0 1px 2px rgba(60, 64, 67, 0.3), 0 1px 3px 1px rgba(60, 64, 67, 0.15);\n",
              "    fill: var(--button-hover-fill-color);\n",
              "  }\n",
              "\n",
              "  .colab-df-quickchart-complete:disabled,\n",
              "  .colab-df-quickchart-complete:disabled:hover {\n",
              "    background-color: var(--disabled-bg-color);\n",
              "    fill: var(--disabled-fill-color);\n",
              "    box-shadow: none;\n",
              "  }\n",
              "\n",
              "  .colab-df-spinner {\n",
              "    border: 2px solid var(--fill-color);\n",
              "    border-color: transparent;\n",
              "    border-bottom-color: var(--fill-color);\n",
              "    animation:\n",
              "      spin 1s steps(1) infinite;\n",
              "  }\n",
              "\n",
              "  @keyframes spin {\n",
              "    0% {\n",
              "      border-color: transparent;\n",
              "      border-bottom-color: var(--fill-color);\n",
              "      border-left-color: var(--fill-color);\n",
              "    }\n",
              "    20% {\n",
              "      border-color: transparent;\n",
              "      border-left-color: var(--fill-color);\n",
              "      border-top-color: var(--fill-color);\n",
              "    }\n",
              "    30% {\n",
              "      border-color: transparent;\n",
              "      border-left-color: var(--fill-color);\n",
              "      border-top-color: var(--fill-color);\n",
              "      border-right-color: var(--fill-color);\n",
              "    }\n",
              "    40% {\n",
              "      border-color: transparent;\n",
              "      border-right-color: var(--fill-color);\n",
              "      border-top-color: var(--fill-color);\n",
              "    }\n",
              "    60% {\n",
              "      border-color: transparent;\n",
              "      border-right-color: var(--fill-color);\n",
              "    }\n",
              "    80% {\n",
              "      border-color: transparent;\n",
              "      border-right-color: var(--fill-color);\n",
              "      border-bottom-color: var(--fill-color);\n",
              "    }\n",
              "    90% {\n",
              "      border-color: transparent;\n",
              "      border-bottom-color: var(--fill-color);\n",
              "    }\n",
              "  }\n",
              "</style>\n",
              "\n",
              "  <script>\n",
              "    async function quickchart(key) {\n",
              "      const quickchartButtonEl =\n",
              "        document.querySelector('#' + key + ' button');\n",
              "      quickchartButtonEl.disabled = true;  // To prevent multiple clicks.\n",
              "      quickchartButtonEl.classList.add('colab-df-spinner');\n",
              "      try {\n",
              "        const charts = await google.colab.kernel.invokeFunction(\n",
              "            'suggestCharts', [key], {});\n",
              "      } catch (error) {\n",
              "        console.error('Error during call to suggestCharts:', error);\n",
              "      }\n",
              "      quickchartButtonEl.classList.remove('colab-df-spinner');\n",
              "      quickchartButtonEl.classList.add('colab-df-quickchart-complete');\n",
              "    }\n",
              "    (() => {\n",
              "      let quickchartButtonEl =\n",
              "        document.querySelector('#df-f47f3e3c-e8ce-4d41-8c28-10eed1d7f33f button');\n",
              "      quickchartButtonEl.style.display =\n",
              "        google.colab.kernel.accessAllowed ? 'block' : 'none';\n",
              "    })();\n",
              "  </script>\n",
              "</div>\n",
              "\n",
              "    </div>\n",
              "  </div>\n"
            ],
            "application/vnd.google.colaboratory.intrinsic+json": {
              "type": "dataframe",
              "variable_name": "movie_data"
            }
          },
          "metadata": {},
          "execution_count": 43
        }
      ]
    },
    {
      "cell_type": "markdown",
      "source": [
        "Using the feature engineered timestamp x we do visualizations for:\n",
        "\n",
        "\n",
        "1.   Ratings over time: see the trend\n",
        "2.   Weekday: is there a spike over weekends\n",
        "3.   Hour of day: what time in the day are users most active\n",
        "\n"
      ],
      "metadata": {
        "id": "_ryvTektgzVp"
      }
    },
    {
      "cell_type": "code",
      "source": [
        "# Convert timestamp_x to date time\n",
        "movie_data['timestamp_x'] = pd.to_datetime(movie_data['timestamp_x'])\n",
        "\n",
        "# Extract features\n",
        "movie_data['hour'] = movie_data['timestamp_x'].dt.hour\n",
        "movie_data['weekday'] = movie_data['timestamp_x'].dt.day_name()\n",
        "movie_data['date'] = movie_data['timestamp_x'].dt.date\n",
        "\n",
        "# Group daily\n",
        "daily_counts = movie_data.groupby('date').size()\n",
        "\n",
        "# Create subplots\n",
        "fig, axes = plt.subplots(1, 3, figsize=(18, 5))\n",
        "\n",
        "# 1.Ratings by Hour\n",
        "sns.countplot(data=movie_data, x='hour', ax=axes[0], palette='viridis')\n",
        "axes[0].set_title('Ratings by Hour of Day')\n",
        "axes[0].set_xlabel('Hour')\n",
        "axes[0].set_ylabel('Count')\n",
        "axes[0].set_xticks(range(0, 24, 3))\n",
        "axes[0].tick_params(axis='x', rotation=45)\n",
        "axes[0].grid(True, linestyle='--', alpha=0.5)\n",
        "\n",
        "# 2.Ratings by Weekday\n",
        "weekday_order = ['Monday', 'Tuesday', 'Wednesday', 'Thursday', 'Friday', 'Saturday', 'Sunday']\n",
        "sns.countplot(data=movie_data, x='weekday', order=weekday_order, ax=axes[1], palette='viridis')\n",
        "axes[1].set_title('Ratings by Day of the Week')\n",
        "axes[1].set_xlabel('Weekday')\n",
        "axes[1].set_ylabel('Count')\n",
        "axes[1].grid(True, linestyle='--', alpha=0.5)\n",
        "axes[1].tick_params(rotation=45)\n",
        "\n",
        "# 3.Ratings Over Time\n",
        "daily_counts.plot(ax=axes[2], marker='o', color='teal')\n",
        "axes[2].set_title('Ratings Over Time')\n",
        "axes[2].set_xlabel('Date')\n",
        "axes[2].set_ylabel('Number of Ratings')\n",
        "axes[2].grid(True)\n",
        "axes[2].tick_params(axis='x', rotation=45)\n",
        "\n",
        "plt.tight_layout()\n",
        "plt.show()\n"
      ],
      "metadata": {
        "colab": {
          "base_uri": "https://localhost:8080/",
          "height": 423
        },
        "id": "nc4_ohpbg8Mt",
        "outputId": "4249b00e-cb7d-4ae5-a222-77176cb6e2fa"
      },
      "execution_count": 46,
      "outputs": [
        {
          "output_type": "display_data",
          "data": {
            "text/plain": [
              "<Figure size 1800x500 with 3 Axes>"
            ],
            "image/png": "[encoded data removed]"
          },
          "metadata": {}
        }
      ]
    },
    {
      "cell_type": "markdown",
      "source": [
        "# Data Preprocessing\n"
      ],
      "metadata": {
        "id": "ul9tOPFrbUCd"
      }
    },
    {
      "cell_type": "markdown",
      "source": [
        "##Handling NaNs\n",
        "We begin by handling nans in our columns"
      ],
      "metadata": {
        "id": "UXVVjAUxzcKs"
      }
    },
    {
      "cell_type": "code",
      "source": [
        "movie_data.isnull().sum()"
      ],
      "metadata": {
        "colab": {
          "base_uri": "https://localhost:8080/",
          "height": 398
        },
        "id": "O4VuVS0C6JjO",
        "outputId": "87bdd13c-63fa-43ca-a49f-8a122ec2c066"
      },
      "execution_count": 26,
      "outputs": [
        {
          "output_type": "execute_result",
          "data": {
            "text/plain": [
              "movieId            0\n",
              "title            207\n",
              "genres           207\n",
              "userId            18\n",
              "rating           225\n",
              "timestamp_x      225\n",
              "tag            99219\n",
              "timestamp_y    99219\n",
              "date             225\n",
              "year             225\n",
              "dtype: int64"
            ],
            "text/html": [
              "<div>\n",
              "<style scoped>\n",
              "    .dataframe tbody tr th:only-of-type {\n",
              "        vertical-align: middle;\n",
              "    }\n",
              "\n",
              "    .dataframe tbody tr th {\n",
              "        vertical-align: top;\n",
              "    }\n",
              "\n",
              "    .dataframe thead th {\n",
              "        text-align: right;\n",
              "    }\n",
              "</style>\n",
              "<table border=\"1\" class=\"dataframe\">\n",
              "  <thead>\n",
              "    <tr style=\"text-align: right;\">\n",
              "      <th></th>\n",
              "      <th>0</th>\n",
              "    </tr>\n",
              "  </thead>\n",
              "  <tbody>\n",
              "    <tr>\n",
              "      <th>movieId</th>\n",
              "      <td>0</td>\n",
              "    </tr>\n",
              "    <tr>\n",
              "      <th>title</th>\n",
              "      <td>207</td>\n",
              "    </tr>\n",
              "    <tr>\n",
              "      <th>genres</th>\n",
              "      <td>207</td>\n",
              "    </tr>\n",
              "    <tr>\n",
              "      <th>userId</th>\n",
              "      <td>18</td>\n",
              "    </tr>\n",
              "    <tr>\n",
              "      <th>rating</th>\n",
              "      <td>225</td>\n",
              "    </tr>\n",
              "    <tr>\n",
              "      <th>timestamp_x</th>\n",
              "      <td>225</td>\n",
              "    </tr>\n",
              "    <tr>\n",
              "      <th>tag</th>\n",
              "      <td>99219</td>\n",
              "    </tr>\n",
              "    <tr>\n",
              "      <th>timestamp_y</th>\n",
              "      <td>99219</td>\n",
              "    </tr>\n",
              "    <tr>\n",
              "      <th>date</th>\n",
              "      <td>225</td>\n",
              "    </tr>\n",
              "    <tr>\n",
              "      <th>year</th>\n",
              "      <td>225</td>\n",
              "    </tr>\n",
              "  </tbody>\n",
              "</table>\n",
              "</div><br><label><b>dtype:</b> int64</label>"
            ]
          },
          "metadata": {},
          "execution_count": 26
        }
      ]
    },
    {
      "cell_type": "code",
      "source": [
        "#replace missing values\n",
        "movie_data['title'] = movie_data['title'].astype(str).fillna('')\n",
        "movie_data['tag'] = movie_data['tag'].astype(str).fillna('')\n",
        "movie_data['genres'] = movie_data['genres'].astype(str).fillna('')\n",
        "movie_data['rating'] = movie_data['rating'].fillna(movie_data['rating'].mean())\n",
        "movie_data = movie_data.dropna(subset=['userId'])"
      ],
      "metadata": {
        "id": "M8wovNIizbKn"
      },
      "execution_count": 27,
      "outputs": []
    },
    {
      "cell_type": "markdown",
      "source": [
        "## Encoding\n",
        "In this step we will encode categorical columns movieid, title, genres, userid, tag into numerical formats.\n",
        "Then we handle the multilabel column genres"
      ],
      "metadata": {
        "id": "0NyPbn5C73cq"
      }
    },
    {
      "cell_type": "markdown",
      "source": [
        "1st we handle movieid, userid.We encode them into sequential integer indices This code will transform user and movie IDs into consistent encoded IDs like 0,1,2,3,4,5"
      ],
      "metadata": {
        "id": "Y1EKrf--vw9d"
      }
    },
    {
      "cell_type": "code",
      "source": [
        "#movieid and userid\n",
        "user_encoder = LabelEncoder()\n",
        "movie_encoder = LabelEncoder()\n",
        "\n",
        "movie_data['userId_encoded'] = user_encoder.fit_transform(movie_data['userId'])\n",
        "movie_data['movieId_encoded'] = movie_encoder.fit_transform(movie_data['movieId'])"
      ],
      "metadata": {
        "id": "ExC5PxnV7Wkw"
      },
      "execution_count": 28,
      "outputs": []
    },
    {
      "cell_type": "markdown",
      "source": [
        "2nd we perform TF-IDF on the title and tag columns. This will convert text into numeric vectors that reflect how important each word is"
      ],
      "metadata": {
        "id": "dApjcQ-CcCw8"
      }
    },
    {
      "cell_type": "code",
      "source": [
        "#title and Tags\n",
        "tfidf = TfidfVectorizer(max_features=100)\n",
        "title_tfidf = tfidf.fit_transform(movie_data['title']).toarray()\n",
        "\n",
        "tag_vectorizer = TfidfVectorizer(max_features=100)\n",
        "tag_tfidf = tag_vectorizer.fit_transform(movie_data['tag'].fillna('')).toarray()\n",
        "\n"
      ],
      "metadata": {
        "id": "pcZxLVfQbFdL"
      },
      "execution_count": 29,
      "outputs": []
    },
    {
      "cell_type": "markdown",
      "source": [
        "3rd we handle the genres column which is multi-label which means one movie can belong to more than one genre, we will convert it into multi-hot encoding"
      ],
      "metadata": {
        "id": "bzWhkTj1wGbF"
      }
    },
    {
      "cell_type": "code",
      "source": [
        "#Fill NaNs and split genres\n",
        "movie_data['genres'] = movie_data['genres'].astype(str).fillna('')\n",
        "\n",
        "#Get all unique genres\n",
        "all_genres = set(g for genre_list in movie_data['genres'] for g in genre_list)\n",
        "\n",
        "#Create binary columns for each genre\n",
        "for genre in all_genres:\n",
        "    movie_data[f'genre_{genre}'] = movie_data['genres'].apply(lambda x: int(genre in x))\n"
      ],
      "metadata": {
        "id": "3vA6qltvvBdO"
      },
      "execution_count": 30,
      "outputs": []
    },
    {
      "cell_type": "markdown",
      "source": [
        "##Standardization\n",
        "We normalize the numerical column rating.\n"
      ],
      "metadata": {
        "id": "Ac8CmmkJ76q3"
      }
    },
    {
      "cell_type": "code",
      "source": [
        "scaler = MinMaxScaler()\n",
        "movie_data['rating_normalized'] = scaler.fit_transform(movie_data[['rating']])"
      ],
      "metadata": {
        "id": "5GxEgBJvunF8"
      },
      "execution_count": 31,
      "outputs": []
    },
    {
      "cell_type": "code",
      "source": [
        "movie_data.head()"
      ],
      "metadata": {
        "colab": {
          "base_uri": "https://localhost:8080/",
          "height": 429
        },
        "id": "t8mVGBGa4wdf",
        "outputId": "db9dc25f-79fe-4816-8d92-80ffc274fae5"
      },
      "execution_count": 32,
      "outputs": [
        {
          "output_type": "execute_result",
          "data": {
            "text/plain": [
              "   movieId                        title  \\\n",
              "0        1             Toy Story (1995)   \n",
              "1        3      Grumpier Old Men (1995)   \n",
              "2        6                  Heat (1995)   \n",
              "3       47  Seven (a.k.a. Se7en) (1995)   \n",
              "4       50   Usual Suspects, The (1995)   \n",
              "\n",
              "                                        genres  userId  rating  timestamp_x  \\\n",
              "0  Adventure|Animation|Children|Comedy|Fantasy     1.0     4.0  964982703.0   \n",
              "1                               Comedy|Romance     1.0     4.0  964981247.0   \n",
              "2                        Action|Crime|Thriller     1.0     4.0  964982224.0   \n",
              "3                             Mystery|Thriller     1.0     5.0  964983815.0   \n",
              "4                       Crime|Mystery|Thriller     1.0     5.0  964982931.0   \n",
              "\n",
              "   tag  timestamp_y        date    year  ...  genre_e  genre_D  genre_|  \\\n",
              "0  nan          NaN  2000-07-30  2000.0  ...        1        0        1   \n",
              "1  nan          NaN  2000-07-30  2000.0  ...        1        0        1   \n",
              "2  nan          NaN  2000-07-30  2000.0  ...        1        0        1   \n",
              "3  nan          NaN  2000-07-30  2000.0  ...        1        0        1   \n",
              "4  nan          NaN  2000-07-30  2000.0  ...        1        0        1   \n",
              "\n",
              "   genre_d  genre_M  genre_I  genre_u  genre_(  genre_v  rating_normalized  \n",
              "0        1        0        0        1        0        1           0.777778  \n",
              "1        1        0        0        0        0        0           0.777778  \n",
              "2        0        0        0        0        0        0           0.777778  \n",
              "3        0        1        0        0        0        0           1.000000  \n",
              "4        0        1        0        0        0        0           1.000000  \n",
              "\n",
              "[5 rows x 48 columns]"
            ],
            "text/html": [
              "\n",
              "  <div id=\"df-87ab6347-386c-486b-a3b2-a0c6544338a1\" class=\"colab-df-container\">\n",
              "    <div>\n",
              "<style scoped>\n",
              "    .dataframe tbody tr th:only-of-type {\n",
              "        vertical-align: middle;\n",
              "    }\n",
              "\n",
              "    .dataframe tbody tr th {\n",
              "        vertical-align: top;\n",
              "    }\n",
              "\n",
              "    .dataframe thead th {\n",
              "        text-align: right;\n",
              "    }\n",
              "</style>\n",
              "<table border=\"1\" class=\"dataframe\">\n",
              "  <thead>\n",
              "    <tr style=\"text-align: right;\">\n",
              "      <th></th>\n",
              "      <th>movieId</th>\n",
              "      <th>title</th>\n",
              "      <th>genres</th>\n",
              "      <th>userId</th>\n",
              "      <th>rating</th>\n",
              "      <th>timestamp_x</th>\n",
              "      <th>tag</th>\n",
              "      <th>timestamp_y</th>\n",
              "      <th>date</th>\n",
              "      <th>year</th>\n",
              "      <th>...</th>\n",
              "      <th>genre_e</th>\n",
              "      <th>genre_D</th>\n",
              "      <th>genre_|</th>\n",
              "      <th>genre_d</th>\n",
              "      <th>genre_M</th>\n",
              "      <th>genre_I</th>\n",
              "      <th>genre_u</th>\n",
              "      <th>genre_(</th>\n",
              "      <th>genre_v</th>\n",
              "      <th>rating_normalized</th>\n",
              "    </tr>\n",
              "  </thead>\n",
              "  <tbody>\n",
              "    <tr>\n",
              "      <th>0</th>\n",
              "      <td>1</td>\n",
              "      <td>Toy Story (1995)</td>\n",
              "      <td>Adventure|Animation|Children|Comedy|Fantasy</td>\n",
              "      <td>1.0</td>\n",
              "      <td>4.0</td>\n",
              "      <td>964982703.0</td>\n",
              "      <td>nan</td>\n",
              "      <td>NaN</td>\n",
              "      <td>2000-07-30</td>\n",
              "      <td>2000.0</td>\n",
              "      <td>...</td>\n",
              "      <td>1</td>\n",
              "      <td>0</td>\n",
              "      <td>1</td>\n",
              "      <td>1</td>\n",
              "      <td>0</td>\n",
              "      <td>0</td>\n",
              "      <td>1</td>\n",
              "      <td>0</td>\n",
              "      <td>1</td>\n",
              "      <td>0.777778</td>\n",
              "    </tr>\n",
              "    <tr>\n",
              "      <th>1</th>\n",
              "      <td>3</td>\n",
              "      <td>Grumpier Old Men (1995)</td>\n",
              "      <td>Comedy|Romance</td>\n",
              "      <td>1.0</td>\n",
              "      <td>4.0</td>\n",
              "      <td>964981247.0</td>\n",
              "      <td>nan</td>\n",
              "      <td>NaN</td>\n",
              "      <td>2000-07-30</td>\n",
              "      <td>2000.0</td>\n",
              "      <td>...</td>\n",
              "      <td>1</td>\n",
              "      <td>0</td>\n",
              "      <td>1</td>\n",
              "      <td>1</td>\n",
              "      <td>0</td>\n",
              "      <td>0</td>\n",
              "      <td>0</td>\n",
              "      <td>0</td>\n",
              "      <td>0</td>\n",
              "      <td>0.777778</td>\n",
              "    </tr>\n",
              "    <tr>\n",
              "      <th>2</th>\n",
              "      <td>6</td>\n",
              "      <td>Heat (1995)</td>\n",
              "      <td>Action|Crime|Thriller</td>\n",
              "      <td>1.0</td>\n",
              "      <td>4.0</td>\n",
              "      <td>964982224.0</td>\n",
              "      <td>nan</td>\n",
              "      <td>NaN</td>\n",
              "      <td>2000-07-30</td>\n",
              "      <td>2000.0</td>\n",
              "      <td>...</td>\n",
              "      <td>1</td>\n",
              "      <td>0</td>\n",
              "      <td>1</td>\n",
              "      <td>0</td>\n",
              "      <td>0</td>\n",
              "      <td>0</td>\n",
              "      <td>0</td>\n",
              "      <td>0</td>\n",
              "      <td>0</td>\n",
              "      <td>0.777778</td>\n",
              "    </tr>\n",
              "    <tr>\n",
              "      <th>3</th>\n",
              "      <td>47</td>\n",
              "      <td>Seven (a.k.a. Se7en) (1995)</td>\n",
              "      <td>Mystery|Thriller</td>\n",
              "      <td>1.0</td>\n",
              "      <td>5.0</td>\n",
              "      <td>964983815.0</td>\n",
              "      <td>nan</td>\n",
              "      <td>NaN</td>\n",
              "      <td>2000-07-30</td>\n",
              "      <td>2000.0</td>\n",
              "      <td>...</td>\n",
              "      <td>1</td>\n",
              "      <td>0</td>\n",
              "      <td>1</td>\n",
              "      <td>0</td>\n",
              "      <td>1</td>\n",
              "      <td>0</td>\n",
              "      <td>0</td>\n",
              "      <td>0</td>\n",
              "      <td>0</td>\n",
              "      <td>1.000000</td>\n",
              "    </tr>\n",
              "    <tr>\n",
              "      <th>4</th>\n",
              "      <td>50</td>\n",
              "      <td>Usual Suspects, The (1995)</td>\n",
              "      <td>Crime|Mystery|Thriller</td>\n",
              "      <td>1.0</td>\n",
              "      <td>5.0</td>\n",
              "      <td>964982931.0</td>\n",
              "      <td>nan</td>\n",
              "      <td>NaN</td>\n",
              "      <td>2000-07-30</td>\n",
              "      <td>2000.0</td>\n",
              "      <td>...</td>\n",
              "      <td>1</td>\n",
              "      <td>0</td>\n",
              "      <td>1</td>\n",
              "      <td>0</td>\n",
              "      <td>1</td>\n",
              "      <td>0</td>\n",
              "      <td>0</td>\n",
              "      <td>0</td>\n",
              "      <td>0</td>\n",
              "      <td>1.000000</td>\n",
              "    </tr>\n",
              "  </tbody>\n",
              "</table>\n",
              "<p>5 rows × 48 columns</p>\n",
              "</div>\n",
              "    <div class=\"colab-df-buttons\">\n",
              "\n",
              "  <div class=\"colab-df-container\">\n",
              "    <button class=\"colab-df-convert\" onclick=\"convertToInteractive('df-87ab6347-386c-486b-a3b2-a0c6544338a1')\"\n",
              "            title=\"Convert this dataframe to an interactive table.\"\n",
              "            style=\"display:none;\">\n",
              "\n",
              "  <svg xmlns=\"http://www.w3.org/2000/svg\" height=\"24px\" viewBox=\"0 -960 960 960\">\n",
              "    <path d=\"M120-120v-720h720v720H120Zm60-500h600v-160H180v160Zm220 220h160v-160H400v160Zm0 220h160v-160H400v160ZM180-400h160v-160H180v160Zm440 0h160v-160H620v160ZM180-180h160v-160H180v160Zm440 0h160v-160H620v160Z\"/>\n",
              "  </svg>\n",
              "    </button>\n",
              "\n",
              "  <style>\n",
              "    .colab-df-container {\n",
              "      display:flex;\n",
              "      gap: 12px;\n",
              "    }\n",
              "\n",
              "    .colab-df-convert {\n",
              "      background-color: #E8F0FE;\n",
              "      border: none;\n",
              "      border-radius: 50%;\n",
              "      cursor: pointer;\n",
              "      display: none;\n",
              "      fill: #1967D2;\n",
              "      height: 32px;\n",
              "      padding: 0 0 0 0;\n",
              "      width: 32px;\n",
              "    }\n",
              "\n",
              "    .colab-df-convert:hover {\n",
              "      background-color: #E2EBFA;\n",
              "      box-shadow: 0px 1px 2px rgba(60, 64, 67, 0.3), 0px 1px 3px 1px rgba(60, 64, 67, 0.15);\n",
              "      fill: #174EA6;\n",
              "    }\n",
              "\n",
              "    .colab-df-buttons div {\n",
              "      margin-bottom: 4px;\n",
              "    }\n",
              "\n",
              "    [theme=dark] .colab-df-convert {\n",
              "      background-color: #3B4455;\n",
              "      fill: #D2E3FC;\n",
              "    }\n",
              "\n",
              "    [theme=dark] .colab-df-convert:hover {\n",
              "      background-color: #434B5C;\n",
              "      box-shadow: 0px 1px 3px 1px rgba(0, 0, 0, 0.15);\n",
              "      filter: drop-shadow(0px 1px 2px rgba(0, 0, 0, 0.3));\n",
              "      fill: #FFFFFF;\n",
              "    }\n",
              "  </style>\n",
              "\n",
              "    <script>\n",
              "      const buttonEl =\n",
              "        document.querySelector('#df-87ab6347-386c-486b-a3b2-a0c6544338a1 button.colab-df-convert');\n",
              "      buttonEl.style.display =\n",
              "        google.colab.kernel.accessAllowed ? 'block' : 'none';\n",
              "\n",
              "      async function convertToInteractive(key) {\n",
              "        const element = document.querySelector('#df-87ab6347-386c-486b-a3b2-a0c6544338a1');\n",
              "        const dataTable =\n",
              "          await google.colab.kernel.invokeFunction('convertToInteractive',\n",
              "                                                    [key], {});\n",
              "        if (!dataTable) return;\n",
              "\n",
              "        const docLinkHtml = 'Like what you see? Visit the ' +\n",
              "          '<a target=\"_blank\" href=https://colab.research.google.com/notebooks/data_table.ipynb>data table notebook</a>'\n",
              "          + ' to learn more about interactive tables.';\n",
              "        element.innerHTML = '';\n",
              "        dataTable['output_type'] = 'display_data';\n",
              "        await google.colab.output.renderOutput(dataTable, element);\n",
              "        const docLink = document.createElement('div');\n",
              "        docLink.innerHTML = docLinkHtml;\n",
              "        element.appendChild(docLink);\n",
              "      }\n",
              "    </script>\n",
              "  </div>\n",
              "\n",
              "\n",
              "<div id=\"df-49d3ab02-af76-4779-8c2d-cee3bb2c370e\">\n",
              "  <button class=\"colab-df-quickchart\" onclick=\"quickchart('df-49d3ab02-af76-4779-8c2d-cee3bb2c370e')\"\n",
              "            title=\"Suggest charts\"\n",
              "            style=\"display:none;\">\n",
              "\n",
              "<svg xmlns=\"http://www.w3.org/2000/svg\" height=\"24px\"viewBox=\"0 0 24 24\"\n",
              "     width=\"24px\">\n",
              "    <g>\n",
              "        <path d=\"M19 3H5c-1.1 0-2 .9-2 2v14c0 1.1.9 2 2 2h14c1.1 0 2-.9 2-2V5c0-1.1-.9-2-2-2zM9 17H7v-7h2v7zm4 0h-2V7h2v10zm4 0h-2v-4h2v4z\"/>\n",
              "    </g>\n",
              "</svg>\n",
              "  </button>\n",
              "\n",
              "<style>\n",
              "  .colab-df-quickchart {\n",
              "      --bg-color: #E8F0FE;\n",
              "      --fill-color: #1967D2;\n",
              "      --hover-bg-color: #E2EBFA;\n",
              "      --hover-fill-color: #174EA6;\n",
              "      --disabled-fill-color: #AAA;\n",
              "      --disabled-bg-color: #DDD;\n",
              "  }\n",
              "\n",
              "  [theme=dark] .colab-df-quickchart {\n",
              "      --bg-color: #3B4455;\n",
              "      --fill-color: #D2E3FC;\n",
              "      --hover-bg-color: #434B5C;\n",
              "      --hover-fill-color: #FFFFFF;\n",
              "      --disabled-bg-color: #3B4455;\n",
              "      --disabled-fill-color: #666;\n",
              "  }\n",
              "\n",
              "  .colab-df-quickchart {\n",
              "    background-color: var(--bg-color);\n",
              "    border: none;\n",
              "    border-radius: 50%;\n",
              "    cursor: pointer;\n",
              "    display: none;\n",
              "    fill: var(--fill-color);\n",
              "    height: 32px;\n",
              "    padding: 0;\n",
              "    width: 32px;\n",
              "  }\n",
              "\n",
              "  .colab-df-quickchart:hover {\n",
              "    background-color: var(--hover-bg-color);\n",
              "    box-shadow: 0 1px 2px rgba(60, 64, 67, 0.3), 0 1px 3px 1px rgba(60, 64, 67, 0.15);\n",
              "    fill: var(--button-hover-fill-color);\n",
              "  }\n",
              "\n",
              "  .colab-df-quickchart-complete:disabled,\n",
              "  .colab-df-quickchart-complete:disabled:hover {\n",
              "    background-color: var(--disabled-bg-color);\n",
              "    fill: var(--disabled-fill-color);\n",
              "    box-shadow: none;\n",
              "  }\n",
              "\n",
              "  .colab-df-spinner {\n",
              "    border: 2px solid var(--fill-color);\n",
              "    border-color: transparent;\n",
              "    border-bottom-color: var(--fill-color);\n",
              "    animation:\n",
              "      spin 1s steps(1) infinite;\n",
              "  }\n",
              "\n",
              "  @keyframes spin {\n",
              "    0% {\n",
              "      border-color: transparent;\n",
              "      border-bottom-color: var(--fill-color);\n",
              "      border-left-color: var(--fill-color);\n",
              "    }\n",
              "    20% {\n",
              "      border-color: transparent;\n",
              "      border-left-color: var(--fill-color);\n",
              "      border-top-color: var(--fill-color);\n",
              "    }\n",
              "    30% {\n",
              "      border-color: transparent;\n",
              "      border-left-color: var(--fill-color);\n",
              "      border-top-color: var(--fill-color);\n",
              "      border-right-color: var(--fill-color);\n",
              "    }\n",
              "    40% {\n",
              "      border-color: transparent;\n",
              "      border-right-color: var(--fill-color);\n",
              "      border-top-color: var(--fill-color);\n",
              "    }\n",
              "    60% {\n",
              "      border-color: transparent;\n",
              "      border-right-color: var(--fill-color);\n",
              "    }\n",
              "    80% {\n",
              "      border-color: transparent;\n",
              "      border-right-color: var(--fill-color);\n",
              "      border-bottom-color: var(--fill-color);\n",
              "    }\n",
              "    90% {\n",
              "      border-color: transparent;\n",
              "      border-bottom-color: var(--fill-color);\n",
              "    }\n",
              "  }\n",
              "</style>\n",
              "\n",
              "  <script>\n",
              "    async function quickchart(key) {\n",
              "      const quickchartButtonEl =\n",
              "        document.querySelector('#' + key + ' button');\n",
              "      quickchartButtonEl.disabled = true;  // To prevent multiple clicks.\n",
              "      quickchartButtonEl.classList.add('colab-df-spinner');\n",
              "      try {\n",
              "        const charts = await google.colab.kernel.invokeFunction(\n",
              "            'suggestCharts', [key], {});\n",
              "      } catch (error) {\n",
              "        console.error('Error during call to suggestCharts:', error);\n",
              "      }\n",
              "      quickchartButtonEl.classList.remove('colab-df-spinner');\n",
              "      quickchartButtonEl.classList.add('colab-df-quickchart-complete');\n",
              "    }\n",
              "    (() => {\n",
              "      let quickchartButtonEl =\n",
              "        document.querySelector('#df-49d3ab02-af76-4779-8c2d-cee3bb2c370e button');\n",
              "      quickchartButtonEl.style.display =\n",
              "        google.colab.kernel.accessAllowed ? 'block' : 'none';\n",
              "    })();\n",
              "  </script>\n",
              "</div>\n",
              "\n",
              "    </div>\n",
              "  </div>\n"
            ],
            "application/vnd.google.colaboratory.intrinsic+json": {
              "type": "dataframe",
              "variable_name": "movie_data"
            }
          },
          "metadata": {},
          "execution_count": 32
        }
      ]
    },
    {
      "cell_type": "markdown",
      "source": [
        "# Modeling"
      ],
      "metadata": {
        "id": "4n6slz36pytk"
      }
    },
    {
      "cell_type": "markdown",
      "source": [
        "## A. Collaborative Filtering( Matrix Factorization)"
      ],
      "metadata": {
        "id": "CFCjYMUzqSLi"
      }
    },
    {
      "cell_type": "markdown",
      "source": [
        "## B. Content-Based Filtering (TF-IDF + Cosine Similarity)"
      ],
      "metadata": {
        "id": "GrcThNvIqdwk"
      }
    },
    {
      "cell_type": "markdown",
      "source": [
        "#Evaluation"
      ],
      "metadata": {
        "id": "BB6-CJWZqk7r"
      }
    },
    {
      "cell_type": "markdown",
      "source": [
        "##A. Collaborative Filtering (RMSE)"
      ],
      "metadata": {
        "id": "rJhddsknqqjs"
      }
    },
    {
      "cell_type": "markdown",
      "source": [
        "##B. Content-Based (Precision@K)"
      ],
      "metadata": {
        "id": "AqVH67KIqyJb"
      }
    },
    {
      "cell_type": "markdown",
      "source": [
        "#Deployment"
      ],
      "metadata": {
        "id": "a-p7tbaSq2Er"
      }
    }
  ]
}