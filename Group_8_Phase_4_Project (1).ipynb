{
 "cells": [
  {
   "cell_type": "markdown",
   "metadata": {
    "id": "nvtuTfHnBGdS"
   },
   "source": [
    "#1.**Introduction**"
   ]
  },
  {
   "cell_type": "markdown",
   "metadata": {
    "id": "Pk0QGGgWGQBx"
   },
   "source": [
    "This project aims to develop a movie recommendation system. The system will utilize machine learning techniques to provide personalized movie suggestions based on user ratings and tags. The dataset used for this project is the MovieLens dataset, which contains ratings, tags, movie metadata and links."
   ]
  },
  {
   "cell_type": "markdown",
   "metadata": {
    "id": "oatBsKKpnqrm"
   },
   "source": [
    "#2.**Business** **Understanding**"
   ]
  },
  {
   "cell_type": "markdown",
   "metadata": {
    "id": "nQgLgT-9oX-7"
   },
   "source": [
    "##Objectives"
   ]
  },
  {
   "cell_type": "markdown",
   "metadata": {
    "id": "VjHzrEe5rRCr"
   },
   "source": [
    "\n",
    "1)   Personalised movie recommendations based on users history\n",
    "\n",
    "2)   Investigate how the system performs for new users and new movies (analysis of the cold start problem)\n",
    "\n",
    "3)   Build a deep learning based model that learns from user ratings and movie features to improve recommendation accuracy\n",
    "\n",
    "4)   Optimize recommendation algorithms\n",
    "\n",
    "5)   A dashboard to explore recommendations and engagement insights.\n",
    "\n",
    "\n",
    "\n",
    "\n"
   ]
  },
  {
   "cell_type": "markdown",
   "metadata": {
    "id": "On4RQOH3n5kk"
   },
   "source": [
    "#3.**Data Undestanding**"
   ]
  },
  {
   "cell_type": "markdown",
   "metadata": {
    "id": "hKpu_xk4oxLL"
   },
   "source": [
    "##Libraries"
   ]
  },
  {
   "cell_type": "code",
   "execution_count": 96,
   "metadata": {
    "id": "8nAskryvkPO-"
   },
   "outputs": [],
   "source": [
    "# Import neccesary Libraries.\n",
    "import numpy as np\n",
    "import pandas as pd\n",
    "import matplotlib.pyplot as plt\n",
    "import seaborn as sns\n",
    "sns.set(style='darkgrid')\n",
    "import warnings\n",
    "warnings.filterwarnings('ignore')\n",
    "\n",
    "from sklearn.preprocessing import LabelEncoder\n",
    "from sklearn.feature_extraction.text import TfidfVectorizer\n",
    "from sklearn.preprocessing import MinMaxScaler\n",
    "from sklearn.preprocessing import MultiLabelBinarizer\n",
    "\n",
    "# pip install scikit-surprise\n",
    "# conda install -c conda-forge scikit-surprise\n",
    "\n",
    "from surprise import Dataset, Reader\n",
    "from surprise.model_selection import cross_validate\n",
    "from surprise import accuracy\n",
    "from surprise import KNNBasic\n",
    "from surprise import SVD\n",
    "from surprise.model_selection import train_test_split\n",
    "\n"
   ]
  },
  {
   "cell_type": "markdown",
   "metadata": {
    "id": "PEQKnXxIos9r"
   },
   "source": [
    "##Import Datasets"
   ]
  },
  {
   "cell_type": "code",
   "execution_count": 97,
   "metadata": {
    "colab": {
     "base_uri": "https://localhost:8080/"
    },
    "id": "n_IvFpKcrr8M",
    "outputId": "e4ce622b-f9fc-47f3-c2bc-bbfd2f8a6d27"
   },
   "outputs": [
    {
     "name": "stdout",
     "output_type": "stream",
     "text": [
      "Movies: (9742, 3)\n",
      "Ratings: (100836, 4)\n",
      "Tags: (3683, 4)\n"
     ]
    }
   ],
   "source": [
    "# Load data\n",
    "movies = pd.read_csv('movies.csv')\n",
    "ratings = pd.read_csv('ratings.csv')\n",
    "tags = pd.read_csv('tags.csv')\n",
    "print(f\"Movies: {movies.shape}\")\n",
    "print(f\"Ratings: {ratings.shape}\")\n",
    "print(f\"Tags: {tags.shape}\")"
   ]
  },
  {
   "cell_type": "code",
   "execution_count": 98,
   "metadata": {
    "colab": {
     "base_uri": "https://localhost:8080/"
    },
    "id": "UK-lrQW6Eigq",
    "outputId": "0dbf672e-6109-410c-9b87-9e5d1de5e789"
   },
   "outputs": [
    {
     "name": "stdout",
     "output_type": "stream",
     "text": [
      "   movieId                               title  \\\n",
      "0        1                    Toy Story (1995)   \n",
      "1        2                      Jumanji (1995)   \n",
      "2        3             Grumpier Old Men (1995)   \n",
      "3        4            Waiting to Exhale (1995)   \n",
      "4        5  Father of the Bride Part II (1995)   \n",
      "\n",
      "                                        genres  \n",
      "0  Adventure|Animation|Children|Comedy|Fantasy  \n",
      "1                   Adventure|Children|Fantasy  \n",
      "2                               Comedy|Romance  \n",
      "3                         Comedy|Drama|Romance  \n",
      "4                                       Comedy  \n"
     ]
    }
   ],
   "source": [
    "print(movies.head())"
   ]
  },
  {
   "cell_type": "code",
   "execution_count": 99,
   "metadata": {
    "colab": {
     "base_uri": "https://localhost:8080/"
    },
    "id": "cdTWFGBREqwu",
    "outputId": "b5c760cf-89b3-4f30-9916-d9f3d1c432a4"
   },
   "outputs": [
    {
     "name": "stdout",
     "output_type": "stream",
     "text": [
      "   userId  movieId  rating  timestamp\n",
      "0       1        1     4.0  964982703\n",
      "1       1        3     4.0  964981247\n",
      "2       1        6     4.0  964982224\n",
      "3       1       47     5.0  964983815\n",
      "4       1       50     5.0  964982931\n"
     ]
    }
   ],
   "source": [
    "print(ratings.head())"
   ]
  },
  {
   "cell_type": "code",
   "execution_count": 100,
   "metadata": {
    "colab": {
     "base_uri": "https://localhost:8080/"
    },
    "id": "qGeZnSp9EurW",
    "outputId": "bebeaea5-b43d-44cd-ba16-64b57956a0e6"
   },
   "outputs": [
    {
     "name": "stdout",
     "output_type": "stream",
     "text": [
      "   userId  movieId              tag   timestamp\n",
      "0       2    60756            funny  1445714994\n",
      "1       2    60756  Highly quotable  1445714996\n",
      "2       2    60756     will ferrell  1445714992\n",
      "3       2    89774     Boxing story  1445715207\n",
      "4       2    89774              MMA  1445715200\n"
     ]
    }
   ],
   "source": [
    "print(tags.head())"
   ]
  },
  {
   "cell_type": "code",
   "execution_count": 101,
   "metadata": {
    "colab": {
     "base_uri": "https://localhost:8080/"
    },
    "id": "T9Y8ToDFE22-",
    "outputId": "8e9dba79-a650-488c-e23a-70266544f88c"
   },
   "outputs": [
    {
     "name": "stdout",
     "output_type": "stream",
     "text": [
      "<class 'pandas.core.frame.DataFrame'>\n",
      "RangeIndex: 9742 entries, 0 to 9741\n",
      "Data columns (total 3 columns):\n",
      " #   Column   Non-Null Count  Dtype \n",
      "---  ------   --------------  ----- \n",
      " 0   movieId  9742 non-null   int64 \n",
      " 1   title    9742 non-null   object\n",
      " 2   genres   9742 non-null   object\n",
      "dtypes: int64(1), object(2)\n",
      "memory usage: 228.5+ KB\n",
      "None\n"
     ]
    }
   ],
   "source": [
    "print(movies.info())"
   ]
  },
  {
   "cell_type": "code",
   "execution_count": 102,
   "metadata": {
    "colab": {
     "base_uri": "https://localhost:8080/"
    },
    "id": "izf3k0ZlE_cO",
    "outputId": "693ee814-b33b-4206-c864-388a75344595"
   },
   "outputs": [
    {
     "name": "stdout",
     "output_type": "stream",
     "text": [
      "<class 'pandas.core.frame.DataFrame'>\n",
      "RangeIndex: 100836 entries, 0 to 100835\n",
      "Data columns (total 4 columns):\n",
      " #   Column     Non-Null Count   Dtype  \n",
      "---  ------     --------------   -----  \n",
      " 0   userId     100836 non-null  int64  \n",
      " 1   movieId    100836 non-null  int64  \n",
      " 2   rating     100836 non-null  float64\n",
      " 3   timestamp  100836 non-null  int64  \n",
      "dtypes: float64(1), int64(3)\n",
      "memory usage: 3.1 MB\n",
      "None\n"
     ]
    }
   ],
   "source": [
    "print(ratings.info())"
   ]
  },
  {
   "cell_type": "code",
   "execution_count": 103,
   "metadata": {
    "colab": {
     "base_uri": "https://localhost:8080/"
    },
    "id": "QIqUUY2nFA4G",
    "outputId": "d7bf442a-c0e8-43f1-a8ee-511ef146a7f0"
   },
   "outputs": [
    {
     "name": "stdout",
     "output_type": "stream",
     "text": [
      "<class 'pandas.core.frame.DataFrame'>\n",
      "RangeIndex: 3683 entries, 0 to 3682\n",
      "Data columns (total 4 columns):\n",
      " #   Column     Non-Null Count  Dtype \n",
      "---  ------     --------------  ----- \n",
      " 0   userId     3683 non-null   int64 \n",
      " 1   movieId    3683 non-null   int64 \n",
      " 2   tag        3683 non-null   object\n",
      " 3   timestamp  3683 non-null   int64 \n",
      "dtypes: int64(3), object(1)\n",
      "memory usage: 115.2+ KB\n",
      "None\n"
     ]
    }
   ],
   "source": [
    "print(tags.info())"
   ]
  },
  {
   "cell_type": "markdown",
   "metadata": {
    "id": "4CxaruVupQhr"
   },
   "source": [
    "#4.**Data Cleaning**"
   ]
  },
  {
   "cell_type": "markdown",
   "metadata": {
    "id": "ArL85y_WpbUr"
   },
   "source": [
    "##Correct Formats"
   ]
  },
  {
   "cell_type": "code",
   "execution_count": 104,
   "metadata": {
    "colab": {
     "base_uri": "https://localhost:8080/"
    },
    "id": "diMHaBIlt4SN",
    "outputId": "bd5c1ece-d41d-4c21-df87-d8816ad2133c"
   },
   "outputs": [
    {
     "name": "stdout",
     "output_type": "stream",
     "text": [
      "<class 'pandas.core.frame.DataFrame'>\n",
      "RangeIndex: 9742 entries, 0 to 9741\n",
      "Data columns (total 3 columns):\n",
      " #   Column   Non-Null Count  Dtype \n",
      "---  ------   --------------  ----- \n",
      " 0   movieId  9742 non-null   int64 \n",
      " 1   title    9742 non-null   object\n",
      " 2   genres   9742 non-null   object\n",
      "dtypes: int64(1), object(2)\n",
      "memory usage: 228.5+ KB\n",
      "None\n"
     ]
    }
   ],
   "source": [
    "# Confirming the format of individual columns\n",
    "print(movies.info())"
   ]
  },
  {
   "cell_type": "markdown",
   "metadata": {
    "id": "3ZSgDqhCpg8U"
   },
   "source": [
    "##Confirming Mising values"
   ]
  },
  {
   "cell_type": "code",
   "execution_count": 105,
   "metadata": {
    "colab": {
     "base_uri": "https://localhost:8080/"
    },
    "id": "k9cMv2jbuL4l",
    "outputId": "f5141750-e4bd-490e-c887-a340c89edf26"
   },
   "outputs": [
    {
     "name": "stdout",
     "output_type": "stream",
     "text": [
      "movieId    0\n",
      "title      0\n",
      "genres     0\n",
      "dtype: int64\n",
      "userId       0\n",
      "movieId      0\n",
      "rating       0\n",
      "timestamp    0\n",
      "dtype: int64\n",
      "userId       0\n",
      "movieId      0\n",
      "tag          0\n",
      "timestamp    0\n",
      "dtype: int64\n"
     ]
    }
   ],
   "source": [
    "#Confirming whether there are missing values\n",
    "print(movies.isnull().sum())\n",
    "print(ratings.isnull().sum())\n",
    "print(tags.isnull().sum())"
   ]
  },
  {
   "cell_type": "markdown",
   "metadata": {
    "id": "NfJ-OeYvpUMz"
   },
   "source": [
    "##Merging the datasets"
   ]
  },
  {
   "cell_type": "code",
   "execution_count": 106,
   "metadata": {
    "colab": {
     "base_uri": "https://localhost:8080/"
    },
    "id": "z-qhk0SgFn8W",
    "outputId": "05ae657b-3776-4a86-abdf-9316feb86f6d"
   },
   "outputs": [
    {
     "name": "stdout",
     "output_type": "stream",
     "text": [
      "   movieId             title                                       genres  \\\n",
      "0        1  Toy Story (1995)  Adventure|Animation|Children|Comedy|Fantasy   \n",
      "1        1  Toy Story (1995)  Adventure|Animation|Children|Comedy|Fantasy   \n",
      "2        1  Toy Story (1995)  Adventure|Animation|Children|Comedy|Fantasy   \n",
      "3        1  Toy Story (1995)  Adventure|Animation|Children|Comedy|Fantasy   \n",
      "4        1  Toy Story (1995)  Adventure|Animation|Children|Comedy|Fantasy   \n",
      "\n",
      "   userId  rating   timestamp_x  tag  timestamp_y  \n",
      "0     1.0     4.0  9.649827e+08  NaN          NaN  \n",
      "1     5.0     4.0  8.474350e+08  NaN          NaN  \n",
      "2     7.0     4.5  1.106636e+09  NaN          NaN  \n",
      "3    15.0     2.5  1.510578e+09  NaN          NaN  \n",
      "4    17.0     4.5  1.305696e+09  NaN          NaN  \n"
     ]
    }
   ],
   "source": [
    "# Merging the datasets into a common dataset\n",
    "movie_data = pd.merge(movies, ratings, on='movieId', how='outer')\n",
    "movie_data = pd.merge(movie_data, tags, on=['userId', 'movieId'], how='outer')\n",
    "print(movie_data.head())"
   ]
  },
  {
   "cell_type": "markdown",
   "metadata": {
    "id": "F9_bUXU-gu1C"
   },
   "source": [
    "## Checking Duplicates"
   ]
  },
  {
   "cell_type": "code",
   "execution_count": 107,
   "metadata": {
    "colab": {
     "base_uri": "https://localhost:8080/"
    },
    "id": "E_8xXfOTgtxU",
    "outputId": "8980f8a4-0e0c-4575-e771-09a4d96c9e01"
   },
   "outputs": [
    {
     "data": {
      "text/plain": [
       "0"
      ]
     },
     "execution_count": 107,
     "metadata": {},
     "output_type": "execute_result"
    }
   ],
   "source": [
    "#Checking for duplicates in the movies_data.\n",
    "#There were no duplicates in the dataset\n",
    "movie_data.duplicated().sum()"
   ]
  },
  {
   "cell_type": "markdown",
   "metadata": {
    "id": "c50ANE43pDXb"
   },
   "source": [
    "##Exploratory Data Analysis(EDA)"
   ]
  },
  {
   "cell_type": "code",
   "execution_count": 108,
   "metadata": {
    "colab": {
     "base_uri": "https://localhost:8080/"
    },
    "id": "Wsbc1dK-GATz",
    "outputId": "f5dd5212-4838-4660-fa01-5d350809542f"
   },
   "outputs": [
    {
     "name": "stdout",
     "output_type": "stream",
     "text": [
      "(102902, 8)\n"
     ]
    }
   ],
   "source": [
    "print(movie_data.shape)"
   ]
  },
  {
   "cell_type": "code",
   "execution_count": 109,
   "metadata": {
    "colab": {
     "base_uri": "https://localhost:8080/",
     "height": 206
    },
    "id": "lE6Nptnz3sfs",
    "outputId": "b9f02a2b-af42-41e7-c506-118e37d8e889"
   },
   "outputs": [
    {
     "data": {
      "text/html": [
       "<div>\n",
       "<style scoped>\n",
       "    .dataframe tbody tr th:only-of-type {\n",
       "        vertical-align: middle;\n",
       "    }\n",
       "\n",
       "    .dataframe tbody tr th {\n",
       "        vertical-align: top;\n",
       "    }\n",
       "\n",
       "    .dataframe thead th {\n",
       "        text-align: right;\n",
       "    }\n",
       "</style>\n",
       "<table border=\"1\" class=\"dataframe\">\n",
       "  <thead>\n",
       "    <tr style=\"text-align: right;\">\n",
       "      <th></th>\n",
       "      <th>movieId</th>\n",
       "      <th>title</th>\n",
       "      <th>genres</th>\n",
       "      <th>userId</th>\n",
       "      <th>rating</th>\n",
       "      <th>timestamp_x</th>\n",
       "      <th>tag</th>\n",
       "      <th>timestamp_y</th>\n",
       "      <th>date</th>\n",
       "      <th>year</th>\n",
       "    </tr>\n",
       "  </thead>\n",
       "  <tbody>\n",
       "    <tr>\n",
       "      <th>0</th>\n",
       "      <td>1</td>\n",
       "      <td>Toy Story (1995)</td>\n",
       "      <td>Adventure|Animation|Children|Comedy|Fantasy</td>\n",
       "      <td>1.0</td>\n",
       "      <td>4.0</td>\n",
       "      <td>9.649827e+08</td>\n",
       "      <td>NaN</td>\n",
       "      <td>NaN</td>\n",
       "      <td>2000-07-30</td>\n",
       "      <td>2000.0</td>\n",
       "    </tr>\n",
       "    <tr>\n",
       "      <th>1</th>\n",
       "      <td>1</td>\n",
       "      <td>Toy Story (1995)</td>\n",
       "      <td>Adventure|Animation|Children|Comedy|Fantasy</td>\n",
       "      <td>5.0</td>\n",
       "      <td>4.0</td>\n",
       "      <td>8.474350e+08</td>\n",
       "      <td>NaN</td>\n",
       "      <td>NaN</td>\n",
       "      <td>1996-11-08</td>\n",
       "      <td>1996.0</td>\n",
       "    </tr>\n",
       "    <tr>\n",
       "      <th>2</th>\n",
       "      <td>1</td>\n",
       "      <td>Toy Story (1995)</td>\n",
       "      <td>Adventure|Animation|Children|Comedy|Fantasy</td>\n",
       "      <td>7.0</td>\n",
       "      <td>4.5</td>\n",
       "      <td>1.106636e+09</td>\n",
       "      <td>NaN</td>\n",
       "      <td>NaN</td>\n",
       "      <td>2005-01-25</td>\n",
       "      <td>2005.0</td>\n",
       "    </tr>\n",
       "    <tr>\n",
       "      <th>3</th>\n",
       "      <td>1</td>\n",
       "      <td>Toy Story (1995)</td>\n",
       "      <td>Adventure|Animation|Children|Comedy|Fantasy</td>\n",
       "      <td>15.0</td>\n",
       "      <td>2.5</td>\n",
       "      <td>1.510578e+09</td>\n",
       "      <td>NaN</td>\n",
       "      <td>NaN</td>\n",
       "      <td>2017-11-13</td>\n",
       "      <td>2017.0</td>\n",
       "    </tr>\n",
       "    <tr>\n",
       "      <th>4</th>\n",
       "      <td>1</td>\n",
       "      <td>Toy Story (1995)</td>\n",
       "      <td>Adventure|Animation|Children|Comedy|Fantasy</td>\n",
       "      <td>17.0</td>\n",
       "      <td>4.5</td>\n",
       "      <td>1.305696e+09</td>\n",
       "      <td>NaN</td>\n",
       "      <td>NaN</td>\n",
       "      <td>2011-05-18</td>\n",
       "      <td>2011.0</td>\n",
       "    </tr>\n",
       "  </tbody>\n",
       "</table>\n",
       "</div>"
      ],
      "text/plain": [
       "   movieId             title                                       genres  \\\n",
       "0        1  Toy Story (1995)  Adventure|Animation|Children|Comedy|Fantasy   \n",
       "1        1  Toy Story (1995)  Adventure|Animation|Children|Comedy|Fantasy   \n",
       "2        1  Toy Story (1995)  Adventure|Animation|Children|Comedy|Fantasy   \n",
       "3        1  Toy Story (1995)  Adventure|Animation|Children|Comedy|Fantasy   \n",
       "4        1  Toy Story (1995)  Adventure|Animation|Children|Comedy|Fantasy   \n",
       "\n",
       "   userId  rating   timestamp_x  tag  timestamp_y        date    year  \n",
       "0     1.0     4.0  9.649827e+08  NaN          NaN  2000-07-30  2000.0  \n",
       "1     5.0     4.0  8.474350e+08  NaN          NaN  1996-11-08  1996.0  \n",
       "2     7.0     4.5  1.106636e+09  NaN          NaN  2005-01-25  2005.0  \n",
       "3    15.0     2.5  1.510578e+09  NaN          NaN  2017-11-13  2017.0  \n",
       "4    17.0     4.5  1.305696e+09  NaN          NaN  2011-05-18  2011.0  "
      ]
     },
     "execution_count": 109,
     "metadata": {},
     "output_type": "execute_result"
    }
   ],
   "source": [
    "#Separate the timestamp column into date and year\n",
    "movie_data['date'] = pd.to_datetime(movie_data['timestamp_x'], unit='s').dt.date\n",
    "movie_data['year'] = pd.to_datetime(movie_data['timestamp_x'], unit='s').dt.year\n",
    "movie_data.head()"
   ]
  },
  {
   "cell_type": "code",
   "execution_count": 110,
   "metadata": {
    "colab": {
     "base_uri": "https://localhost:8080/"
    },
    "id": "2t3Wfb61GINH",
    "outputId": "2041cdf1-8453-4951-eac0-41942b2b2806"
   },
   "outputs": [
    {
     "name": "stdout",
     "output_type": "stream",
     "text": [
      "<class 'pandas.core.frame.DataFrame'>\n",
      "Int64Index: 102902 entries, 0 to 102901\n",
      "Data columns (total 10 columns):\n",
      " #   Column       Non-Null Count   Dtype  \n",
      "---  ------       --------------   -----  \n",
      " 0   movieId      102902 non-null  int64  \n",
      " 1   title        102695 non-null  object \n",
      " 2   genres       102695 non-null  object \n",
      " 3   userId       102884 non-null  float64\n",
      " 4   rating       102677 non-null  float64\n",
      " 5   timestamp_x  102677 non-null  float64\n",
      " 6   tag          3683 non-null    object \n",
      " 7   timestamp_y  3683 non-null    float64\n",
      " 8   date         102677 non-null  object \n",
      " 9   year         102677 non-null  float64\n",
      "dtypes: float64(5), int64(1), object(4)\n",
      "memory usage: 8.6+ MB\n",
      "None\n"
     ]
    }
   ],
   "source": [
    "print(movie_data.info())"
   ]
  },
  {
   "cell_type": "code",
   "execution_count": 111,
   "metadata": {
    "colab": {
     "base_uri": "https://localhost:8080/"
    },
    "id": "aUAtHiAsGJzv",
    "outputId": "129b38d9-32fd-48d8-8830-c6c4acb2f0e4"
   },
   "outputs": [
    {
     "name": "stdout",
     "output_type": "stream",
     "text": [
      "             movieId         userId         rating   timestamp_x  \\\n",
      "count  102902.000000  102884.000000  102677.000000  1.026770e+05   \n",
      "mean    19731.937844     328.016028       3.514813  1.209495e+09   \n",
      "std     35868.440724     183.158345       1.043133  2.170117e+08   \n",
      "min         1.000000       1.000000       0.500000  8.281246e+08   \n",
      "25%      1199.000000     177.000000       3.000000  1.019138e+09   \n",
      "50%      3006.000000     330.000000       3.500000  1.186590e+09   \n",
      "75%      8364.000000     477.000000       4.000000  1.439916e+09   \n",
      "max    193609.000000     610.000000       5.000000  1.537799e+09   \n",
      "\n",
      "        timestamp_y           year  \n",
      "count  3.683000e+03  102677.000000  \n",
      "mean   1.320032e+09    2007.837461  \n",
      "std    1.721025e+08       6.915344  \n",
      "min    1.137179e+09    1996.000000  \n",
      "25%    1.137521e+09    2002.000000  \n",
      "50%    1.269833e+09    2007.000000  \n",
      "75%    1.498457e+09    2015.000000  \n",
      "max    1.537099e+09    2018.000000  \n"
     ]
    }
   ],
   "source": [
    "print(movie_data.describe())"
   ]
  },
  {
   "cell_type": "code",
   "execution_count": 112,
   "metadata": {
    "colab": {
     "base_uri": "https://localhost:8080/"
    },
    "id": "_zxYpYlyGN7J",
    "outputId": "d3fc6b4f-5547-44e7-82c2-64e05d92febd"
   },
   "outputs": [
    {
     "name": "stdout",
     "output_type": "stream",
     "text": [
      "Unique values in column 'movieId': 9742\n",
      "Unique values in column 'title': 9737\n",
      "Unique values in column 'genres': 951\n",
      "Unique values in column 'userId': 610\n",
      "Unique values in column 'rating': 10\n",
      "Unique values in column 'timestamp_x': 85043\n",
      "Unique values in column 'tag': 1589\n",
      "Unique values in column 'timestamp_y': 3411\n",
      "Unique values in column 'date': 4110\n",
      "Unique values in column 'year': 23\n"
     ]
    }
   ],
   "source": [
    "# Checking for unique values in the dataset\n",
    "for col in movie_data.columns:\n",
    "    print(f\"Unique values in column '{col}': {movie_data[col].nunique()}\")"
   ]
  },
  {
   "cell_type": "code",
   "execution_count": 113,
   "metadata": {
    "colab": {
     "base_uri": "https://localhost:8080/",
     "height": 398
    },
    "id": "xlxRwyuHGZbh",
    "outputId": "c1bfd88c-f2b9-4d17-9b76-d841e36fd96f"
   },
   "outputs": [
    {
     "data": {
      "text/plain": [
       "movieId            0\n",
       "title            207\n",
       "genres           207\n",
       "userId            18\n",
       "rating           225\n",
       "timestamp_x      225\n",
       "tag            99219\n",
       "timestamp_y    99219\n",
       "date             225\n",
       "year             225\n",
       "dtype: int64"
      ]
     },
     "execution_count": 113,
     "metadata": {},
     "output_type": "execute_result"
    }
   ],
   "source": [
    "movie_data.isnull().sum()"
   ]
  },
  {
   "cell_type": "code",
   "execution_count": 114,
   "metadata": {
    "colab": {
     "base_uri": "https://localhost:8080/",
     "height": 496
    },
    "id": "SOThbYC6LIIc",
    "outputId": "9975ed59-6a4a-44d2-fcaf-b196c224ece6"
   },
   "outputs": [
    {
     "data": {
      "image/png": "[encoded data removed]",
      "text/plain": [
       "<Figure size 576x360 with 1 Axes>"
      ]
     },
     "metadata": {},
     "output_type": "display_data"
    }
   ],
   "source": [
    "#Rating distribution\n",
    "plt.figure(figsize=(8,5))\n",
    "sns.countplot(data=ratings, x='rating', palette='viridis')\n",
    "plt.title('rating distribution')\n",
    "plt.xlabel('rating')\n",
    "plt.ylabel('count')\n",
    "plt.show()"
   ]
  },
  {
   "cell_type": "code",
   "execution_count": 115,
   "metadata": {
    "colab": {
     "base_uri": "https://localhost:8080/",
     "height": 398
    },
    "id": "zuxfCXfQGq0_",
    "outputId": "98b46003-b0d5-47e3-bbb3-d31f08e1c00f"
   },
   "outputs": [
    {
     "name": "stdout",
     "output_type": "stream",
     "text": [
      "\n",
      "Top Rated Movies (min 100 ratings):\n"
     ]
    },
    {
     "data": {
      "text/html": [
       "<div>\n",
       "<style scoped>\n",
       "    .dataframe tbody tr th:only-of-type {\n",
       "        vertical-align: middle;\n",
       "    }\n",
       "\n",
       "    .dataframe tbody tr th {\n",
       "        vertical-align: top;\n",
       "    }\n",
       "\n",
       "    .dataframe thead th {\n",
       "        text-align: right;\n",
       "    }\n",
       "</style>\n",
       "<table border=\"1\" class=\"dataframe\">\n",
       "  <thead>\n",
       "    <tr style=\"text-align: right;\">\n",
       "      <th></th>\n",
       "      <th>title</th>\n",
       "      <th>avg_rating</th>\n",
       "      <th>num_ratings</th>\n",
       "    </tr>\n",
       "  </thead>\n",
       "  <tbody>\n",
       "    <tr>\n",
       "      <th>277</th>\n",
       "      <td>Shawshank Redemption, The (1994)</td>\n",
       "      <td>4.429022</td>\n",
       "      <td>317</td>\n",
       "    </tr>\n",
       "    <tr>\n",
       "      <th>659</th>\n",
       "      <td>Godfather, The (1972)</td>\n",
       "      <td>4.289062</td>\n",
       "      <td>192</td>\n",
       "    </tr>\n",
       "    <tr>\n",
       "      <th>2224</th>\n",
       "      <td>Fight Club (1999)</td>\n",
       "      <td>4.272936</td>\n",
       "      <td>218</td>\n",
       "    </tr>\n",
       "    <tr>\n",
       "      <th>921</th>\n",
       "      <td>Godfather: Part II, The (1974)</td>\n",
       "      <td>4.259690</td>\n",
       "      <td>129</td>\n",
       "    </tr>\n",
       "    <tr>\n",
       "      <th>6298</th>\n",
       "      <td>Departed, The (2006)</td>\n",
       "      <td>4.252336</td>\n",
       "      <td>107</td>\n",
       "    </tr>\n",
       "    <tr>\n",
       "      <th>913</th>\n",
       "      <td>Goodfellas (1990)</td>\n",
       "      <td>4.250000</td>\n",
       "      <td>126</td>\n",
       "    </tr>\n",
       "    <tr>\n",
       "      <th>694</th>\n",
       "      <td>Casablanca (1942)</td>\n",
       "      <td>4.240000</td>\n",
       "      <td>100</td>\n",
       "    </tr>\n",
       "    <tr>\n",
       "      <th>6693</th>\n",
       "      <td>Dark Knight, The (2008)</td>\n",
       "      <td>4.238255</td>\n",
       "      <td>149</td>\n",
       "    </tr>\n",
       "    <tr>\n",
       "      <th>46</th>\n",
       "      <td>Usual Suspects, The (1995)</td>\n",
       "      <td>4.237745</td>\n",
       "      <td>204</td>\n",
       "    </tr>\n",
       "    <tr>\n",
       "      <th>898</th>\n",
       "      <td>Princess Bride, The (1987)</td>\n",
       "      <td>4.232394</td>\n",
       "      <td>142</td>\n",
       "    </tr>\n",
       "  </tbody>\n",
       "</table>\n",
       "</div>"
      ],
      "text/plain": [
       "                                 title  avg_rating  num_ratings\n",
       "277   Shawshank Redemption, The (1994)    4.429022          317\n",
       "659              Godfather, The (1972)    4.289062          192\n",
       "2224                 Fight Club (1999)    4.272936          218\n",
       "921     Godfather: Part II, The (1974)    4.259690          129\n",
       "6298              Departed, The (2006)    4.252336          107\n",
       "913                  Goodfellas (1990)    4.250000          126\n",
       "694                  Casablanca (1942)    4.240000          100\n",
       "6693           Dark Knight, The (2008)    4.238255          149\n",
       "46          Usual Suspects, The (1995)    4.237745          204\n",
       "898         Princess Bride, The (1987)    4.232394          142"
      ]
     },
     "metadata": {},
     "output_type": "display_data"
    }
   ],
   "source": [
    "# Average Rating per Movie\n",
    "movie_stats = ratings.groupby('movieId').agg(avg_rating=('rating', 'mean'),\n",
    "                                              num_ratings=('rating', 'count')).reset_index()\n",
    "\n",
    "# Merge with movies\n",
    "movie_stats = movie_stats.merge(movies, on='movieId')\n",
    "\n",
    "# Filter movies with at least 100 ratings\n",
    "top_rated = movie_stats[movie_stats['num_ratings'] >= 100]\n",
    "top_rated = top_rated.sort_values('avg_rating', ascending=False).head(10)\n",
    "\n",
    "print(\"\\nTop Rated Movies (min 100 ratings):\")\n",
    "display(top_rated[['title', 'avg_rating', 'num_ratings']])"
   ]
  },
  {
   "cell_type": "code",
   "execution_count": 116,
   "metadata": {
    "colab": {
     "base_uri": "https://localhost:8080/"
    },
    "id": "eQEJntuOGvbf",
    "outputId": "41953f43-75cd-4ec0-e0c5-b3d9434299d5"
   },
   "outputs": [
    {
     "data": {
      "image/png": "[encoded data removed]",
      "text/plain": [
       "<Figure size 720x576 with 2 Axes>"
      ]
     },
     "metadata": {},
     "output_type": "display_data"
    }
   ],
   "source": [
    "# Heatmap of Correlation Matrix (if numerical columns exist)\n",
    "numerical_cols = movie_data.select_dtypes(include=np.number).columns\n",
    "plt.figure(figsize=(10, 8))\n",
    "sns.heatmap(movie_data[numerical_cols].corr(), annot=True, cmap='viridis', fmt=\".2f\")\n",
    "plt.title('Correlation Matrix of Numerical Features')\n",
    "plt.show()"
   ]
  },
  {
   "cell_type": "code",
   "execution_count": 117,
   "metadata": {
    "colab": {
     "base_uri": "https://localhost:8080/"
    },
    "id": "-9nV_3XJNrhg",
    "outputId": "3e485f10-b24c-4143-d057-6e2bcfeaa771"
   },
   "outputs": [
    {
     "data": {
      "image/png": "[encoded data removed]",
      "text/plain": [
       "<Figure size 864x432 with 1 Axes>"
      ]
     },
     "metadata": {},
     "output_type": "display_data"
    }
   ],
   "source": [
    "# Genre Analysis\n",
    "# Split genres into individual genre rows\n",
    "genre_counts = movies['genres'].str.split('|').explode().value_counts()\n",
    "\n",
    "plt.figure(figsize=(12, 6))\n",
    "sns.barplot(x=genre_counts.index, y=genre_counts.values, palette='viridis')\n",
    "plt.xticks(rotation=45)\n",
    "plt.title('Number of Movies per Genre')\n",
    "plt.xlabel('Genre')\n",
    "plt.ylabel('Count')\n",
    "plt.show()"
   ]
  },
  {
   "cell_type": "code",
   "execution_count": 118,
   "metadata": {
    "colab": {
     "base_uri": "https://localhost:8080/"
    },
    "id": "Jdpjj-GoOEa4",
    "outputId": "91658560-7bdb-43e4-f7e0-ce74e17fdbde"
   },
   "outputs": [
    {
     "data": {
      "image/png": "[encoded data removed]",
      "text/plain": [
       "<Figure size 720x432 with 1 Axes>"
      ]
     },
     "metadata": {},
     "output_type": "display_data"
    }
   ],
   "source": [
    "#Tag Frequency\n",
    "top_tags = tags['tag'].value_counts().head(20)\n",
    "\n",
    "plt.figure(figsize=(10, 6))\n",
    "sns.barplot(x=top_tags.values, y=top_tags.index, palette='viridis')\n",
    "plt.title('Top 20 Tags Used')\n",
    "plt.xlabel('Frequency')\n",
    "plt.ylabel('Tag')\n",
    "plt.show()\n"
   ]
  },
  {
   "cell_type": "markdown",
   "metadata": {
    "id": "ul9tOPFrbUCd"
   },
   "source": [
    "# Data Preprocessing\n"
   ]
  },
  {
   "cell_type": "markdown",
   "metadata": {
    "id": "UXVVjAUxzcKs"
   },
   "source": [
    "#Handling NaNs\n",
    "We begib by handling nans in our columns"
   ]
  },
  {
   "cell_type": "code",
   "execution_count": 119,
   "metadata": {
    "colab": {
     "base_uri": "https://localhost:8080/"
    },
    "id": "O4VuVS0C6JjO",
    "outputId": "acf5591e-50ca-439c-f1a5-31d7733abf50"
   },
   "outputs": [
    {
     "data": {
      "text/plain": [
       "movieId            0\n",
       "title            207\n",
       "genres           207\n",
       "userId            18\n",
       "rating           225\n",
       "timestamp_x      225\n",
       "tag            99219\n",
       "timestamp_y    99219\n",
       "date             225\n",
       "year             225\n",
       "dtype: int64"
      ]
     },
     "execution_count": 119,
     "metadata": {},
     "output_type": "execute_result"
    }
   ],
   "source": [
    "movie_data.isnull().sum()"
   ]
  },
  {
   "cell_type": "code",
   "execution_count": 120,
   "metadata": {
    "id": "M8wovNIizbKn"
   },
   "outputs": [],
   "source": [
    "#replace missing values\n",
    "movie_data['title'] = movie_data['title'].astype(str).fillna('')\n",
    "movie_data['tag'] = movie_data['tag'].astype(str).fillna('')\n",
    "movie_data['genres'] = movie_data['genres'].astype(str).fillna('')\n",
    "movie_data['rating'] = movie_data['rating'].fillna(movie_data['rating'].mean())\n",
    "movie_data = movie_data.dropna(subset=['userId'])"
   ]
  },
  {
   "cell_type": "markdown",
   "metadata": {
    "id": "0NyPbn5C73cq"
   },
   "source": [
    "## Encoding\n",
    "In this step we will encode categorical columns movieid, title, genres, userid, tag into numerical formats.\n",
    "Then we handle the multilabel column genres"
   ]
  },
  {
   "cell_type": "markdown",
   "metadata": {
    "id": "Y1EKrf--vw9d"
   },
   "source": [
    "1st we handle movieid, userid.We encode them into sequential integer indices This code will transform user and movie IDs into consistent encoded IDs like 0,1,2,3,4,5"
   ]
  },
  {
   "cell_type": "code",
   "execution_count": 121,
   "metadata": {
    "id": "ExC5PxnV7Wkw"
   },
   "outputs": [],
   "source": [
    "#movieid and userid\n",
    "user_encoder = LabelEncoder()\n",
    "movie_encoder = LabelEncoder()\n",
    "\n",
    "movie_data['userId_encoded'] = user_encoder.fit_transform(movie_data['userId'])\n",
    "movie_data['movieId_encoded'] = movie_encoder.fit_transform(movie_data['movieId'])"
   ]
  },
  {
   "cell_type": "markdown",
   "metadata": {
    "id": "dApjcQ-CcCw8"
   },
   "source": [
    "2nd we perform TF-IDF on the title and tag columns. This will convert text into numeric vectors that reflect how important each word is"
   ]
  },
  {
   "cell_type": "code",
   "execution_count": 122,
   "metadata": {
    "id": "pcZxLVfQbFdL"
   },
   "outputs": [],
   "source": [
    "#title and Tags\n",
    "tfidf = TfidfVectorizer(max_features=100)\n",
    "title_tfidf = tfidf.fit_transform(movie_data['title']).toarray()\n",
    "\n",
    "tag_vectorizer = TfidfVectorizer(max_features=100)\n",
    "tag_tfidf = tag_vectorizer.fit_transform(movie_data['tag'].fillna('')).toarray()\n",
    "\n"
   ]
  },
  {
   "cell_type": "markdown",
   "metadata": {
    "id": "bzWhkTj1wGbF"
   },
   "source": [
    "3rd we handle the genres column which is multi-label which means one movie can belong to more than one genre, we will convert it into multi-hot encoding"
   ]
  },
  {
   "cell_type": "code",
   "execution_count": 123,
   "metadata": {
    "id": "3vA6qltvvBdO"
   },
   "outputs": [],
   "source": [
    "#Fill NaNs and split genres\n",
    "movie_data['genres'] = movie_data['genres'].astype(str).fillna('')\n",
    "\n",
    "#Get all unique genres\n",
    "all_genres = set(g for genre_list in movie_data['genres'] for g in genre_list)\n",
    "\n",
    "#Create binary columns for each genre\n",
    "for genre in all_genres:\n",
    "    movie_data[f'genre_{genre}'] = movie_data['genres'].apply(lambda x: int(genre in x))\n"
   ]
  },
  {
   "cell_type": "markdown",
   "metadata": {
    "id": "Ac8CmmkJ76q3"
   },
   "source": [
    "##Standardization\n",
    "We normalize the numerical column rating.\n"
   ]
  },
  {
   "cell_type": "code",
   "execution_count": 124,
   "metadata": {
    "id": "5GxEgBJvunF8"
   },
   "outputs": [],
   "source": [
    "scaler = MinMaxScaler()\n",
    "movie_data['rating_normalized'] = scaler.fit_transform(movie_data[['rating']])"
   ]
  },
  {
   "cell_type": "code",
   "execution_count": 125,
   "metadata": {
    "colab": {
     "base_uri": "https://localhost:8080/"
    },
    "id": "t8mVGBGa4wdf",
    "outputId": "45a97164-d435-4328-85e4-518d7d32a6b5"
   },
   "outputs": [
    {
     "data": {
      "text/html": [
       "<div>\n",
       "<style scoped>\n",
       "    .dataframe tbody tr th:only-of-type {\n",
       "        vertical-align: middle;\n",
       "    }\n",
       "\n",
       "    .dataframe tbody tr th {\n",
       "        vertical-align: top;\n",
       "    }\n",
       "\n",
       "    .dataframe thead th {\n",
       "        text-align: right;\n",
       "    }\n",
       "</style>\n",
       "<table border=\"1\" class=\"dataframe\">\n",
       "  <thead>\n",
       "    <tr style=\"text-align: right;\">\n",
       "      <th></th>\n",
       "      <th>movieId</th>\n",
       "      <th>title</th>\n",
       "      <th>genres</th>\n",
       "      <th>userId</th>\n",
       "      <th>rating</th>\n",
       "      <th>timestamp_x</th>\n",
       "      <th>tag</th>\n",
       "      <th>timestamp_y</th>\n",
       "      <th>date</th>\n",
       "      <th>year</th>\n",
       "      <th>...</th>\n",
       "      <th>genre_|</th>\n",
       "      <th>genre_n</th>\n",
       "      <th>genre_s</th>\n",
       "      <th>genre_r</th>\n",
       "      <th>genre_i</th>\n",
       "      <th>genre_m</th>\n",
       "      <th>genre_H</th>\n",
       "      <th>genre_e</th>\n",
       "      <th>genre_h</th>\n",
       "      <th>rating_normalized</th>\n",
       "    </tr>\n",
       "  </thead>\n",
       "  <tbody>\n",
       "    <tr>\n",
       "      <th>0</th>\n",
       "      <td>1</td>\n",
       "      <td>Toy Story (1995)</td>\n",
       "      <td>Adventure|Animation|Children|Comedy|Fantasy</td>\n",
       "      <td>1.0</td>\n",
       "      <td>4.0</td>\n",
       "      <td>9.649827e+08</td>\n",
       "      <td>nan</td>\n",
       "      <td>NaN</td>\n",
       "      <td>2000-07-30</td>\n",
       "      <td>2000.0</td>\n",
       "      <td>...</td>\n",
       "      <td>1</td>\n",
       "      <td>1</td>\n",
       "      <td>1</td>\n",
       "      <td>1</td>\n",
       "      <td>1</td>\n",
       "      <td>1</td>\n",
       "      <td>0</td>\n",
       "      <td>1</td>\n",
       "      <td>1</td>\n",
       "      <td>0.777778</td>\n",
       "    </tr>\n",
       "    <tr>\n",
       "      <th>1</th>\n",
       "      <td>1</td>\n",
       "      <td>Toy Story (1995)</td>\n",
       "      <td>Adventure|Animation|Children|Comedy|Fantasy</td>\n",
       "      <td>5.0</td>\n",
       "      <td>4.0</td>\n",
       "      <td>8.474350e+08</td>\n",
       "      <td>nan</td>\n",
       "      <td>NaN</td>\n",
       "      <td>1996-11-08</td>\n",
       "      <td>1996.0</td>\n",
       "      <td>...</td>\n",
       "      <td>1</td>\n",
       "      <td>1</td>\n",
       "      <td>1</td>\n",
       "      <td>1</td>\n",
       "      <td>1</td>\n",
       "      <td>1</td>\n",
       "      <td>0</td>\n",
       "      <td>1</td>\n",
       "      <td>1</td>\n",
       "      <td>0.777778</td>\n",
       "    </tr>\n",
       "    <tr>\n",
       "      <th>2</th>\n",
       "      <td>1</td>\n",
       "      <td>Toy Story (1995)</td>\n",
       "      <td>Adventure|Animation|Children|Comedy|Fantasy</td>\n",
       "      <td>7.0</td>\n",
       "      <td>4.5</td>\n",
       "      <td>1.106636e+09</td>\n",
       "      <td>nan</td>\n",
       "      <td>NaN</td>\n",
       "      <td>2005-01-25</td>\n",
       "      <td>2005.0</td>\n",
       "      <td>...</td>\n",
       "      <td>1</td>\n",
       "      <td>1</td>\n",
       "      <td>1</td>\n",
       "      <td>1</td>\n",
       "      <td>1</td>\n",
       "      <td>1</td>\n",
       "      <td>0</td>\n",
       "      <td>1</td>\n",
       "      <td>1</td>\n",
       "      <td>0.888889</td>\n",
       "    </tr>\n",
       "    <tr>\n",
       "      <th>3</th>\n",
       "      <td>1</td>\n",
       "      <td>Toy Story (1995)</td>\n",
       "      <td>Adventure|Animation|Children|Comedy|Fantasy</td>\n",
       "      <td>15.0</td>\n",
       "      <td>2.5</td>\n",
       "      <td>1.510578e+09</td>\n",
       "      <td>nan</td>\n",
       "      <td>NaN</td>\n",
       "      <td>2017-11-13</td>\n",
       "      <td>2017.0</td>\n",
       "      <td>...</td>\n",
       "      <td>1</td>\n",
       "      <td>1</td>\n",
       "      <td>1</td>\n",
       "      <td>1</td>\n",
       "      <td>1</td>\n",
       "      <td>1</td>\n",
       "      <td>0</td>\n",
       "      <td>1</td>\n",
       "      <td>1</td>\n",
       "      <td>0.444444</td>\n",
       "    </tr>\n",
       "    <tr>\n",
       "      <th>4</th>\n",
       "      <td>1</td>\n",
       "      <td>Toy Story (1995)</td>\n",
       "      <td>Adventure|Animation|Children|Comedy|Fantasy</td>\n",
       "      <td>17.0</td>\n",
       "      <td>4.5</td>\n",
       "      <td>1.305696e+09</td>\n",
       "      <td>nan</td>\n",
       "      <td>NaN</td>\n",
       "      <td>2011-05-18</td>\n",
       "      <td>2011.0</td>\n",
       "      <td>...</td>\n",
       "      <td>1</td>\n",
       "      <td>1</td>\n",
       "      <td>1</td>\n",
       "      <td>1</td>\n",
       "      <td>1</td>\n",
       "      <td>1</td>\n",
       "      <td>0</td>\n",
       "      <td>1</td>\n",
       "      <td>1</td>\n",
       "      <td>0.888889</td>\n",
       "    </tr>\n",
       "  </tbody>\n",
       "</table>\n",
       "<p>5 rows × 48 columns</p>\n",
       "</div>"
      ],
      "text/plain": [
       "   movieId             title                                       genres  \\\n",
       "0        1  Toy Story (1995)  Adventure|Animation|Children|Comedy|Fantasy   \n",
       "1        1  Toy Story (1995)  Adventure|Animation|Children|Comedy|Fantasy   \n",
       "2        1  Toy Story (1995)  Adventure|Animation|Children|Comedy|Fantasy   \n",
       "3        1  Toy Story (1995)  Adventure|Animation|Children|Comedy|Fantasy   \n",
       "4        1  Toy Story (1995)  Adventure|Animation|Children|Comedy|Fantasy   \n",
       "\n",
       "   userId  rating   timestamp_x  tag  timestamp_y        date    year  ...  \\\n",
       "0     1.0     4.0  9.649827e+08  nan          NaN  2000-07-30  2000.0  ...   \n",
       "1     5.0     4.0  8.474350e+08  nan          NaN  1996-11-08  1996.0  ...   \n",
       "2     7.0     4.5  1.106636e+09  nan          NaN  2005-01-25  2005.0  ...   \n",
       "3    15.0     2.5  1.510578e+09  nan          NaN  2017-11-13  2017.0  ...   \n",
       "4    17.0     4.5  1.305696e+09  nan          NaN  2011-05-18  2011.0  ...   \n",
       "\n",
       "   genre_|  genre_n  genre_s  genre_r  genre_i  genre_m  genre_H  genre_e  \\\n",
       "0        1        1        1        1        1        1        0        1   \n",
       "1        1        1        1        1        1        1        0        1   \n",
       "2        1        1        1        1        1        1        0        1   \n",
       "3        1        1        1        1        1        1        0        1   \n",
       "4        1        1        1        1        1        1        0        1   \n",
       "\n",
       "   genre_h  rating_normalized  \n",
       "0        1           0.777778  \n",
       "1        1           0.777778  \n",
       "2        1           0.888889  \n",
       "3        1           0.444444  \n",
       "4        1           0.888889  \n",
       "\n",
       "[5 rows x 48 columns]"
      ]
     },
     "execution_count": 125,
     "metadata": {},
     "output_type": "execute_result"
    }
   ],
   "source": [
    "movie_data.head()"
   ]
  },
  {
   "cell_type": "markdown",
   "metadata": {
    "id": "4n6slz36pytk"
   },
   "source": [
    "# Modeling"
   ]
  },
  {
   "cell_type": "code",
   "execution_count": 126,
   "metadata": {},
   "outputs": [],
   "source": [
    "movie_data_processed = movie_data"
   ]
  },
  {
   "cell_type": "markdown",
   "metadata": {},
   "source": [
    "We shall start with KNN model as our baseline. The idea behind KNN is it assumes that similar things are usually close together. Since recommendation systems are all about finding and using those similarities, we thought this would be a solid place to start our analysis."
   ]
  },
  {
   "cell_type": "code",
   "execution_count": 127,
   "metadata": {},
   "outputs": [],
   "source": [
    "# Create a Reader object to define the format\n",
    "reader = Reader(rating_scale=(0.5, 5.0))\n",
    "\n",
    "# Load the dataset into Surprise format\n",
    "data = Dataset.load_from_df(movie_data_processed[['userId', 'movieId', 'rating']], reader)"
   ]
  },
  {
   "cell_type": "markdown",
   "metadata": {},
   "source": [
    "Splitting the data using 80/20 split"
   ]
  },
  {
   "cell_type": "code",
   "execution_count": 128,
   "metadata": {},
   "outputs": [],
   "source": [
    "trainset, testset = train_test_split(data, test_size=0.2, random_state=42)"
   ]
  },
  {
   "cell_type": "markdown",
   "metadata": {},
   "source": [
    "To address the cold start problem, let us first use the content based filtering first using KNNBasic"
   ]
  },
  {
   "cell_type": "code",
   "execution_count": 129,
   "metadata": {},
   "outputs": [
    {
     "name": "stdout",
     "output_type": "stream",
     "text": [
      "Computing the cosine similarity matrix...\n",
      "Done computing similarity matrix.\n"
     ]
    },
    {
     "data": {
      "text/plain": [
       "<surprise.prediction_algorithms.knns.KNNBasic at 0x134d81b6cd0>"
      ]
     },
     "execution_count": 129,
     "metadata": {},
     "output_type": "execute_result"
    }
   ],
   "source": [
    "# Item-based collaborative filtering (can also use item-based with sim_options)\n",
    "sim_options = {\n",
    "    'name': 'cosine',\n",
    "    'user_based': False  \n",
    "}\n",
    "\n",
    "# Build KNN model\n",
    "knn_model = KNNBasic(sim_options=sim_options)\n",
    "\n",
    "# Train the model\n",
    "knn_model.fit(trainset)\n"
   ]
  },
  {
   "cell_type": "markdown",
   "metadata": {},
   "source": [
    "Since we are using KNN to predict ratings, we shall use the RMSE and MAE metrics to evaluate how well the model performed.\n"
   ]
  },
  {
   "cell_type": "code",
   "execution_count": 130,
   "metadata": {},
   "outputs": [
    {
     "name": "stdout",
     "output_type": "stream",
     "text": [
      "RMSE: 0.9935\n",
      "MAE:  0.7722\n"
     ]
    }
   ],
   "source": [
    "# Make predictions\n",
    "predictions = knn_model.test(testset)\n",
    "\n",
    "# Evaluate\n",
    "rmse = accuracy.rmse(predictions)\n",
    "mae = accuracy.mae(predictions)\n"
   ]
  },
  {
   "cell_type": "markdown",
   "metadata": {},
   "source": [
    "We shall use cross-validation to gives a more reliable, less biased, and stable estimate of RMSE and MAE compared to a single train-test split."
   ]
  },
  {
   "cell_type": "code",
   "execution_count": 131,
   "metadata": {},
   "outputs": [
    {
     "name": "stdout",
     "output_type": "stream",
     "text": [
      "Computing the cosine similarity matrix...\n",
      "Done computing similarity matrix.\n",
      "Computing the cosine similarity matrix...\n",
      "Done computing similarity matrix.\n",
      "Computing the cosine similarity matrix...\n",
      "Done computing similarity matrix.\n",
      "Computing the cosine similarity matrix...\n",
      "Done computing similarity matrix.\n",
      "Computing the cosine similarity matrix...\n",
      "Done computing similarity matrix.\n",
      "Average RMSE: 0.9853\n",
      "Average MAE: 0.7672\n"
     ]
    }
   ],
   "source": [
    "cv_results = cross_validate(knn_model, data, measures=['RMSE', 'MAE'], cv=5, return_train_measures=True)\n",
    "rmse_knn = cv_results['test_rmse']\n",
    "mae_knn = cv_results['test_mae']\n",
    "print(f\"Average RMSE: {np.mean(rmse_knn):.4f}\")\n",
    "print(f\"Average MAE: {np.mean(mae_knn):.4f}\")"
   ]
  },
  {
   "cell_type": "markdown",
   "metadata": {},
   "source": [
    "From the above results, we can see that the predictions from the model are about 0.99 stars off using RMSE and 0.77 stars off using MAE. We can say that the model is on average one star off. This could be due to KNN’s struggles with very sparse datasets and its limitations when working with larger ones. To address these issues, we’ll now try a more advanced technique—Singular Value Decomposition (SVD). SVD is better equipped to handle sparsity and scale, so we’re hoping it will give us improved performance, especially lower RMSE and MAE scores."
   ]
  },
  {
   "cell_type": "code",
   "execution_count": 132,
   "metadata": {},
   "outputs": [
    {
     "name": "stdout",
     "output_type": "stream",
     "text": [
      "Average RMSE_SVD: 0.8643\n",
      "Average MAE_SVD: 0.6601\n"
     ]
    }
   ],
   "source": [
    "# Reading the data\n",
    "reader = Reader(rating_scale=(movie_data_processed['rating'].min(), movie_data_processed['rating'].max()))\n",
    "data = Dataset.load_from_df(movie_data_processed[['userId', 'movieId', 'rating']], reader)\n",
    "\n",
    "# Initializing the SVD algorithm\n",
    "svd = SVD()\n",
    "\n",
    "# Using cross-validation\n",
    "cv_results = cross_validate(svd, data, measures=['RMSE', 'MAE'], cv=5, return_train_measures=True)\n",
    "rmse_svd = cv_results['test_rmse']\n",
    "mae_svd = cv_results['test_mae']\n",
    "\n",
    "print(f\"Average RMSE_SVD: {np.mean(rmse_svd):.4f}\")\n",
    "print(f\"Average MAE_SVD: {np.mean(mae_svd):.4f}\")"
   ]
  },
  {
   "cell_type": "code",
   "execution_count": 136,
   "metadata": {},
   "outputs": [
    {
     "name": "stdout",
     "output_type": "stream",
     "text": [
      "RMSE improved by: 12.27%\n",
      "MAE improved by: 13.96%\n"
     ]
    }
   ],
   "source": [
    "# Comparing SVD results with KNN \n",
    "rmse_improvement = ((np.mean(rmse_knn) - np.mean(rmse_svd)) / np.mean(rmse_knn)) * 100\n",
    "mae_improvement =((np.mean(mae_knn) - np.mean(mae_svd)) / np.mean(mae_knn)) * 100\n",
    "\n",
    "print(f\"RMSE improved by: {rmse_improvement:.2f}%\")\n",
    "print(f\"MAE improved by: {mae_improvement:.2f}%\")"
   ]
  },
  {
   "cell_type": "markdown",
   "metadata": {},
   "source": [
    "From the above results, we can see a gain in predictive accuracy after using SVD. This shows that SVD is better at capturing the hidden structure in user–item interactions."
   ]
  },
  {
   "cell_type": "markdown",
   "metadata": {
    "id": "CFCjYMUzqSLi"
   },
   "source": [
    "## A. Collaborative Filtering( Matrix Factorization)"
   ]
  },
  {
   "cell_type": "markdown",
   "metadata": {
    "id": "GrcThNvIqdwk"
   },
   "source": [
    "## B. Content-Based Filtering (TF-IDF + Cosine Similarity)"
   ]
  },
  {
   "cell_type": "markdown",
   "metadata": {
    "id": "BB6-CJWZqk7r"
   },
   "source": [
    "#Evaluation"
   ]
  },
  {
   "cell_type": "markdown",
   "metadata": {
    "id": "rJhddsknqqjs"
   },
   "source": [
    "##A. Collaborative Filtering (RMSE)"
   ]
  },
  {
   "cell_type": "markdown",
   "metadata": {
    "id": "AqVH67KIqyJb"
   },
   "source": [
    "##B. Content-Based (Precision@K)"
   ]
  },
  {
   "cell_type": "markdown",
   "metadata": {
    "id": "a-p7tbaSq2Er"
   },
   "source": [
    "#Deployment"
   ]
  }
 ],
 "metadata": {
  "colab": {
   "provenance": [],
   "toc_visible": true
  },
  "kernelspec": {
   "display_name": "Python 3",
   "language": "python",
   "name": "python3"
  },
  "language_info": {
   "codemirror_mode": {
    "name": "ipython",
    "version": 3
   },
   "file_extension": ".py",
   "mimetype": "text/x-python",
   "name": "python",
   "nbconvert_exporter": "python",
   "pygments_lexer": "ipython3",
   "version": "3.8.5"
  }
 },
 "nbformat": 4,
 "nbformat_minor": 1
}
